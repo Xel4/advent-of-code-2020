{
  "nbformat": 4,
  "nbformat_minor": 0,
  "metadata": {
    "colab": {
      "name": "adventofcode2020.ipynb",
      "provenance": [],
      "collapsed_sections": [
        "-CYUzi-O5CJ-",
        "qd96OkfUz5YC",
        "bK_E3WdAC0YS",
        "C0KMjN2HH_rA",
        "hy_xUPehoEvV",
        "1IRmu22Udtf9",
        "Wxg6x8qrmhCV",
        "amnou2lBwqVT",
        "9KmbSxmz5xJ0",
        "4GC9GhDJBcli",
        "jO3NNr4ZM0wi"
      ],
      "toc_visible": true,
      "mount_file_id": "1vh1iW-QX0-Oa81ZcGA7A5anHm1xTj-wK",
      "authorship_tag": "ABX9TyOCYV88Mw6Gkjthf7kHobEz",
      "include_colab_link": true
    },
    "kernelspec": {
      "name": "python3",
      "display_name": "Python 3"
    }
  },
  "cells": [
    {
      "cell_type": "markdown",
      "metadata": {
        "id": "view-in-github",
        "colab_type": "text"
      },
      "source": [
        "<a href=\"https://colab.research.google.com/github/Xel4/advent-of-code-2020/blob/main/adventofcode2020.ipynb\" target=\"_parent\"><img src=\"https://colab.research.google.com/assets/colab-badge.svg\" alt=\"Open In Colab\"/></a>"
      ]
    },
    {
      "cell_type": "markdown",
      "metadata": {
        "id": "-CYUzi-O5CJ-"
      },
      "source": [
        "# Day 1: Report Repair"
      ]
    },
    {
      "cell_type": "code",
      "metadata": {
        "id": "I9DXypyvXRoT"
      },
      "source": [
        "with open(\"./drive/MyDrive/AoC2020/1/input.txt\") as input:\r\n",
        "  numbers = tuple(map(int, input.read().splitlines()))"
      ],
      "execution_count": 1,
      "outputs": []
    },
    {
      "cell_type": "code",
      "metadata": {
        "colab": {
          "base_uri": "https://localhost:8080/"
        },
        "id": "20XinPhfzJPN",
        "outputId": "40d86b38-9a21-4f35-e716-c679458ecd5f"
      },
      "source": [
        "%%time\n",
        "for x in numbers:\n",
        "  for y in numbers:\n",
        "    if x + y == 2020:\n",
        "      print(x * y)\n",
        "      break\n",
        "  else:\n",
        "    continue\n",
        "  break"
      ],
      "execution_count": 2,
      "outputs": [
        {
          "output_type": "stream",
          "text": [
            "197451\n",
            "CPU times: user 4.28 ms, sys: 295 µs, total: 4.58 ms\n",
            "Wall time: 4.72 ms\n"
          ],
          "name": "stdout"
        }
      ]
    },
    {
      "cell_type": "code",
      "metadata": {
        "colab": {
          "base_uri": "https://localhost:8080/"
        },
        "id": "7pbSksNc-Zqm",
        "outputId": "fd194c19-af56-479f-9422-0482482acf7f"
      },
      "source": [
        "%%time\n",
        "for x in numbers:\n",
        "  for y in numbers:\n",
        "    for z in numbers:\n",
        "      if x + y + z == 2020:\n",
        "        print(x * y * z)\n",
        "        break\n",
        "    else:\n",
        "      continue\n",
        "    break\n",
        "  else:\n",
        "    continue\n",
        "  break"
      ],
      "execution_count": 3,
      "outputs": [
        {
          "output_type": "stream",
          "text": [
            "138233720\n",
            "CPU times: user 286 ms, sys: 0 ns, total: 286 ms\n",
            "Wall time: 293 ms\n"
          ],
          "name": "stdout"
        }
      ]
    },
    {
      "cell_type": "markdown",
      "metadata": {
        "id": "qd96OkfUz5YC"
      },
      "source": [
        "# Day 2: Password Philosophy"
      ]
    },
    {
      "cell_type": "code",
      "metadata": {
        "id": "9nC20_NoaiiB"
      },
      "source": [
        "with open(\"./drive/MyDrive/AoC2020/2/input.txt\") as input:\r\n",
        "  passwords = tuple(input.read().splitlines())"
      ],
      "execution_count": 4,
      "outputs": []
    },
    {
      "cell_type": "code",
      "metadata": {
        "id": "0XhJrGwH1eTi",
        "colab": {
          "base_uri": "https://localhost:8080/"
        },
        "outputId": "b5aa6f88-d133-41d5-a3d5-d3948ef12c06"
      },
      "source": [
        "%%time\n",
        "valid = 0\n",
        "for password in passwords:\n",
        "  count = 0\n",
        "  for character in password.split(\": \")[1]:\n",
        "    if character == password.split(\" \")[1][0]:\n",
        "      count += 1\n",
        "  if count >= int(password.split(\"-\")[0]) and count <= int(password.split(\"-\")[1].split(\" \")[0]):\n",
        "    valid += 1\n",
        "print(valid)"
      ],
      "execution_count": 5,
      "outputs": [
        {
          "output_type": "stream",
          "text": [
            "548\n",
            "CPU times: user 10.6 ms, sys: 0 ns, total: 10.6 ms\n",
            "Wall time: 13.7 ms\n"
          ],
          "name": "stdout"
        }
      ]
    },
    {
      "cell_type": "code",
      "metadata": {
        "id": "iZgVC4Lj6OyB",
        "colab": {
          "base_uri": "https://localhost:8080/"
        },
        "outputId": "d79f3bfe-ddd1-400e-e862-58208b5785ae"
      },
      "source": [
        "%%time\n",
        "valid = 0\n",
        "for password in passwords:\n",
        "  check = password.split(\" \")[1][0]\n",
        "  first = password.split(\": \")[1][int(password.split(\"-\")[0]) - 1]\n",
        "  second = password.split(\": \")[1][int(password.split(\"-\")[1].split(\" \")[0]) - 1]\n",
        "  if (first == check and second != check) or (first != check and second == check):\n",
        "    valid += 1\n",
        "print(valid)"
      ],
      "execution_count": 6,
      "outputs": [
        {
          "output_type": "stream",
          "text": [
            "502\n",
            "CPU times: user 4.29 ms, sys: 51 µs, total: 4.34 ms\n",
            "Wall time: 4.73 ms\n"
          ],
          "name": "stdout"
        }
      ]
    },
    {
      "cell_type": "markdown",
      "metadata": {
        "id": "bK_E3WdAC0YS"
      },
      "source": [
        "# Day 3: Toboggan Trajectory"
      ]
    },
    {
      "cell_type": "code",
      "metadata": {
        "id": "9FBAatJibTlx"
      },
      "source": [
        "def slope(h, v, grid):\r\n",
        "  y = 0\r\n",
        "  x = 0\r\n",
        "  trees = 0\r\n",
        "  while y < len(grid):\r\n",
        "    if x >= len(grid[0]):\r\n",
        "      grid = [x + x for x in grid]\r\n",
        "    if grid[y][x] == '#':\r\n",
        "      trees += 1\r\n",
        "    x += h\r\n",
        "    y += v\r\n",
        "  return trees\r\n",
        "\r\n",
        "with open(\"./drive/MyDrive/AoC2020/3/input.txt\") as input:\r\n",
        "  grid = tuple(input.read().splitlines())"
      ],
      "execution_count": 7,
      "outputs": []
    },
    {
      "cell_type": "code",
      "metadata": {
        "id": "zGTRVjCJC2S8",
        "colab": {
          "base_uri": "https://localhost:8080/"
        },
        "outputId": "69b8aaa3-01db-48f6-cd0a-ab33d6417a88"
      },
      "source": [
        "%%time\n",
        "print(slope(3, 1, grid))"
      ],
      "execution_count": 8,
      "outputs": [
        {
          "output_type": "stream",
          "text": [
            "176\n",
            "CPU times: user 1.27 ms, sys: 0 ns, total: 1.27 ms\n",
            "Wall time: 2.28 ms\n"
          ],
          "name": "stdout"
        }
      ]
    },
    {
      "cell_type": "code",
      "metadata": {
        "id": "U7WhebEKGYIf",
        "colab": {
          "base_uri": "https://localhost:8080/"
        },
        "outputId": "6cce0178-1d14-42d1-c6b5-3f5b9dbb402b"
      },
      "source": [
        "%%time\n",
        "multiplied = 1\n",
        "for h, v in [(1, 1), (3, 1), (5, 1), (7, 1), (1, 2)]:\n",
        "  multiplied *= slope(h, v, grid)\n",
        "print(multiplied)"
      ],
      "execution_count": 9,
      "outputs": [
        {
          "output_type": "stream",
          "text": [
            "5872458240\n",
            "CPU times: user 4.25 ms, sys: 0 ns, total: 4.25 ms\n",
            "Wall time: 6.13 ms\n"
          ],
          "name": "stdout"
        }
      ]
    },
    {
      "cell_type": "markdown",
      "metadata": {
        "id": "C0KMjN2HH_rA"
      },
      "source": [
        "# Day 4: Passport Processing"
      ]
    },
    {
      "cell_type": "code",
      "metadata": {
        "id": "yjWMeDYycliv"
      },
      "source": [
        "def is_valid(passport):\r\n",
        "  return all(x in passport for x in [\"byr\", \"iyr\", \"eyr\", \"hgt\", \"hcl\", \"ecl\", \"pid\"])\r\n",
        "\r\n",
        "with open(\"./drive/MyDrive/AoC2020/4/input.txt\") as input:\r\n",
        "  batch = tuple(input.read().split(\"\\n\\n\"))"
      ],
      "execution_count": 10,
      "outputs": []
    },
    {
      "cell_type": "code",
      "metadata": {
        "id": "Kb1KmZ_FIFj_",
        "colab": {
          "base_uri": "https://localhost:8080/"
        },
        "outputId": "bf1fb19a-5f05-4562-e8f0-4dd6b874dce0"
      },
      "source": [
        "%%time\n",
        "print(sum(is_valid(passport) for passport in batch))"
      ],
      "execution_count": 11,
      "outputs": [
        {
          "output_type": "stream",
          "text": [
            "256\n",
            "CPU times: user 768 µs, sys: 642 µs, total: 1.41 ms\n",
            "Wall time: 2.24 ms\n"
          ],
          "name": "stdout"
        }
      ]
    },
    {
      "cell_type": "code",
      "metadata": {
        "id": "EhII3x0tKVk_",
        "colab": {
          "base_uri": "https://localhost:8080/"
        },
        "outputId": "1856746c-8e72-4359-aee0-6b1065ef4594"
      },
      "source": [
        "%%time\n",
        "valid = 0\n",
        "for passport in batch:\n",
        "  if is_valid(passport):\n",
        "    fields = dict([x.split(\":\") for x in passport.split()])\n",
        "    validation = int(fields[\"byr\"]) >= 1920 and int(fields[\"byr\"]) <= 2002\n",
        "    validation = validation and int(fields[\"iyr\"]) >= 2010 and int(fields[\"iyr\"]) <= 2020\n",
        "    validation = validation and int(fields[\"eyr\"]) >= 2020 and int(fields[\"eyr\"]) <= 2030\n",
        "    if fields[\"hgt\"][-2:] == \"cm\":\n",
        "      validation = validation and int(fields[\"hgt\"][:-2]) >= 150 and int(fields[\"hgt\"][:-2]) <= 193\n",
        "    elif fields[\"hgt\"][-2:] == \"in\":\n",
        "      validation = validation and int(fields[\"hgt\"][:-2]) >= 59 and int(fields[\"hgt\"][:-2]) <= 76\n",
        "    else:\n",
        "      validation = False\n",
        "    validation = validation and fields[\"hcl\"][0] == \"#\" and len(fields[\"hcl\"]) == 7 and set(fields[\"hcl\"][1:]) <= set(\"1234567890abcdef\")\n",
        "    validation = validation and fields[\"ecl\"] in [\"amb\", \"blu\", \"brn\", \"gry\", \"grn\", \"hzl\", \"oth\"]\n",
        "    validation = validation and len(fields[\"pid\"]) == 9\n",
        "    if validation:\n",
        "      valid += 1\n",
        "print(valid)"
      ],
      "execution_count": 12,
      "outputs": [
        {
          "output_type": "stream",
          "text": [
            "198\n",
            "CPU times: user 2.84 ms, sys: 0 ns, total: 2.84 ms\n",
            "Wall time: 2.85 ms\n"
          ],
          "name": "stdout"
        }
      ]
    },
    {
      "cell_type": "markdown",
      "metadata": {
        "id": "hy_xUPehoEvV"
      },
      "source": [
        "# Day 5: Binary Boarding"
      ]
    },
    {
      "cell_type": "code",
      "metadata": {
        "id": "m3wAB0FQ4NBb"
      },
      "source": [
        "def decode(seat):\n",
        "  return int(seat.replace(\"F\", \"0\").replace(\"L\", \"0\").replace(\"B\", \"1\").replace(\"R\", \"1\"), 2)\n",
        "\n",
        "with open(\"./drive/MyDrive/AoC2020/5/input.txt\") as input:\n",
        "  seats = tuple(input.read().splitlines())"
      ],
      "execution_count": 13,
      "outputs": []
    },
    {
      "cell_type": "code",
      "metadata": {
        "id": "RfKurHABoF4q",
        "colab": {
          "base_uri": "https://localhost:8080/"
        },
        "outputId": "76562888-7a46-44b7-8ac5-b815d7334017"
      },
      "source": [
        "%%time\r\n",
        "print(max(decode(seat) for seat in seats))"
      ],
      "execution_count": 14,
      "outputs": [
        {
          "output_type": "stream",
          "text": [
            "848\n",
            "CPU times: user 1.44 ms, sys: 0 ns, total: 1.44 ms\n",
            "Wall time: 1.65 ms\n"
          ],
          "name": "stdout"
        }
      ]
    },
    {
      "cell_type": "code",
      "metadata": {
        "id": "qxTQG0jS19dM",
        "colab": {
          "base_uri": "https://localhost:8080/"
        },
        "outputId": "defd3ea1-91ba-4af3-f7a3-5451277cbb5f"
      },
      "source": [
        "%%time\n",
        "seats_set = set(decode(seat) for seat in seats)\n",
        "print((set(range(min(seats_set), max(seats_set))) - seats_set).pop())"
      ],
      "execution_count": 15,
      "outputs": [
        {
          "output_type": "stream",
          "text": [
            "682\n",
            "CPU times: user 1.92 ms, sys: 0 ns, total: 1.92 ms\n",
            "Wall time: 2.02 ms\n"
          ],
          "name": "stdout"
        }
      ]
    },
    {
      "cell_type": "markdown",
      "metadata": {
        "id": "1IRmu22Udtf9"
      },
      "source": [
        "# Day 6: Custom Customs"
      ]
    },
    {
      "cell_type": "code",
      "metadata": {
        "id": "I0EgDNE9dzlR"
      },
      "source": [
        "with open(\"./drive/MyDrive/AoC2020/6/input.txt\") as input:\n",
        "  groups = tuple(input.read().split(\"\\n\\n\"))"
      ],
      "execution_count": 16,
      "outputs": []
    },
    {
      "cell_type": "code",
      "metadata": {
        "id": "Q2g0TOhVeImE",
        "colab": {
          "base_uri": "https://localhost:8080/"
        },
        "outputId": "ffd537d7-1a4c-4784-8cea-e5517721d0f0"
      },
      "source": [
        "%%time\n",
        "print(sum(len(set(group.replace(\"\\n\", \"\"))) for group in groups))"
      ],
      "execution_count": 17,
      "outputs": [
        {
          "output_type": "stream",
          "text": [
            "6680\n",
            "CPU times: user 968 µs, sys: 0 ns, total: 968 µs\n",
            "Wall time: 960 µs\n"
          ],
          "name": "stdout"
        }
      ]
    },
    {
      "cell_type": "code",
      "metadata": {
        "id": "_z0ccYDMfbNo",
        "colab": {
          "base_uri": "https://localhost:8080/"
        },
        "outputId": "41a59b44-86ef-4d51-a186-174631a3ceb7"
      },
      "source": [
        "%%time\n",
        "print(sum(len(set.intersection(*[set(person) for person in group.split(\"\\n\")])) for group in groups))"
      ],
      "execution_count": 18,
      "outputs": [
        {
          "output_type": "stream",
          "text": [
            "3112\n",
            "CPU times: user 2.77 ms, sys: 818 µs, total: 3.59 ms\n",
            "Wall time: 4.21 ms\n"
          ],
          "name": "stdout"
        }
      ]
    },
    {
      "cell_type": "markdown",
      "metadata": {
        "id": "Wxg6x8qrmhCV"
      },
      "source": [
        "# Day 7: Handy Haversacks"
      ]
    },
    {
      "cell_type": "code",
      "metadata": {
        "id": "As_-vs81mkof"
      },
      "source": [
        "with open(\"./drive/MyDrive/AoC2020/7/input.txt\") as input:\n",
        "  rules = dict((rule[0], tuple((bag, int(count)) for count, bag in (bags.split(\" \", 1) for bags in rule[1].split(\", \")))) for rule in (rule_text.split(\" contain \") for rule_text in input.read().replace(\".\", \"\").replace(\"no\", \"0\").replace(\" bags\", \"\").replace(\" bag\", \"\").splitlines()))"
      ],
      "execution_count": 19,
      "outputs": []
    },
    {
      "cell_type": "code",
      "metadata": {
        "id": "FPrt2aC66GL_",
        "colab": {
          "base_uri": "https://localhost:8080/"
        },
        "outputId": "d350892b-1b5f-4358-f379-2c0003ebb42b"
      },
      "source": [
        "%%time\n",
        "def contains_bag(bags, the_bag):\n",
        "  if bags == the_bag:\n",
        "    return True\n",
        "  for bag, amount in rules[bags]:\n",
        "    if amount and contains_bag(bag, the_bag):\n",
        "      return True\n",
        "  return False\n",
        "\n",
        "count = 0\n",
        "for bag in rules:\n",
        "  count += contains_bag(bag, \"shiny gold\")\n",
        "print(count - 1)"
      ],
      "execution_count": 20,
      "outputs": [
        {
          "output_type": "stream",
          "text": [
            "161\n",
            "CPU times: user 90.9 ms, sys: 0 ns, total: 90.9 ms\n",
            "Wall time: 91.9 ms\n"
          ],
          "name": "stdout"
        }
      ]
    },
    {
      "cell_type": "code",
      "metadata": {
        "id": "_WbrlJvV6K7l",
        "colab": {
          "base_uri": "https://localhost:8080/"
        },
        "outputId": "ea986213-a21d-456f-8540-afd43003df9f"
      },
      "source": [
        "%%time\n",
        "def count_bags(bags):\n",
        "  count = 1\n",
        "  for bag, amount in rules[bags]:\n",
        "    for _ in range(amount):\n",
        "      count += count_bags(bag)\n",
        "  return count\n",
        "\n",
        "print(count_bags(\"shiny gold\") - 1)"
      ],
      "execution_count": 21,
      "outputs": [
        {
          "output_type": "stream",
          "text": [
            "30899\n",
            "CPU times: user 17.5 ms, sys: 852 µs, total: 18.4 ms\n",
            "Wall time: 18.6 ms\n"
          ],
          "name": "stdout"
        }
      ]
    },
    {
      "cell_type": "markdown",
      "metadata": {
        "id": "amnou2lBwqVT"
      },
      "source": [
        "# Day 8: Handheld Halting"
      ]
    },
    {
      "cell_type": "code",
      "metadata": {
        "id": "kXvvcuYcwuUr"
      },
      "source": [
        "with open(\"./drive/MyDrive/AoC2020/8/input.txt\") as input:\n",
        "  program = tuple((instruction[0], int(instruction[1])) for instruction in (line.split(\" \") for line in input.read().splitlines()))"
      ],
      "execution_count": 22,
      "outputs": []
    },
    {
      "cell_type": "code",
      "metadata": {
        "id": "qdQIffQPyuYM",
        "colab": {
          "base_uri": "https://localhost:8080/"
        },
        "outputId": "6421b683-5c9e-4f35-cd33-5551e7accf1c"
      },
      "source": [
        "%%time\n",
        "acc = 0\n",
        "pc = 0\n",
        "history = set()\n",
        "while not pc in history:\n",
        "  history.add(pc)\n",
        "  (op, arg) = program[pc]\n",
        "  if op == \"acc\":\n",
        "    acc += arg\n",
        "    pc += 1\n",
        "  elif op == \"jmp\":\n",
        "    pc += arg\n",
        "  elif op == \"nop\":\n",
        "    pc += 1\n",
        "print(acc)"
      ],
      "execution_count": 23,
      "outputs": [
        {
          "output_type": "stream",
          "text": [
            "1548\n",
            "CPU times: user 855 µs, sys: 0 ns, total: 855 µs\n",
            "Wall time: 2.13 ms\n"
          ],
          "name": "stdout"
        }
      ]
    },
    {
      "cell_type": "code",
      "metadata": {
        "id": "Rje_qSa024te",
        "colab": {
          "base_uri": "https://localhost:8080/"
        },
        "outputId": "07a92abc-42a8-41d0-9462-08ef2c8b4383"
      },
      "source": [
        "%%time\n",
        "def swap_jmp_nop(program, index):\n",
        "  if program[index][0] == \"jmp\":\n",
        "    program[index] = (\"nop\", program[index][1])\n",
        "  elif program[index][0] == \"nop\":\n",
        "    program[index] = (\"jmp\", program[index][1])\n",
        "  return program\n",
        "\n",
        "def fix_program(program):\n",
        "  last = None\n",
        "  for i, instruction in enumerate(program):\n",
        "    if instruction[0] != \"acc\":\n",
        "      if last != None:\n",
        "        program = swap_jmp_nop(program, last)\n",
        "      last = i\n",
        "      program = swap_jmp_nop(program, i)\n",
        "      yield program\n",
        "  if last != None:\n",
        "    program = swap_jmp_nop(program, last)\n",
        "\n",
        "def fixed_acc(program):\n",
        "  program = list(program)\n",
        "  for fixed in fix_program(program):\n",
        "    acc = 0\n",
        "    pc = 0\n",
        "    history = set()\n",
        "    while not pc in history:\n",
        "      if pc >= len(fixed):\n",
        "        return acc\n",
        "      history.add(pc)\n",
        "      (op, arg) = fixed[pc]\n",
        "      if op == \"acc\":\n",
        "        acc += arg\n",
        "        pc += 1\n",
        "      elif op == \"jmp\":\n",
        "        pc += arg\n",
        "      elif op == \"nop\":\n",
        "        pc += 1\n",
        "\n",
        "print(fixed_acc(program))"
      ],
      "execution_count": 24,
      "outputs": [
        {
          "output_type": "stream",
          "text": [
            "1375\n",
            "CPU times: user 6.68 ms, sys: 0 ns, total: 6.68 ms\n",
            "Wall time: 6.63 ms\n"
          ],
          "name": "stdout"
        }
      ]
    },
    {
      "cell_type": "markdown",
      "metadata": {
        "id": "9KmbSxmz5xJ0"
      },
      "source": [
        "# Day 9: Encoding Error"
      ]
    },
    {
      "cell_type": "code",
      "metadata": {
        "id": "_macUt9z_184"
      },
      "source": [
        "def is_valid(i, number):\r\n",
        "  for a in numbers[i - preamble:i]:\r\n",
        "    for b in numbers[i - preamble:i]:\r\n",
        "      if a + b == number and not a == b:\r\n",
        "        return True\r\n",
        "  return False\r\n",
        "\r\n",
        "def find_invalid():\r\n",
        "  for i, number in enumerate(numbers):\r\n",
        "    if i > preamble:\r\n",
        "      if not is_valid(i, number):\r\n",
        "        return number\r\n",
        "\r\n",
        "with open(\"./drive/MyDrive/AoC2020/9/input.txt\") as input:\r\n",
        "  numbers = tuple(map(int, input.read().splitlines()))\r\n",
        "preamble = 25"
      ],
      "execution_count": 25,
      "outputs": []
    },
    {
      "cell_type": "code",
      "metadata": {
        "id": "JROsOtae5yOx",
        "colab": {
          "base_uri": "https://localhost:8080/"
        },
        "outputId": "e2be2063-a1ba-4284-ebbc-51086db1c603"
      },
      "source": [
        "%%time\r\n",
        "print(find_invalid())"
      ],
      "execution_count": 26,
      "outputs": [
        {
          "output_type": "stream",
          "text": [
            "22477624\n",
            "CPU times: user 2.56 ms, sys: 91 µs, total: 2.65 ms\n",
            "Wall time: 2.65 ms\n"
          ],
          "name": "stdout"
        }
      ]
    },
    {
      "cell_type": "code",
      "metadata": {
        "id": "C0nZ_U3L_0di",
        "colab": {
          "base_uri": "https://localhost:8080/"
        },
        "outputId": "562c0a0c-d9e6-4880-98ce-757b3f2b2fd2"
      },
      "source": [
        "%%time\r\n",
        "def sum_to_invalid(number):\r\n",
        "  for a in range(len(numbers)):\r\n",
        "    for b in range(a, len(numbers)):\r\n",
        "      if sum(numbers[a:b]) == number:\r\n",
        "        return min(numbers[a:b]) + max(numbers[a:b])\r\n",
        "\r\n",
        "print(sum_to_invalid(find_invalid()))"
      ],
      "execution_count": 27,
      "outputs": [
        {
          "output_type": "stream",
          "text": [
            "2980044\n",
            "CPU times: user 1.03 s, sys: 3.63 ms, total: 1.04 s\n",
            "Wall time: 1.05 s\n"
          ],
          "name": "stdout"
        }
      ]
    },
    {
      "cell_type": "markdown",
      "metadata": {
        "id": "4GC9GhDJBcli"
      },
      "source": [
        "# Day 10: Adapter Array"
      ]
    },
    {
      "cell_type": "code",
      "metadata": {
        "id": "TsDVsJ6mBdhc"
      },
      "source": [
        "with open(\"./drive/MyDrive/AoC2020/10/input.txt\") as input:\r\n",
        "  adapters = tuple(map(int, input.read().split()))"
      ],
      "execution_count": 28,
      "outputs": []
    },
    {
      "cell_type": "code",
      "metadata": {
        "id": "QVp5yHaIFYxY",
        "colab": {
          "base_uri": "https://localhost:8080/"
        },
        "outputId": "1efa9327-7db9-4e52-8b89-adfdba6b1582"
      },
      "source": [
        "%%time\r\n",
        "adapters_sorted = list(adapters)\r\n",
        "adapters_sorted.sort()\r\n",
        "diff1 = 0\r\n",
        "diff3 = 1\r\n",
        "last = 0\r\n",
        "for jolt in adapters_sorted:\r\n",
        "  if jolt - last == 1:\r\n",
        "    diff1 += 1\r\n",
        "  elif jolt - last == 3:\r\n",
        "    diff3 += 1\r\n",
        "  last = jolt\r\n",
        "print(diff1 * diff3)"
      ],
      "execution_count": 29,
      "outputs": [
        {
          "output_type": "stream",
          "text": [
            "1980\n",
            "CPU times: user 145 µs, sys: 16 µs, total: 161 µs\n",
            "Wall time: 169 µs\n"
          ],
          "name": "stdout"
        }
      ]
    },
    {
      "cell_type": "code",
      "metadata": {
        "id": "oemMYh3PQn2T",
        "colab": {
          "base_uri": "https://localhost:8080/"
        },
        "outputId": "f8cafffa-2e75-40e8-e07d-b407fa17582a"
      },
      "source": [
        "%%time\r\n",
        "connections = {0: 1}\r\n",
        "def combinations(jolts, last):\r\n",
        "  if not last in connections:\r\n",
        "    connections[last] = sum(combinations({next for next in jolts if next < jolt}, jolt) for jolt in jolts if last - jolt <= 3)\r\n",
        "  return connections[last]\r\n",
        "\r\n",
        "print(combinations(set(adapters + (0,)), max(adapters) + 3))"
      ],
      "execution_count": 30,
      "outputs": [
        {
          "output_type": "stream",
          "text": [
            "4628074479616\n",
            "CPU times: user 688 µs, sys: 1.87 ms, total: 2.55 ms\n",
            "Wall time: 2.55 ms\n"
          ],
          "name": "stdout"
        }
      ]
    },
    {
      "cell_type": "markdown",
      "metadata": {
        "id": "jO3NNr4ZM0wi"
      },
      "source": [
        "# Day 11: Seating System"
      ]
    },
    {
      "cell_type": "code",
      "metadata": {
        "id": "ALISdUZRZ6aE"
      },
      "source": [
        "def update(layout, tolerance):\r\n",
        "  updated = [list(row) for row in layout]\r\n",
        "  for row in range(len(layout)):\r\n",
        "    for column in range(len(layout[0])):\r\n",
        "      if layout[row][column] == \"L\" and adjacent(layout, row, column) == 0:\r\n",
        "        updated[row][column] = \"#\"\r\n",
        "      elif layout[row][column] == \"#\" and adjacent(layout, row, column) >= tolerance:\r\n",
        "        updated[row][column] = \"L\"\r\n",
        "  return updated\r\n",
        "\r\n",
        "def count_occupied(layout, tolerance):\r\n",
        "  last_layout = []\r\n",
        "  while last_layout != layout:\r\n",
        "    last_layout = layout\r\n",
        "    layout = update(layout, tolerance)\r\n",
        "  count = 0\r\n",
        "  for row in layout:\r\n",
        "    for seat in row:\r\n",
        "      if seat == \"#\":\r\n",
        "        count += 1\r\n",
        "  return count\r\n",
        "\r\n",
        "with open(\"./drive/MyDrive/AoC2020/11/input.txt\") as input:\r\n",
        "  layout = tuple(input.read().splitlines())"
      ],
      "execution_count": 31,
      "outputs": []
    },
    {
      "cell_type": "code",
      "metadata": {
        "id": "hbjvK8l2M2Yq",
        "colab": {
          "base_uri": "https://localhost:8080/"
        },
        "outputId": "4fa815b7-0859-4498-812b-0b1b89eafb07"
      },
      "source": [
        "%%time\r\n",
        "def adjacent(layout, row, column):\r\n",
        "  count = 0\r\n",
        "  for i in range(-1 if row > 0 else 0, 2 if row < len(layout) - 1 else 1):\r\n",
        "    for j in range(-1 if column > 0 else 0, 2 if column < len(layout[0]) - 1 else 1):\r\n",
        "      if (i or j) and layout[row + i][column + j] == \"#\":\r\n",
        "        count += 1\r\n",
        "  return count\r\n",
        "\r\n",
        "print(count_occupied(layout, 4))"
      ],
      "execution_count": 32,
      "outputs": [
        {
          "output_type": "stream",
          "text": [
            "2108\n",
            "CPU times: user 1.26 s, sys: 2.46 ms, total: 1.26 s\n",
            "Wall time: 1.28 s\n"
          ],
          "name": "stdout"
        }
      ]
    },
    {
      "cell_type": "code",
      "metadata": {
        "id": "Z_pL5_wHZ3kF",
        "colab": {
          "base_uri": "https://localhost:8080/"
        },
        "outputId": "fe64b616-3053-4a18-eb40-566374df7101"
      },
      "source": [
        "%%time\r\n",
        "def visible(layout, row, column, x, y):\r\n",
        "  while row + x > -1 and row + x < len(layout) and column + y > -1 and column + y < len(layout[0]) and layout[row + x][column + y] != \"L\":\r\n",
        "    if layout[row + x][column + y] == \"#\":\r\n",
        "      return True\r\n",
        "    row += x\r\n",
        "    column += y\r\n",
        "  return False\r\n",
        "\r\n",
        "def adjacent(layout, row, column):\r\n",
        "  count = 0\r\n",
        "  for i in range(-1, 2):\r\n",
        "    for j in range(-1, 2):\r\n",
        "      if i or j:\r\n",
        "        if visible(layout, row, column, i, j):\r\n",
        "          count += 1\r\n",
        "  return count\r\n",
        "\r\n",
        "print(count_occupied(layout, 5))"
      ],
      "execution_count": 33,
      "outputs": [
        {
          "output_type": "stream",
          "text": [
            "1897\n",
            "CPU times: user 3.33 s, sys: 807 µs, total: 3.33 s\n",
            "Wall time: 3.35 s\n"
          ],
          "name": "stdout"
        }
      ]
    },
    {
      "cell_type": "markdown",
      "metadata": {
        "id": "Wrv0brTItPlf"
      },
      "source": [
        "# Day 12: Rain Risk"
      ]
    },
    {
      "cell_type": "code",
      "metadata": {
        "id": "5PZYQctxtS9r"
      },
      "source": [
        "with open(\"./drive/MyDrive/AoC2020/12/input.txt\") as input:\r\n",
        "  instructions = tuple((instruction[0], int(instruction[1:])) for instruction in input.read().split())"
      ],
      "execution_count": 34,
      "outputs": []
    },
    {
      "cell_type": "code",
      "metadata": {
        "id": "eRhgc9c_weqE",
        "colab": {
          "base_uri": "https://localhost:8080/"
        },
        "outputId": "fb0e7f5f-a93a-4006-e9c7-7accf3bfa2aa"
      },
      "source": [
        "%%time\r\n",
        "directions = {\r\n",
        "    -3: \"N\",\r\n",
        "    -2: \"W\",\r\n",
        "    -1: \"S\",\r\n",
        "    0: \"E\",\r\n",
        "    1: \"N\",\r\n",
        "    2: \"W\",\r\n",
        "    3: \"S\"\r\n",
        "}\r\n",
        "\r\n",
        "move = {\r\n",
        "    \"N\": lambda value, ship: ship[:1] + (ship[1] + value,) + ship[2:],\r\n",
        "    \"S\": lambda value, ship: ship[:1] + (ship[1] - value,) + ship[2:],\r\n",
        "    \"E\": lambda value, ship: (ship[0] + value,) + ship[1:],\r\n",
        "    \"W\": lambda value, ship: (ship[0] - value,) + ship[1:],\r\n",
        "    \"L\": lambda value, ship: ship[:2] + (ship[2] + value // 90,),\r\n",
        "    \"R\": lambda value, ship: ship[:2] + (ship[2] - value // 90,),\r\n",
        "    \"F\": lambda value, ship: move[directions[ship[2] % 4]](value, ship)\r\n",
        "}\r\n",
        "\r\n",
        "ferry = (0, 0, 0)\r\n",
        "for action, value in instructions:\r\n",
        "  ferry = move[action](value, ferry)\r\n",
        "print(abs(ferry[0]) + abs(ferry[1]))"
      ],
      "execution_count": 35,
      "outputs": [
        {
          "output_type": "stream",
          "text": [
            "1710\n",
            "CPU times: user 1.37 ms, sys: 0 ns, total: 1.37 ms\n",
            "Wall time: 2.08 ms\n"
          ],
          "name": "stdout"
        }
      ]
    },
    {
      "cell_type": "code",
      "metadata": {
        "id": "3OVDUQJZCtUn",
        "colab": {
          "base_uri": "https://localhost:8080/"
        },
        "outputId": "8fec1047-3b0e-4edf-a136-678ecd79c780"
      },
      "source": [
        "%%time\r\n",
        "rotations = {\r\n",
        "    0: lambda waypoint: waypoint,\r\n",
        "    1: lambda waypoint: (-waypoint[1], waypoint[0]),\r\n",
        "    2: lambda waypoint: (-waypoint[0], -waypoint[1]),\r\n",
        "    3: lambda waypoint: (waypoint[1], -waypoint[0])\r\n",
        "}\r\n",
        "\r\n",
        "move = {\r\n",
        "    \"N\": lambda value, waypoint: (waypoint[0], waypoint[1] + value),\r\n",
        "    \"S\": lambda value, waypoint: (waypoint[0], waypoint[1] - value),\r\n",
        "    \"E\": lambda value, waypoint: (waypoint[0] + value, waypoint[1]),\r\n",
        "    \"W\": lambda value, waypoint: (waypoint[0] - value, waypoint[1]),\r\n",
        "    \"L\": lambda value, waypoint: rotations[value // 90 % 4](waypoint),\r\n",
        "    \"R\": lambda value, waypoint: rotations[(4 - value // 90) % 4](waypoint)\r\n",
        "}\r\n",
        "\r\n",
        "ferry = (0, 0)\r\n",
        "waypoint = (10, 1)\r\n",
        "for action, value in instructions:\r\n",
        "  if action == \"F\":\r\n",
        "    ferry = (ferry[0] + waypoint[0] * value, ferry[1] + waypoint[1] * value)\r\n",
        "  else:\r\n",
        "    waypoint = move[action](value, waypoint)\r\n",
        "print(abs(ferry[0]) + abs(ferry[1]))"
      ],
      "execution_count": 36,
      "outputs": [
        {
          "output_type": "stream",
          "text": [
            "62045\n",
            "CPU times: user 975 µs, sys: 0 ns, total: 975 µs\n",
            "Wall time: 982 µs\n"
          ],
          "name": "stdout"
        }
      ]
    },
    {
      "cell_type": "markdown",
      "metadata": {
        "id": "Bk4fmgE4nD4G"
      },
      "source": [
        "# Day 13: Shuttle Search"
      ]
    },
    {
      "cell_type": "code",
      "metadata": {
        "id": "VHtskY1wqKcT"
      },
      "source": [
        "with open(\"./drive/MyDrive/AoC2020/13/input.txt\") as input:\r\n",
        "  input = tuple(input.read().replace(\"x,\", \"\").splitlines())\r\n",
        "  timestamp = int(input[0])\r\n",
        "  ids = tuple(map(int, input[1].split(\",\")))"
      ],
      "execution_count": 37,
      "outputs": []
    },
    {
      "cell_type": "code",
      "metadata": {
        "id": "U8SgXnpMnGI4",
        "colab": {
          "base_uri": "https://localhost:8080/"
        },
        "outputId": "2dfad407-68a7-4d3e-bd0e-9f613c73dfa9"
      },
      "source": [
        "%%time\r\n",
        "times = ids\r\n",
        "while all(time < timestamp for time in times):\r\n",
        "  times = [time + id for time, id in zip(times, ids)]\r\n",
        "print(min((time - timestamp) * id for time, id in zip(times, ids) if time > timestamp))"
      ],
      "execution_count": 38,
      "outputs": [
        {
          "output_type": "stream",
          "text": [
            "3865\n",
            "CPU times: user 4.35 ms, sys: 0 ns, total: 4.35 ms\n",
            "Wall time: 4.75 ms\n"
          ],
          "name": "stdout"
        }
      ]
    },
    {
      "cell_type": "code",
      "metadata": {
        "id": "P8XVeDRZzx71",
        "colab": {
          "base_uri": "https://localhost:8080/"
        },
        "outputId": "41460ec5-b69c-4768-f4d7-cbe72c1e7309"
      },
      "source": [
        "%%time\r\n",
        "ids = ((offset, int(id)) for offset, id in enumerate(input[1].split(\",\")))\r\n",
        "expression = list()\r\n",
        "for offset, id in ids:\r\n",
        "  expression.append(f\"(t+{offset})%{id}=0\")\r\n",
        "print(\",\".join(expression))"
      ],
      "execution_count": 39,
      "outputs": [
        {
          "output_type": "stream",
          "text": [
            "(t+0)%13=0,(t+1)%37=0,(t+2)%449=0,(t+3)%29=0,(t+4)%19=0,(t+5)%23=0,(t+6)%773=0,(t+7)%41=0,(t+8)%17=0\n",
            "CPU times: user 581 µs, sys: 0 ns, total: 581 µs\n",
            "Wall time: 590 µs\n"
          ],
          "name": "stdout"
        }
      ]
    },
    {
      "cell_type": "markdown",
      "metadata": {
        "id": "I5YpzdSunbwa"
      },
      "source": [
        "# Day 14: Docking Data"
      ]
    },
    {
      "cell_type": "code",
      "metadata": {
        "id": "OTyHvcqmSO83"
      },
      "source": [
        "with open(\"./drive/MyDrive/AoC2020/14/input.txt\") as input:\r\n",
        "  program = tuple(input.read().splitlines())"
      ],
      "execution_count": 40,
      "outputs": []
    },
    {
      "cell_type": "code",
      "metadata": {
        "id": "bWUfAuJ9qvG0",
        "colab": {
          "base_uri": "https://localhost:8080/"
        },
        "outputId": "5eed1a45-c175-465e-9a12-50e3a75f5408"
      },
      "source": [
        "%%time\r\n",
        "mem = dict()\r\n",
        "for line in program:\r\n",
        "  if line[:4] == \"mask\":\r\n",
        "    mask = line[7:]\r\n",
        "    setmask = int(mask.replace('X', '0'), 2)\r\n",
        "    clearmask = int(mask.replace('X', '1'), 2)\r\n",
        "  elif line[:3] == \"mem\":\r\n",
        "    exec(line + \" & clearmask | setmask\")\r\n",
        "print(sum(mem.values()))"
      ],
      "execution_count": 41,
      "outputs": [
        {
          "output_type": "stream",
          "text": [
            "17028179706934\n",
            "CPU times: user 8.81 ms, sys: 956 µs, total: 9.77 ms\n",
            "Wall time: 13 ms\n"
          ],
          "name": "stdout"
        }
      ]
    },
    {
      "cell_type": "code",
      "metadata": {
        "id": "fjDHQ1juIS4B",
        "colab": {
          "base_uri": "https://localhost:8080/"
        },
        "outputId": "7487cb33-e341-4414-9abf-7364e52a3aac"
      },
      "source": [
        "%%time\r\n",
        "def substitute(string, character, sequence):\r\n",
        "  index = 0\r\n",
        "  string = list(string)\r\n",
        "  for i, char in enumerate(string):\r\n",
        "    if char == character and index < len(sequence):\r\n",
        "      string[i] = sequence[index]\r\n",
        "      index += 1\r\n",
        "  return \"\".join(string)\r\n",
        "\r\n",
        "mem = dict()\r\n",
        "for line in program:\r\n",
        "  if line[:4] == \"mask\":\r\n",
        "    mask = line[7:]\r\n",
        "    count = mask.count('X')\r\n",
        "    masks = list()\r\n",
        "    for j in range(1 << count):\r\n",
        "      masks.append(f\"\"\" & 0b{substitute(mask.replace('0', '1'), 'X', f\"{j:0{count}b}\")} | 0b{substitute(mask, 'X', f\"{j:0{count}b}\")}\"\"\")\r\n",
        "  elif line[:3] == \"mem\":\r\n",
        "    address = line.partition(']')\r\n",
        "    for mask in masks:\r\n",
        "      exec(address[0] + mask + address[1] + address[2])\r\n",
        "print(sum(mem.values()))"
      ],
      "execution_count": 42,
      "outputs": [
        {
          "output_type": "stream",
          "text": [
            "3683236147222\n",
            "CPU times: user 1.03 s, sys: 12.2 ms, total: 1.04 s\n",
            "Wall time: 1.05 s\n"
          ],
          "name": "stdout"
        }
      ]
    },
    {
      "cell_type": "markdown",
      "metadata": {
        "id": "EkU0XXHp6Pzr"
      },
      "source": [
        "# Day 15: Rambunctious Recitation"
      ]
    },
    {
      "cell_type": "code",
      "metadata": {
        "id": "g79ksUxa6Rhy"
      },
      "source": [
        "with open(\"./drive/MyDrive/AoC2020/15/input.txt\") as input:\r\n",
        "  starting = tuple(map(int, input.read().split(\",\")))\r\n",
        "\r\n",
        "def spoken_at(number_spoken):\r\n",
        "  numbers = dict()\r\n",
        "  for turn, spoken in enumerate(starting):\r\n",
        "    numbers[spoken] = (turn,)\r\n",
        "  for turn in range(turn + 1, number_spoken):\r\n",
        "    spoken = (turn - numbers[spoken][0] if len(numbers[spoken]) == 1 else numbers[spoken][0] - numbers[spoken][1]) if len(numbers[spoken]) > 1 else 0\r\n",
        "    numbers[spoken] = (turn,) + numbers[spoken][:2] if spoken in numbers else (turn,)\r\n",
        "  return spoken"
      ],
      "execution_count": 43,
      "outputs": []
    },
    {
      "cell_type": "code",
      "metadata": {
        "id": "9kvTDTs3Ugk_",
        "colab": {
          "base_uri": "https://localhost:8080/"
        },
        "outputId": "cfa2669a-d60e-490c-8803-1e16179e581c"
      },
      "source": [
        "%%time\r\n",
        "print(spoken_at(2020))"
      ],
      "execution_count": 44,
      "outputs": [
        {
          "output_type": "stream",
          "text": [
            "260\n",
            "CPU times: user 1.15 ms, sys: 6 µs, total: 1.16 ms\n",
            "Wall time: 1.14 ms\n"
          ],
          "name": "stdout"
        }
      ]
    },
    {
      "cell_type": "code",
      "metadata": {
        "id": "7k3qgiu3VL3p",
        "colab": {
          "base_uri": "https://localhost:8080/"
        },
        "outputId": "a96e11df-fa1c-41a6-ed47-adebc45bf760"
      },
      "source": [
        "%%time\r\n",
        "print(spoken_at(30000000))"
      ],
      "execution_count": 45,
      "outputs": [
        {
          "output_type": "stream",
          "text": [
            "950\n",
            "CPU times: user 42.8 s, sys: 1.33 s, total: 44.1 s\n",
            "Wall time: 44.3 s\n"
          ],
          "name": "stdout"
        }
      ]
    },
    {
      "cell_type": "markdown",
      "metadata": {
        "id": "D9STclNq7A7c"
      },
      "source": [
        "# Day 16: Ticket Translation"
      ]
    },
    {
      "cell_type": "code",
      "metadata": {
        "id": "pD2GPEyb7B9M"
      },
      "source": [
        "with open(\"./drive/MyDrive/AoC2020/16/input.txt\") as input:\r\n",
        "  notes = input.read().split(\"\\n\\n\")\r\n",
        "  rules = {field[0]: tuple(tuple(int(number) for number in ranges.split(\"-\")) for ranges in field[1].split(\" or \")) for field in (note.split(\": \") for note in notes[0].splitlines())}\r\n",
        "  nearby = tuple(tuple(map(int, ticket.split(\",\"))) for ticket in notes[2].replace(\"nearby tickets:\\n\", \"\").splitlines())\r\n",
        "  my = tuple(map(int, notes[1].replace(\"your ticket:\\n\", \"\").split(\",\")))\r\n",
        "\r\n",
        "def field_valid(field):\r\n",
        "  return any(rule[0] <= field <= rule[1] for rule in (number for rule in rules.values() for number in rule))"
      ],
      "execution_count": 46,
      "outputs": []
    },
    {
      "cell_type": "code",
      "metadata": {
        "id": "X0ylsZ3KAQvV",
        "colab": {
          "base_uri": "https://localhost:8080/"
        },
        "outputId": "ddbae1c9-108d-4d1f-a545-74b70cee39f2"
      },
      "source": [
        "%%time\r\n",
        "print(sum(field for ticket in nearby for field in ticket if not field_valid(field)))"
      ],
      "execution_count": 47,
      "outputs": [
        {
          "output_type": "stream",
          "text": [
            "29851\n",
            "CPU times: user 6.85 ms, sys: 0 ns, total: 6.85 ms\n",
            "Wall time: 11.5 ms\n"
          ],
          "name": "stdout"
        }
      ]
    },
    {
      "cell_type": "code",
      "metadata": {
        "id": "Lu2VQomDLocQ",
        "colab": {
          "base_uri": "https://localhost:8080/"
        },
        "outputId": "9db2f608-85e0-47c4-9015-9b8a1024c619"
      },
      "source": [
        "%%time\r\n",
        "from functools import reduce\r\n",
        "from operator import mul\r\n",
        "from time import time\r\n",
        "\r\n",
        "valid = tuple(ticket for ticket in nearby if all(field_valid(field) for field in ticket))\r\n",
        "remaining_rules = set(rules)\r\n",
        "rules_index = dict()\r\n",
        "while remaining_rules:\r\n",
        "  for rule in remaining_rules:\r\n",
        "    count = 0\r\n",
        "    for i in range(len(my)):\r\n",
        "      if not i in rules_index.values() and all(rules[rule][0][0] <= field <= rules[rule][0][1] or rules[rule][1][0] <= field <= rules[rule][1][1] for field in (ticket[i] for ticket in valid)):\r\n",
        "        count += 1\r\n",
        "        position = i\r\n",
        "    if count == 1:\r\n",
        "      remaining_rules.remove(rule)\r\n",
        "      rules_index[rule] = position\r\n",
        "      break\r\n",
        "print(reduce(mul, (my[rules_index[rule]] for rule in rules_index if rule[:9] == \"departure\")))"
      ],
      "execution_count": 48,
      "outputs": [
        {
          "output_type": "stream",
          "text": [
            "3029180675981\n",
            "CPU times: user 104 ms, sys: 0 ns, total: 104 ms\n",
            "Wall time: 108 ms\n"
          ],
          "name": "stdout"
        }
      ]
    },
    {
      "cell_type": "markdown",
      "metadata": {
        "id": "taw3rWr5EHvQ"
      },
      "source": [
        "# Day 17: Conway Cubes"
      ]
    },
    {
      "cell_type": "code",
      "metadata": {
        "id": "O9tciHavFdKe"
      },
      "source": [
        "from itertools import product\r\n",
        "from operator import add\r\n",
        "\r\n",
        "def count_activated(state, cycles, dimension):\r\n",
        "  state = state.copy()\r\n",
        "  for _ in range(cycles):\r\n",
        "    updated = state.copy()\r\n",
        "    for position in {tuple(map(add, position, offset if dimension else offset + (0,))) for position in state for offset in product(range(-1, 2), repeat=4 if dimension else 3)}:\r\n",
        "      neighbors = sum(tuple(map(add, position, offset if dimension else offset + (0,))) in state for offset in product(range(-1, 2), repeat=4 if dimension else 3) if any(offset))\r\n",
        "      if position in state and not (neighbors == 2 or neighbors == 3):\r\n",
        "        updated.remove(position)\r\n",
        "      elif position not in state and neighbors == 3:\r\n",
        "        updated.add(position)\r\n",
        "    state = updated\r\n",
        "  return len(state)\r\n",
        "\r\n",
        "with open(\"./drive/MyDrive/AoC2020/17/input.txt\") as input:\r\n",
        "  initial = tuple(input.read().splitlines())\r\n",
        "  state = {(x, y, 0, 0) for x, y, cube in (column for row in (((x, y, cube) for x, cube in enumerate(line)) for y, line in enumerate(initial)) for column in row) if cube == \"#\"}"
      ],
      "execution_count": 49,
      "outputs": []
    },
    {
      "cell_type": "code",
      "metadata": {
        "colab": {
          "base_uri": "https://localhost:8080/"
        },
        "id": "2aEfEKMEGyqt",
        "outputId": "80a85e45-0e58-4d5c-94c5-86af49a7c543"
      },
      "source": [
        "%%time\r\n",
        "print(count_activated(state, 6, False))"
      ],
      "execution_count": 50,
      "outputs": [
        {
          "output_type": "stream",
          "text": [
            "209\n",
            "CPU times: user 170 ms, sys: 3.08 ms, total: 173 ms\n",
            "Wall time: 176 ms\n"
          ],
          "name": "stdout"
        }
      ]
    },
    {
      "cell_type": "code",
      "metadata": {
        "colab": {
          "base_uri": "https://localhost:8080/"
        },
        "id": "BNWIt6JhYFCB",
        "outputId": "ac42dcaf-f745-45a9-9046-aff3e541a531"
      },
      "source": [
        "%%time\r\n",
        "print(count_activated(state, 6, True))"
      ],
      "execution_count": 51,
      "outputs": [
        {
          "output_type": "stream",
          "text": [
            "1492\n",
            "CPU times: user 3.97 s, sys: 2 ms, total: 3.97 s\n",
            "Wall time: 4 s\n"
          ],
          "name": "stdout"
        }
      ]
    }
  ]
}