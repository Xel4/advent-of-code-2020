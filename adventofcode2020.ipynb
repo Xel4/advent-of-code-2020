{
  "nbformat": 4,
  "nbformat_minor": 0,
  "metadata": {
    "colab": {
      "name": "adventofcode2020.ipynb",
      "provenance": [],
      "collapsed_sections": [
        "-CYUzi-O5CJ-",
        "qd96OkfUz5YC",
        "bK_E3WdAC0YS",
        "C0KMjN2HH_rA",
        "hy_xUPehoEvV",
        "1IRmu22Udtf9",
        "Wxg6x8qrmhCV",
        "amnou2lBwqVT",
        "9KmbSxmz5xJ0",
        "4GC9GhDJBcli",
        "jO3NNr4ZM0wi"
      ],
      "toc_visible": true,
      "mount_file_id": "1vh1iW-QX0-Oa81ZcGA7A5anHm1xTj-wK",
      "authorship_tag": "ABX9TyPXdrwB/Pnor+D1r2TyRY7C",
      "include_colab_link": true
    },
    "kernelspec": {
      "name": "python3",
      "display_name": "Python 3"
    }
  },
  "cells": [
    {
      "cell_type": "markdown",
      "metadata": {
        "id": "view-in-github",
        "colab_type": "text"
      },
      "source": [
        "<a href=\"https://colab.research.google.com/github/Xel4/advent-of-code-2020/blob/main/adventofcode2020.ipynb\" target=\"_parent\"><img src=\"https://colab.research.google.com/assets/colab-badge.svg\" alt=\"Open In Colab\"/></a>"
      ]
    },
    {
      "cell_type": "markdown",
      "metadata": {
        "id": "-CYUzi-O5CJ-"
      },
      "source": [
        "# Day 1: Report Repair"
      ]
    },
    {
      "cell_type": "code",
      "metadata": {
        "id": "I9DXypyvXRoT"
      },
      "source": [
        "with open(\"./drive/MyDrive/AoC2020/1/input.txt\") as input:\r\n",
        "  numbers = tuple(map(int, input.read().splitlines()))"
      ],
      "execution_count": 1,
      "outputs": []
    },
    {
      "cell_type": "code",
      "metadata": {
        "colab": {
          "base_uri": "https://localhost:8080/"
        },
        "id": "20XinPhfzJPN",
        "outputId": "ba10903b-4660-4b92-abbc-e90b51127308"
      },
      "source": [
        "%%time\n",
        "for x in numbers:\n",
        "  for y in numbers:\n",
        "    if x + y == 2020:\n",
        "      print(x * y)\n",
        "      break\n",
        "  else:\n",
        "    continue\n",
        "  break"
      ],
      "execution_count": 2,
      "outputs": [
        {
          "output_type": "stream",
          "text": [
            "197451\n",
            "CPU times: user 5.09 ms, sys: 0 ns, total: 5.09 ms\n",
            "Wall time: 8.63 ms\n"
          ],
          "name": "stdout"
        }
      ]
    },
    {
      "cell_type": "code",
      "metadata": {
        "colab": {
          "base_uri": "https://localhost:8080/"
        },
        "id": "7pbSksNc-Zqm",
        "outputId": "f7dfda08-7d6c-4418-d98e-a78e37321f9d"
      },
      "source": [
        "%%time\n",
        "for x in numbers:\n",
        "  for y in numbers:\n",
        "    for z in numbers:\n",
        "      if x + y + z == 2020:\n",
        "        print(x * y * z)\n",
        "        break\n",
        "    else:\n",
        "      continue\n",
        "    break\n",
        "  else:\n",
        "    continue\n",
        "  break"
      ],
      "execution_count": 3,
      "outputs": [
        {
          "output_type": "stream",
          "text": [
            "138233720\n",
            "CPU times: user 291 ms, sys: 4.79 ms, total: 295 ms\n",
            "Wall time: 303 ms\n"
          ],
          "name": "stdout"
        }
      ]
    },
    {
      "cell_type": "markdown",
      "metadata": {
        "id": "qd96OkfUz5YC"
      },
      "source": [
        "# Day 2: Password Philosophy"
      ]
    },
    {
      "cell_type": "code",
      "metadata": {
        "id": "9nC20_NoaiiB"
      },
      "source": [
        "with open(\"./drive/MyDrive/AoC2020/2/input.txt\") as input:\r\n",
        "  passwords = tuple(input.read().splitlines())"
      ],
      "execution_count": 4,
      "outputs": []
    },
    {
      "cell_type": "code",
      "metadata": {
        "id": "0XhJrGwH1eTi",
        "colab": {
          "base_uri": "https://localhost:8080/"
        },
        "outputId": "4309b677-2faf-41ee-d75d-c4d733935f67"
      },
      "source": [
        "%%time\n",
        "valid = 0\n",
        "for password in passwords:\n",
        "  count = 0\n",
        "  for character in password.split(\": \")[1]:\n",
        "    if character == password.split(\" \")[1][0]:\n",
        "      count += 1\n",
        "  if count >= int(password.split(\"-\")[0]) and count <= int(password.split(\"-\")[1].split(\" \")[0]):\n",
        "    valid += 1\n",
        "print(valid)"
      ],
      "execution_count": 5,
      "outputs": [
        {
          "output_type": "stream",
          "text": [
            "548\n",
            "CPU times: user 6.05 ms, sys: 0 ns, total: 6.05 ms\n",
            "Wall time: 5.97 ms\n"
          ],
          "name": "stdout"
        }
      ]
    },
    {
      "cell_type": "code",
      "metadata": {
        "id": "iZgVC4Lj6OyB",
        "colab": {
          "base_uri": "https://localhost:8080/"
        },
        "outputId": "1fa14092-3815-498e-fa98-639a5cd1c797"
      },
      "source": [
        "%%time\n",
        "valid = 0\n",
        "for password in passwords:\n",
        "  check = password.split(\" \")[1][0]\n",
        "  first = password.split(\": \")[1][int(password.split(\"-\")[0]) - 1]\n",
        "  second = password.split(\": \")[1][int(password.split(\"-\")[1].split(\" \")[0]) - 1]\n",
        "  if (first == check and second != check) or (first != check and second == check):\n",
        "    valid += 1\n",
        "print(valid)"
      ],
      "execution_count": 6,
      "outputs": [
        {
          "output_type": "stream",
          "text": [
            "502\n",
            "CPU times: user 4.39 ms, sys: 0 ns, total: 4.39 ms\n",
            "Wall time: 5.39 ms\n"
          ],
          "name": "stdout"
        }
      ]
    },
    {
      "cell_type": "markdown",
      "metadata": {
        "id": "bK_E3WdAC0YS"
      },
      "source": [
        "# Day 3: Toboggan Trajectory"
      ]
    },
    {
      "cell_type": "code",
      "metadata": {
        "id": "9FBAatJibTlx"
      },
      "source": [
        "def slope(h, v, grid):\r\n",
        "  y = 0\r\n",
        "  x = 0\r\n",
        "  trees = 0\r\n",
        "  while y < len(grid):\r\n",
        "    if x >= len(grid[0]):\r\n",
        "      grid = [x + x for x in grid]\r\n",
        "    if grid[y][x] == '#':\r\n",
        "      trees += 1\r\n",
        "    x += h\r\n",
        "    y += v\r\n",
        "  return trees\r\n",
        "\r\n",
        "with open(\"./drive/MyDrive/AoC2020/3/input.txt\") as input:\r\n",
        "  grid = tuple(input.read().splitlines())"
      ],
      "execution_count": 7,
      "outputs": []
    },
    {
      "cell_type": "code",
      "metadata": {
        "id": "zGTRVjCJC2S8",
        "colab": {
          "base_uri": "https://localhost:8080/"
        },
        "outputId": "76483207-479e-44da-b4e7-bb389600996e"
      },
      "source": [
        "%%time\n",
        "print(slope(3, 1, grid))"
      ],
      "execution_count": 8,
      "outputs": [
        {
          "output_type": "stream",
          "text": [
            "176\n",
            "CPU times: user 298 µs, sys: 906 µs, total: 1.2 ms\n",
            "Wall time: 1.52 ms\n"
          ],
          "name": "stdout"
        }
      ]
    },
    {
      "cell_type": "code",
      "metadata": {
        "id": "U7WhebEKGYIf",
        "colab": {
          "base_uri": "https://localhost:8080/"
        },
        "outputId": "0070c33b-92af-4f5b-a48e-5222edb38c8c"
      },
      "source": [
        "%%time\n",
        "multiplied = 1\n",
        "for h, v in [(1, 1), (3, 1), (5, 1), (7, 1), (1, 2)]:\n",
        "  multiplied *= slope(h, v, grid)\n",
        "print(multiplied)"
      ],
      "execution_count": 9,
      "outputs": [
        {
          "output_type": "stream",
          "text": [
            "5872458240\n",
            "CPU times: user 3.62 ms, sys: 0 ns, total: 3.62 ms\n",
            "Wall time: 4.19 ms\n"
          ],
          "name": "stdout"
        }
      ]
    },
    {
      "cell_type": "markdown",
      "metadata": {
        "id": "C0KMjN2HH_rA"
      },
      "source": [
        "# Day 4: Passport Processing"
      ]
    },
    {
      "cell_type": "code",
      "metadata": {
        "id": "yjWMeDYycliv"
      },
      "source": [
        "with open(\"./drive/MyDrive/AoC2020/4/input.txt\") as input:\r\n",
        "  batch = tuple(input.read().split(\"\\n\\n\"))"
      ],
      "execution_count": 10,
      "outputs": []
    },
    {
      "cell_type": "code",
      "metadata": {
        "id": "Kb1KmZ_FIFj_",
        "colab": {
          "base_uri": "https://localhost:8080/"
        },
        "outputId": "b5cca219-6611-4006-f117-b2ea22dbe3e4"
      },
      "source": [
        "%%time\n",
        "valid = 0\n",
        "for passport in batch:\n",
        "  if all(x in passport for x in [\"byr\", \"iyr\", \"eyr\", \"hgt\", \"hcl\", \"ecl\", \"pid\"]):\n",
        "    valid += 1\n",
        "print(valid)"
      ],
      "execution_count": 11,
      "outputs": [
        {
          "output_type": "stream",
          "text": [
            "256\n",
            "CPU times: user 376 µs, sys: 61 µs, total: 437 µs\n",
            "Wall time: 443 µs\n"
          ],
          "name": "stdout"
        }
      ]
    },
    {
      "cell_type": "code",
      "metadata": {
        "id": "EhII3x0tKVk_",
        "colab": {
          "base_uri": "https://localhost:8080/"
        },
        "outputId": "060f344c-9c51-4b88-93f2-999b58672c9f"
      },
      "source": [
        "%%time\n",
        "valid = 0\n",
        "for passport in batch:\n",
        "  if all(x in passport for x in [\"byr\", \"iyr\", \"eyr\", \"hgt\", \"hcl\", \"ecl\", \"pid\"]):\n",
        "    fields = dict([x.split(\":\") for x in passport.split()])\n",
        "    validation = int(fields[\"byr\"]) >= 1920 and int(fields[\"byr\"]) <= 2002\n",
        "    validation = validation and int(fields[\"iyr\"]) >= 2010 and int(fields[\"iyr\"]) <= 2020\n",
        "    validation = validation and int(fields[\"eyr\"]) >= 2020 and int(fields[\"eyr\"]) <= 2030\n",
        "    if fields[\"hgt\"][-2:] == \"cm\":\n",
        "      validation = validation and int(fields[\"hgt\"][:-2]) >= 150 and int(fields[\"hgt\"][:-2]) <= 193\n",
        "    elif fields[\"hgt\"][-2:] == \"in\":\n",
        "      validation = validation and int(fields[\"hgt\"][:-2]) >= 59 and int(fields[\"hgt\"][:-2]) <= 76\n",
        "    else:\n",
        "      validation = False\n",
        "    validation = validation and fields[\"hcl\"][0] == \"#\" and len(fields[\"hcl\"]) == 7 and set(fields[\"hcl\"][1:]) <= set(\"1234567890abcdef\")\n",
        "    validation = validation and fields[\"ecl\"] in [\"amb\", \"blu\", \"brn\", \"gry\", \"grn\", \"hzl\", \"oth\"]\n",
        "    validation = validation and len(fields[\"pid\"]) == 9\n",
        "    if validation:\n",
        "      valid += 1\n",
        "print(valid)"
      ],
      "execution_count": 12,
      "outputs": [
        {
          "output_type": "stream",
          "text": [
            "198\n",
            "CPU times: user 2.34 ms, sys: 0 ns, total: 2.34 ms\n",
            "Wall time: 2.35 ms\n"
          ],
          "name": "stdout"
        }
      ]
    },
    {
      "cell_type": "markdown",
      "metadata": {
        "id": "hy_xUPehoEvV"
      },
      "source": [
        "# Day 5: Binary Boarding"
      ]
    },
    {
      "cell_type": "code",
      "metadata": {
        "id": "m3wAB0FQ4NBb"
      },
      "source": [
        "def decode(seat):\n",
        "  return int(seat.replace(\"F\", \"0\").replace(\"L\", \"0\").replace(\"B\", \"1\").replace(\"R\", \"1\"), 2)\n",
        "\n",
        "with open(\"./drive/MyDrive/AoC2020/5/input.txt\") as input:\n",
        "  seats = tuple(input.read().splitlines())"
      ],
      "execution_count": 13,
      "outputs": []
    },
    {
      "cell_type": "code",
      "metadata": {
        "id": "RfKurHABoF4q",
        "colab": {
          "base_uri": "https://localhost:8080/"
        },
        "outputId": "71d70b9a-6616-41a9-b81d-a19c46f61ec4"
      },
      "source": [
        "%%time\r\n",
        "print(max(decode(seat) for seat in seats))"
      ],
      "execution_count": 14,
      "outputs": [
        {
          "output_type": "stream",
          "text": [
            "848\n",
            "CPU times: user 1.69 ms, sys: 0 ns, total: 1.69 ms\n",
            "Wall time: 1.71 ms\n"
          ],
          "name": "stdout"
        }
      ]
    },
    {
      "cell_type": "code",
      "metadata": {
        "id": "qxTQG0jS19dM",
        "colab": {
          "base_uri": "https://localhost:8080/"
        },
        "outputId": "72654be3-65b9-4689-8df8-1180d16266cb"
      },
      "source": [
        "%%time\n",
        "seats_set = set(decode(seat) for seat in seats)\n",
        "print((set(range(min(seats_set), max(seats_set))) - seats_set).pop())"
      ],
      "execution_count": 15,
      "outputs": [
        {
          "output_type": "stream",
          "text": [
            "682\n",
            "CPU times: user 1.62 ms, sys: 99 µs, total: 1.71 ms\n",
            "Wall time: 1.92 ms\n"
          ],
          "name": "stdout"
        }
      ]
    },
    {
      "cell_type": "markdown",
      "metadata": {
        "id": "1IRmu22Udtf9"
      },
      "source": [
        "# Day 6: Custom Customs"
      ]
    },
    {
      "cell_type": "code",
      "metadata": {
        "id": "I0EgDNE9dzlR"
      },
      "source": [
        "with open(\"./drive/MyDrive/AoC2020/6/input.txt\") as input:\n",
        "  groups = tuple(input.read().split(\"\\n\\n\"))"
      ],
      "execution_count": 16,
      "outputs": []
    },
    {
      "cell_type": "code",
      "metadata": {
        "id": "Q2g0TOhVeImE",
        "colab": {
          "base_uri": "https://localhost:8080/"
        },
        "outputId": "8e6a617d-012a-4b5d-ee73-8fe08e93e512"
      },
      "source": [
        "%%time\n",
        "print(sum(len(set(group.replace(\"\\n\", \"\"))) for group in groups))"
      ],
      "execution_count": 17,
      "outputs": [
        {
          "output_type": "stream",
          "text": [
            "6680\n",
            "CPU times: user 1.07 ms, sys: 173 µs, total: 1.24 ms\n",
            "Wall time: 1.45 ms\n"
          ],
          "name": "stdout"
        }
      ]
    },
    {
      "cell_type": "code",
      "metadata": {
        "id": "_z0ccYDMfbNo",
        "colab": {
          "base_uri": "https://localhost:8080/"
        },
        "outputId": "f12dab08-11cf-4c30-f422-849bbaa71b39"
      },
      "source": [
        "%%time\n",
        "print(sum(len(set.intersection(*[set(person) for person in group.split(\"\\n\")])) for group in groups))"
      ],
      "execution_count": 18,
      "outputs": [
        {
          "output_type": "stream",
          "text": [
            "3112\n",
            "CPU times: user 3.38 ms, sys: 0 ns, total: 3.38 ms\n",
            "Wall time: 3.78 ms\n"
          ],
          "name": "stdout"
        }
      ]
    },
    {
      "cell_type": "markdown",
      "metadata": {
        "id": "Wxg6x8qrmhCV"
      },
      "source": [
        "# Day 7: Handy Haversacks"
      ]
    },
    {
      "cell_type": "code",
      "metadata": {
        "id": "As_-vs81mkof"
      },
      "source": [
        "with open(\"./drive/MyDrive/AoC2020/7/input.txt\") as input:\n",
        "  rules = dict((rule[0], tuple((bag, int(count)) for count, bag in (bags.split(\" \", 1) for bags in rule[1].split(\", \")))) for rule in (rule_text.split(\" contain \") for rule_text in input.read().replace(\".\", \"\").replace(\"no\", \"0\").replace(\" bags\", \"\").replace(\" bag\", \"\").splitlines()))"
      ],
      "execution_count": 19,
      "outputs": []
    },
    {
      "cell_type": "code",
      "metadata": {
        "id": "FPrt2aC66GL_",
        "colab": {
          "base_uri": "https://localhost:8080/"
        },
        "outputId": "32bc8545-7dee-4e41-c11f-e23d3beec508"
      },
      "source": [
        "%%time\n",
        "def contains_bag(bags, the_bag):\n",
        "  if bags == the_bag:\n",
        "    return True\n",
        "  for bag, amount in rules[bags]:\n",
        "    if amount and contains_bag(bag, the_bag):\n",
        "      return True\n",
        "  return False\n",
        "\n",
        "count = 0\n",
        "for bag in rules:\n",
        "  count += contains_bag(bag, \"shiny gold\")\n",
        "print(count - 1)"
      ],
      "execution_count": 20,
      "outputs": [
        {
          "output_type": "stream",
          "text": [
            "161\n",
            "CPU times: user 86.1 ms, sys: 886 µs, total: 87 ms\n",
            "Wall time: 89.3 ms\n"
          ],
          "name": "stdout"
        }
      ]
    },
    {
      "cell_type": "code",
      "metadata": {
        "id": "_WbrlJvV6K7l",
        "colab": {
          "base_uri": "https://localhost:8080/"
        },
        "outputId": "b970458e-7db3-4b6a-f046-998cdbb6a96d"
      },
      "source": [
        "%%time\n",
        "def count_bags(bags):\n",
        "  count = 1\n",
        "  for bag, amount in rules[bags]:\n",
        "    for _ in range(amount):\n",
        "      count += count_bags(bag)\n",
        "  return count\n",
        "\n",
        "print(count_bags(\"shiny gold\") - 1)"
      ],
      "execution_count": 21,
      "outputs": [
        {
          "output_type": "stream",
          "text": [
            "30899\n",
            "CPU times: user 15.1 ms, sys: 160 µs, total: 15.3 ms\n",
            "Wall time: 15.1 ms\n"
          ],
          "name": "stdout"
        }
      ]
    },
    {
      "cell_type": "markdown",
      "metadata": {
        "id": "amnou2lBwqVT"
      },
      "source": [
        "# Day 8: Handheld Halting"
      ]
    },
    {
      "cell_type": "code",
      "metadata": {
        "id": "kXvvcuYcwuUr"
      },
      "source": [
        "with open(\"./drive/MyDrive/AoC2020/8/input.txt\") as input:\n",
        "  program = tuple((instruction[0], int(instruction[1])) for instruction in (line.split(\" \") for line in input.read().splitlines()))"
      ],
      "execution_count": 22,
      "outputs": []
    },
    {
      "cell_type": "code",
      "metadata": {
        "id": "qdQIffQPyuYM",
        "colab": {
          "base_uri": "https://localhost:8080/"
        },
        "outputId": "80a443fa-5648-485c-bbe8-53cb66fe0bc6"
      },
      "source": [
        "%%time\n",
        "acc = 0\n",
        "pc = 0\n",
        "history = set()\n",
        "while not pc in history:\n",
        "  history.add(pc)\n",
        "  (op, arg) = program[pc]\n",
        "  if op == \"acc\":\n",
        "    acc += arg\n",
        "    pc += 1\n",
        "  elif op == \"jmp\":\n",
        "    pc += arg\n",
        "  elif op == \"nop\":\n",
        "    pc += 1\n",
        "print(acc)"
      ],
      "execution_count": 23,
      "outputs": [
        {
          "output_type": "stream",
          "text": [
            "1548\n",
            "CPU times: user 177 µs, sys: 27 µs, total: 204 µs\n",
            "Wall time: 208 µs\n"
          ],
          "name": "stdout"
        }
      ]
    },
    {
      "cell_type": "code",
      "metadata": {
        "id": "Rje_qSa024te",
        "colab": {
          "base_uri": "https://localhost:8080/"
        },
        "outputId": "e5ec3a66-30b8-4f66-9ee3-5290b26c68c1"
      },
      "source": [
        "%%time\n",
        "def swap_jmp_nop(program, index):\n",
        "  if program[index][0] == \"jmp\":\n",
        "    program[index] = (\"nop\", program[index][1])\n",
        "  elif program[index][0] == \"nop\":\n",
        "    program[index] = (\"jmp\", program[index][1])\n",
        "  return program\n",
        "\n",
        "def fix_program(program):\n",
        "  last = None\n",
        "  for i, instruction in enumerate(program):\n",
        "    if instruction[0] != \"acc\":\n",
        "      if last != None:\n",
        "        program = swap_jmp_nop(program, last)\n",
        "      last = i\n",
        "      program = swap_jmp_nop(program, i)\n",
        "      yield program\n",
        "  if last != None:\n",
        "    program = swap_jmp_nop(program, last)\n",
        "\n",
        "def fixed_acc(program):\n",
        "  program = list(program)\n",
        "  for fixed in fix_program(program):\n",
        "    acc = 0\n",
        "    pc = 0\n",
        "    history = set()\n",
        "    while not pc in history:\n",
        "      if pc >= len(fixed):\n",
        "        return acc\n",
        "      history.add(pc)\n",
        "      (op, arg) = fixed[pc]\n",
        "      if op == \"acc\":\n",
        "        acc += arg\n",
        "        pc += 1\n",
        "      elif op == \"jmp\":\n",
        "        pc += arg\n",
        "      elif op == \"nop\":\n",
        "        pc += 1\n",
        "\n",
        "print(fixed_acc(program))"
      ],
      "execution_count": 24,
      "outputs": [
        {
          "output_type": "stream",
          "text": [
            "1375\n",
            "CPU times: user 8.17 ms, sys: 0 ns, total: 8.17 ms\n",
            "Wall time: 8.09 ms\n"
          ],
          "name": "stdout"
        }
      ]
    },
    {
      "cell_type": "markdown",
      "metadata": {
        "id": "9KmbSxmz5xJ0"
      },
      "source": [
        "# Day 9: Encoding Error"
      ]
    },
    {
      "cell_type": "code",
      "metadata": {
        "id": "_macUt9z_184"
      },
      "source": [
        "def is_valid(i, number):\r\n",
        "  for a in numbers[i - preamble:i]:\r\n",
        "    for b in numbers[i - preamble:i]:\r\n",
        "      if a + b == number and not a == b:\r\n",
        "        return True\r\n",
        "  return False\r\n",
        "\r\n",
        "def find_invalid():\r\n",
        "  for i, number in enumerate(numbers):\r\n",
        "    if i > preamble:\r\n",
        "      if not is_valid(i, number):\r\n",
        "        return number\r\n",
        "\r\n",
        "with open(\"./drive/MyDrive/AoC2020/9/input.txt\") as input:\r\n",
        "  numbers = tuple(map(int, input.read().splitlines()))\r\n",
        "preamble = 25"
      ],
      "execution_count": 25,
      "outputs": []
    },
    {
      "cell_type": "code",
      "metadata": {
        "id": "JROsOtae5yOx",
        "colab": {
          "base_uri": "https://localhost:8080/"
        },
        "outputId": "315dfa8a-10d7-4d59-f6e7-4fa8c56d0382"
      },
      "source": [
        "%%time\r\n",
        "print(find_invalid())"
      ],
      "execution_count": 26,
      "outputs": [
        {
          "output_type": "stream",
          "text": [
            "22477624\n",
            "CPU times: user 4.4 ms, sys: 0 ns, total: 4.4 ms\n",
            "Wall time: 5.18 ms\n"
          ],
          "name": "stdout"
        }
      ]
    },
    {
      "cell_type": "code",
      "metadata": {
        "id": "C0nZ_U3L_0di",
        "colab": {
          "base_uri": "https://localhost:8080/"
        },
        "outputId": "b58e60a7-6d7b-4e35-fd10-ded4b2c00cf2"
      },
      "source": [
        "%%time\r\n",
        "def sum_to_invalid(number):\r\n",
        "  for a in range(len(numbers)):\r\n",
        "    for b in range(a, len(numbers)):\r\n",
        "      if sum(numbers[a:b]) == number:\r\n",
        "        return min(numbers[a:b]) + max(numbers[a:b])\r\n",
        "\r\n",
        "print(sum_to_invalid(find_invalid()))"
      ],
      "execution_count": 27,
      "outputs": [
        {
          "output_type": "stream",
          "text": [
            "2980044\n",
            "CPU times: user 1.04 s, sys: 852 µs, total: 1.04 s\n",
            "Wall time: 1.05 s\n"
          ],
          "name": "stdout"
        }
      ]
    },
    {
      "cell_type": "markdown",
      "metadata": {
        "id": "4GC9GhDJBcli"
      },
      "source": [
        "# Day 10: Adapter Array"
      ]
    },
    {
      "cell_type": "code",
      "metadata": {
        "id": "TsDVsJ6mBdhc"
      },
      "source": [
        "with open(\"./drive/MyDrive/AoC2020/10/input.txt\") as input:\r\n",
        "  adapters = tuple(map(int, input.read().split()))"
      ],
      "execution_count": 28,
      "outputs": []
    },
    {
      "cell_type": "code",
      "metadata": {
        "id": "QVp5yHaIFYxY",
        "colab": {
          "base_uri": "https://localhost:8080/"
        },
        "outputId": "1be78b2a-44f7-4109-9b8b-67777239cdb5"
      },
      "source": [
        "%%time\r\n",
        "adapters_sorted = list(adapters)\r\n",
        "adapters_sorted.sort()\r\n",
        "diff1 = 0\r\n",
        "diff3 = 1\r\n",
        "last = 0\r\n",
        "for jolt in adapters_sorted:\r\n",
        "  if jolt - last == 1:\r\n",
        "    diff1 += 1\r\n",
        "  elif jolt - last == 3:\r\n",
        "    diff3 += 1\r\n",
        "  last = jolt\r\n",
        "print(diff1 * diff3)"
      ],
      "execution_count": 29,
      "outputs": [
        {
          "output_type": "stream",
          "text": [
            "1980\n",
            "CPU times: user 188 µs, sys: 0 ns, total: 188 µs\n",
            "Wall time: 164 µs\n"
          ],
          "name": "stdout"
        }
      ]
    },
    {
      "cell_type": "code",
      "metadata": {
        "id": "oemMYh3PQn2T",
        "colab": {
          "base_uri": "https://localhost:8080/"
        },
        "outputId": "0183cf8d-3f35-49e9-f746-c563fc83ed23"
      },
      "source": [
        "%%time\r\n",
        "connections = {0: 1}\r\n",
        "def combinations(jolts, last):\r\n",
        "  if not last in connections:\r\n",
        "    connections[last] = sum(combinations({next for next in jolts if next < jolt}, jolt) for jolt in jolts if last - jolt <= 3)\r\n",
        "  return connections[last]\r\n",
        "\r\n",
        "print(combinations(set(adapters + (0,)), max(adapters) + 3))"
      ],
      "execution_count": 30,
      "outputs": [
        {
          "output_type": "stream",
          "text": [
            "4628074479616\n",
            "CPU times: user 1.83 ms, sys: 0 ns, total: 1.83 ms\n",
            "Wall time: 1.96 ms\n"
          ],
          "name": "stdout"
        }
      ]
    },
    {
      "cell_type": "markdown",
      "metadata": {
        "id": "jO3NNr4ZM0wi"
      },
      "source": [
        "# Day 11: Seating System"
      ]
    },
    {
      "cell_type": "code",
      "metadata": {
        "id": "ALISdUZRZ6aE"
      },
      "source": [
        "def update(layout, tolerance):\r\n",
        "  updated = [list(row) for row in layout]\r\n",
        "  for row in range(len(layout)):\r\n",
        "    for column in range(len(layout[0])):\r\n",
        "      if layout[row][column] == \"L\" and adjacent(layout, row, column) == 0:\r\n",
        "        updated[row][column] = \"#\"\r\n",
        "      elif layout[row][column] == \"#\" and adjacent(layout, row, column) >= tolerance:\r\n",
        "        updated[row][column] = \"L\"\r\n",
        "  return updated\r\n",
        "\r\n",
        "def count_occupied(layout, tolerance):\r\n",
        "  last_layout = []\r\n",
        "  while last_layout != layout:\r\n",
        "    last_layout = layout\r\n",
        "    layout = update(layout, tolerance)\r\n",
        "  count = 0\r\n",
        "  for row in layout:\r\n",
        "    for seat in row:\r\n",
        "      if seat == \"#\":\r\n",
        "        count += 1\r\n",
        "  return count\r\n",
        "\r\n",
        "with open(\"./drive/MyDrive/AoC2020/11/input.txt\") as input:\r\n",
        "  layout = tuple(input.read().splitlines())"
      ],
      "execution_count": 31,
      "outputs": []
    },
    {
      "cell_type": "code",
      "metadata": {
        "id": "hbjvK8l2M2Yq",
        "colab": {
          "base_uri": "https://localhost:8080/"
        },
        "outputId": "cf158c3a-89f5-41fc-bc76-d509998843a7"
      },
      "source": [
        "%%time\r\n",
        "def adjacent(layout, row, column):\r\n",
        "  count = 0\r\n",
        "  for i in range(-1 if row > 0 else 0, 2 if row < len(layout) - 1 else 1):\r\n",
        "    for j in range(-1 if column > 0 else 0, 2 if column < len(layout[0]) - 1 else 1):\r\n",
        "      if (i or j) and layout[row + i][column + j] == \"#\":\r\n",
        "        count += 1\r\n",
        "  return count\r\n",
        "\r\n",
        "print(count_occupied(layout, 4))"
      ],
      "execution_count": 32,
      "outputs": [
        {
          "output_type": "stream",
          "text": [
            "2108\n",
            "CPU times: user 1.23 s, sys: 1.89 ms, total: 1.23 s\n",
            "Wall time: 1.24 s\n"
          ],
          "name": "stdout"
        }
      ]
    },
    {
      "cell_type": "code",
      "metadata": {
        "id": "Z_pL5_wHZ3kF",
        "colab": {
          "base_uri": "https://localhost:8080/"
        },
        "outputId": "786afe19-6a90-4abc-b6bb-c07cd2525133"
      },
      "source": [
        "%%time\r\n",
        "def visible(layout, row, column, x, y):\r\n",
        "  while row + x > -1 and row + x < len(layout) and column + y > -1 and column + y < len(layout[0]) and layout[row + x][column + y] != \"L\":\r\n",
        "    if layout[row + x][column + y] == \"#\":\r\n",
        "      return True\r\n",
        "    row += x\r\n",
        "    column += y\r\n",
        "  return False\r\n",
        "\r\n",
        "def adjacent(layout, row, column):\r\n",
        "  count = 0\r\n",
        "  for i in range(-1, 2):\r\n",
        "    for j in range(-1, 2):\r\n",
        "      if i or j:\r\n",
        "        if visible(layout, row, column, i, j):\r\n",
        "          count += 1\r\n",
        "  return count\r\n",
        "\r\n",
        "print(count_occupied(layout, 5))"
      ],
      "execution_count": 33,
      "outputs": [
        {
          "output_type": "stream",
          "text": [
            "1897\n",
            "CPU times: user 3.32 s, sys: 829 µs, total: 3.32 s\n",
            "Wall time: 3.33 s\n"
          ],
          "name": "stdout"
        }
      ]
    },
    {
      "cell_type": "markdown",
      "metadata": {
        "id": "Wrv0brTItPlf"
      },
      "source": [
        "# Day 12: Rain Risk"
      ]
    },
    {
      "cell_type": "code",
      "metadata": {
        "id": "5PZYQctxtS9r"
      },
      "source": [
        "with open(\"./drive/MyDrive/AoC2020/12/input.txt\") as input:\r\n",
        "  instructions = tuple((instruction[0], int(instruction[1:])) for instruction in input.read().split())"
      ],
      "execution_count": 34,
      "outputs": []
    },
    {
      "cell_type": "code",
      "metadata": {
        "id": "eRhgc9c_weqE",
        "colab": {
          "base_uri": "https://localhost:8080/"
        },
        "outputId": "3a660178-e35a-49d0-8951-6addfbb5d166"
      },
      "source": [
        "%%time\r\n",
        "directions = {\r\n",
        "    -3: \"N\",\r\n",
        "    -2: \"W\",\r\n",
        "    -1: \"S\",\r\n",
        "    0: \"E\",\r\n",
        "    1: \"N\",\r\n",
        "    2: \"W\",\r\n",
        "    3: \"S\"\r\n",
        "}\r\n",
        "\r\n",
        "move = {\r\n",
        "    \"N\": lambda value, ship: ship[:1] + (ship[1] + value,) + ship[2:],\r\n",
        "    \"S\": lambda value, ship: ship[:1] + (ship[1] - value,) + ship[2:],\r\n",
        "    \"E\": lambda value, ship: (ship[0] + value,) + ship[1:],\r\n",
        "    \"W\": lambda value, ship: (ship[0] - value,) + ship[1:],\r\n",
        "    \"L\": lambda value, ship: ship[:2] + (ship[2] + value // 90,),\r\n",
        "    \"R\": lambda value, ship: ship[:2] + (ship[2] - value // 90,),\r\n",
        "    \"F\": lambda value, ship: move[directions[ship[2] % 4]](value, ship)\r\n",
        "}\r\n",
        "\r\n",
        "ferry = (0, 0, 0)\r\n",
        "for action, value in instructions:\r\n",
        "  ferry = move[action](value, ferry)\r\n",
        "print(abs(ferry[0]) + abs(ferry[1]))"
      ],
      "execution_count": 35,
      "outputs": [
        {
          "output_type": "stream",
          "text": [
            "1710\n",
            "CPU times: user 482 µs, sys: 0 ns, total: 482 µs\n",
            "Wall time: 487 µs\n"
          ],
          "name": "stdout"
        }
      ]
    },
    {
      "cell_type": "code",
      "metadata": {
        "id": "3OVDUQJZCtUn",
        "colab": {
          "base_uri": "https://localhost:8080/"
        },
        "outputId": "1701c98c-1dd1-4865-ef2b-2c71fc87f11e"
      },
      "source": [
        "%%time\r\n",
        "rotations = {\r\n",
        "    0: lambda waypoint: waypoint,\r\n",
        "    1: lambda waypoint: (-waypoint[1], waypoint[0]),\r\n",
        "    2: lambda waypoint: (-waypoint[0], -waypoint[1]),\r\n",
        "    3: lambda waypoint: (waypoint[1], -waypoint[0])\r\n",
        "}\r\n",
        "\r\n",
        "move = {\r\n",
        "    \"N\": lambda value, waypoint: (waypoint[0], waypoint[1] + value),\r\n",
        "    \"S\": lambda value, waypoint: (waypoint[0], waypoint[1] - value),\r\n",
        "    \"E\": lambda value, waypoint: (waypoint[0] + value, waypoint[1]),\r\n",
        "    \"W\": lambda value, waypoint: (waypoint[0] - value, waypoint[1]),\r\n",
        "    \"L\": lambda value, waypoint: rotations[value // 90 % 4](waypoint),\r\n",
        "    \"R\": lambda value, waypoint: rotations[(4 - value // 90) % 4](waypoint)\r\n",
        "}\r\n",
        "\r\n",
        "ferry = (0, 0)\r\n",
        "waypoint = (10, 1)\r\n",
        "for action, value in instructions:\r\n",
        "  if action == \"F\":\r\n",
        "    ferry = (ferry[0] + waypoint[0] * value, ferry[1] + waypoint[1] * value)\r\n",
        "  else:\r\n",
        "    waypoint = move[action](value, waypoint)\r\n",
        "print(abs(ferry[0]) + abs(ferry[1]))"
      ],
      "execution_count": 36,
      "outputs": [
        {
          "output_type": "stream",
          "text": [
            "62045\n",
            "CPU times: user 760 µs, sys: 1e+03 ns, total: 761 µs\n",
            "Wall time: 673 µs\n"
          ],
          "name": "stdout"
        }
      ]
    },
    {
      "cell_type": "markdown",
      "metadata": {
        "id": "Bk4fmgE4nD4G"
      },
      "source": [
        "# Day 13: Shuttle Search"
      ]
    },
    {
      "cell_type": "code",
      "metadata": {
        "id": "VHtskY1wqKcT"
      },
      "source": [
        "with open(\"./drive/MyDrive/AoC2020/13/input.txt\") as input:\r\n",
        "  input = tuple(input.read().replace(\"x,\", \"\").splitlines())\r\n",
        "  timestamp = int(input[0])\r\n",
        "  ids = tuple(map(int, input[1].split(\",\")))"
      ],
      "execution_count": 37,
      "outputs": []
    },
    {
      "cell_type": "code",
      "metadata": {
        "id": "U8SgXnpMnGI4",
        "colab": {
          "base_uri": "https://localhost:8080/"
        },
        "outputId": "08cdf3ff-a2d5-4a38-9750-d31a1d36d758"
      },
      "source": [
        "%%time\r\n",
        "times = ids\r\n",
        "while all(time < timestamp for time in times):\r\n",
        "  times = [time + id for time, id in zip(times, ids)]\r\n",
        "print(min((time - timestamp) * id for time, id in zip(times, ids) if time > timestamp))"
      ],
      "execution_count": 38,
      "outputs": [
        {
          "output_type": "stream",
          "text": [
            "3865\n",
            "CPU times: user 5.49 ms, sys: 0 ns, total: 5.49 ms\n",
            "Wall time: 8.89 ms\n"
          ],
          "name": "stdout"
        }
      ]
    },
    {
      "cell_type": "code",
      "metadata": {
        "id": "P8XVeDRZzx71",
        "colab": {
          "base_uri": "https://localhost:8080/"
        },
        "outputId": "b5d010da-4098-4012-da4a-128de07463d2"
      },
      "source": [
        "%%time\r\n",
        "ids = ((offset, int(id)) for offset, id in enumerate(input[1].split(\",\")))\r\n",
        "expression = list()\r\n",
        "for offset, id in ids:\r\n",
        "  expression.append(f\"(t+{offset})%{id}=0\")\r\n",
        "print(\",\".join(expression))"
      ],
      "execution_count": 39,
      "outputs": [
        {
          "output_type": "stream",
          "text": [
            "(t+0)%13=0,(t+1)%37=0,(t+2)%449=0,(t+3)%29=0,(t+4)%19=0,(t+5)%23=0,(t+6)%773=0,(t+7)%41=0,(t+8)%17=0\n",
            "CPU times: user 183 µs, sys: 7 µs, total: 190 µs\n",
            "Wall time: 185 µs\n"
          ],
          "name": "stdout"
        }
      ]
    },
    {
      "cell_type": "markdown",
      "metadata": {
        "id": "I5YpzdSunbwa"
      },
      "source": [
        "# Day 14: Docking Data"
      ]
    },
    {
      "cell_type": "code",
      "metadata": {
        "id": "OTyHvcqmSO83"
      },
      "source": [
        "with open(\"./drive/MyDrive/AoC2020/14/input.txt\") as input:\r\n",
        "  program = tuple(input.read().splitlines())"
      ],
      "execution_count": 40,
      "outputs": []
    },
    {
      "cell_type": "code",
      "metadata": {
        "id": "bWUfAuJ9qvG0",
        "colab": {
          "base_uri": "https://localhost:8080/"
        },
        "outputId": "2f0bdbd5-ec84-4582-b513-a4b26beb8a4f"
      },
      "source": [
        "%%time\r\n",
        "mem = dict()\r\n",
        "for line in program:\r\n",
        "  if line[:4] == \"mask\":\r\n",
        "    mask = line[7:]\r\n",
        "    setmask = int(mask.replace('X', '0'), 2)\r\n",
        "    clearmask = int(mask.replace('X', '1'), 2)\r\n",
        "  elif line[:3] == \"mem\":\r\n",
        "    exec(line + \" & clearmask | setmask\")\r\n",
        "print(sum(mem.values()))"
      ],
      "execution_count": 41,
      "outputs": [
        {
          "output_type": "stream",
          "text": [
            "17028179706934\n",
            "CPU times: user 5.01 ms, sys: 0 ns, total: 5.01 ms\n",
            "Wall time: 5.06 ms\n"
          ],
          "name": "stdout"
        }
      ]
    },
    {
      "cell_type": "code",
      "metadata": {
        "id": "fjDHQ1juIS4B",
        "colab": {
          "base_uri": "https://localhost:8080/"
        },
        "outputId": "10790f10-80dd-476c-a052-5c86f6fcbbab"
      },
      "source": [
        "%%time\r\n",
        "def substitute(string, character, sequence):\r\n",
        "  index = 0\r\n",
        "  string = list(string)\r\n",
        "  for i, char in enumerate(string):\r\n",
        "    if char == character and index < len(sequence):\r\n",
        "      string[i] = sequence[index]\r\n",
        "      index += 1\r\n",
        "  return \"\".join(string)\r\n",
        "\r\n",
        "mem = dict()\r\n",
        "for line in program:\r\n",
        "  if line[:4] == \"mask\":\r\n",
        "    mask = line[7:]\r\n",
        "    count = mask.count('X')\r\n",
        "    masks = list()\r\n",
        "    for j in range(1 << count):\r\n",
        "      masks.append(f\"\"\" & 0b{substitute(mask.replace('0', '1'), 'X', f\"{j:0{count}b}\")} | 0b{substitute(mask, 'X', f\"{j:0{count}b}\")}\"\"\")\r\n",
        "  elif line[:3] == \"mem\":\r\n",
        "    address = line.partition(']')\r\n",
        "    for mask in masks:\r\n",
        "      exec(address[0] + mask + address[1] + address[2])\r\n",
        "print(sum(mem.values()))"
      ],
      "execution_count": 42,
      "outputs": [
        {
          "output_type": "stream",
          "text": [
            "3683236147222\n",
            "CPU times: user 1.02 s, sys: 21.9 ms, total: 1.05 s\n",
            "Wall time: 1.05 s\n"
          ],
          "name": "stdout"
        }
      ]
    },
    {
      "cell_type": "markdown",
      "metadata": {
        "id": "EkU0XXHp6Pzr"
      },
      "source": [
        "# Day 15: Rambunctious Recitation"
      ]
    },
    {
      "cell_type": "code",
      "metadata": {
        "id": "g79ksUxa6Rhy"
      },
      "source": [
        "with open(\"./drive/MyDrive/AoC2020/15/input.txt\") as input:\r\n",
        "  starting = tuple(map(int, input.read().split(\",\")))\r\n",
        "\r\n",
        "def spoken_at(number_spoken):\r\n",
        "  numbers = dict()\r\n",
        "  for turn, spoken in enumerate(starting):\r\n",
        "    numbers[spoken] = (turn,)\r\n",
        "  for turn in range(turn + 1, number_spoken):\r\n",
        "    spoken = (turn - numbers[spoken][0] if len(numbers[spoken]) == 1 else numbers[spoken][0] - numbers[spoken][1]) if len(numbers[spoken]) > 1 else 0\r\n",
        "    numbers[spoken] = (turn,) + numbers[spoken][:2] if spoken in numbers else (turn,)\r\n",
        "  return spoken"
      ],
      "execution_count": 43,
      "outputs": []
    },
    {
      "cell_type": "code",
      "metadata": {
        "id": "9kvTDTs3Ugk_",
        "colab": {
          "base_uri": "https://localhost:8080/"
        },
        "outputId": "666821dd-3b77-441c-d383-50cb63100236"
      },
      "source": [
        "%%time\r\n",
        "print(spoken_at(2020))"
      ],
      "execution_count": 44,
      "outputs": [
        {
          "output_type": "stream",
          "text": [
            "260\n",
            "CPU times: user 1.83 ms, sys: 29 µs, total: 1.86 ms\n",
            "Wall time: 2.26 ms\n"
          ],
          "name": "stdout"
        }
      ]
    },
    {
      "cell_type": "code",
      "metadata": {
        "id": "7k3qgiu3VL3p",
        "colab": {
          "base_uri": "https://localhost:8080/"
        },
        "outputId": "7a5e412e-0a34-4374-8df3-fa403ff08efe"
      },
      "source": [
        "%%time\r\n",
        "print(spoken_at(30000000))"
      ],
      "execution_count": 45,
      "outputs": [
        {
          "output_type": "stream",
          "text": [
            "950\n",
            "CPU times: user 31.8 s, sys: 512 ms, total: 32.3 s\n",
            "Wall time: 32.4 s\n"
          ],
          "name": "stdout"
        }
      ]
    },
    {
      "cell_type": "markdown",
      "metadata": {
        "id": "D9STclNq7A7c"
      },
      "source": [
        "# Day 16: Ticket Translation"
      ]
    },
    {
      "cell_type": "code",
      "metadata": {
        "id": "pD2GPEyb7B9M"
      },
      "source": [
        "with open(\"./drive/MyDrive/AoC2020/16/input.txt\") as input:\r\n",
        "  notes = input.read().split(\"\\n\\n\")\r\n",
        "  rules = {field[0]: tuple(tuple(int(number) for number in ranges.split(\"-\")) for ranges in field[1].split(\" or \")) for field in (note.split(\": \") for note in notes[0].splitlines())}\r\n",
        "  nearby = tuple(tuple(map(int, ticket.split(\",\"))) for ticket in notes[2].replace(\"nearby tickets:\\n\", \"\").splitlines())\r\n",
        "  my = tuple(map(int, notes[1].replace(\"your ticket:\\n\", \"\").split(\",\")))\r\n",
        "\r\n",
        "def field_valid(field):\r\n",
        "  return any(rule[0] <= field <= rule[1] for rule in (number for rule in rules.values() for number in rule))"
      ],
      "execution_count": 46,
      "outputs": []
    },
    {
      "cell_type": "code",
      "metadata": {
        "id": "X0ylsZ3KAQvV",
        "colab": {
          "base_uri": "https://localhost:8080/"
        },
        "outputId": "11759674-1fc0-48a5-cde3-a707a21bc876"
      },
      "source": [
        "%%time\r\n",
        "print(sum(field for ticket in nearby for field in ticket if not field_valid(field)))"
      ],
      "execution_count": 47,
      "outputs": [
        {
          "output_type": "stream",
          "text": [
            "29851\n",
            "CPU times: user 6.66 ms, sys: 0 ns, total: 6.66 ms\n",
            "Wall time: 6.93 ms\n"
          ],
          "name": "stdout"
        }
      ]
    },
    {
      "cell_type": "code",
      "metadata": {
        "id": "Lu2VQomDLocQ",
        "colab": {
          "base_uri": "https://localhost:8080/"
        },
        "outputId": "14612dc5-5538-40ac-ef70-e933bafc7b86"
      },
      "source": [
        "%%time\r\n",
        "from functools import reduce\r\n",
        "from operator import mul\r\n",
        "from time import time\r\n",
        "\r\n",
        "valid = tuple(ticket for ticket in nearby if all(field_valid(field) for field in ticket))\r\n",
        "remaining_rules = set(rules)\r\n",
        "rules_index = dict()\r\n",
        "while remaining_rules:\r\n",
        "  for rule in remaining_rules:\r\n",
        "    count = 0\r\n",
        "    for i in range(len(my)):\r\n",
        "      if not i in rules_index.values() and all(rules[rule][0][0] <= field <= rules[rule][0][1] or rules[rule][1][0] <= field <= rules[rule][1][1] for field in (ticket[i] for ticket in valid)):\r\n",
        "        count += 1\r\n",
        "        position = i\r\n",
        "    if count == 1:\r\n",
        "      remaining_rules.remove(rule)\r\n",
        "      rules_index[rule] = position\r\n",
        "      break\r\n",
        "print(reduce(mul, (my[rules_index[rule]] for rule in rules_index if rule[:9] == \"departure\")))"
      ],
      "execution_count": 48,
      "outputs": [
        {
          "output_type": "stream",
          "text": [
            "3029180675981\n",
            "CPU times: user 87.4 ms, sys: 964 µs, total: 88.3 ms\n",
            "Wall time: 88.7 ms\n"
          ],
          "name": "stdout"
        }
      ]
    }
  ]
}