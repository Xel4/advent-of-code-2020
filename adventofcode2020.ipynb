{
  "nbformat": 4,
  "nbformat_minor": 0,
  "metadata": {
    "colab": {
      "name": "adventofcode2020.ipynb",
      "provenance": [],
      "collapsed_sections": [
        "-CYUzi-O5CJ-",
        "qd96OkfUz5YC",
        "bK_E3WdAC0YS",
        "C0KMjN2HH_rA",
        "hy_xUPehoEvV",
        "1IRmu22Udtf9",
        "Wxg6x8qrmhCV",
        "amnou2lBwqVT",
        "9KmbSxmz5xJ0",
        "4GC9GhDJBcli",
        "jO3NNr4ZM0wi"
      ],
      "mount_file_id": "1vh1iW-QX0-Oa81ZcGA7A5anHm1xTj-wK",
      "authorship_tag": "ABX9TyOnX9LtFbFtFwvDNNnwauPS",
      "include_colab_link": true
    },
    "kernelspec": {
      "name": "python3",
      "display_name": "Python 3"
    }
  },
  "cells": [
    {
      "cell_type": "markdown",
      "metadata": {
        "id": "view-in-github",
        "colab_type": "text"
      },
      "source": [
        "<a href=\"https://colab.research.google.com/github/Xel4/advent-of-code-2020/blob/main/adventofcode2020.ipynb\" target=\"_parent\"><img src=\"https://colab.research.google.com/assets/colab-badge.svg\" alt=\"Open In Colab\"/></a>"
      ]
    },
    {
      "cell_type": "markdown",
      "metadata": {
        "id": "-CYUzi-O5CJ-"
      },
      "source": [
        "# Day 1: Report Repair"
      ]
    },
    {
      "cell_type": "code",
      "metadata": {
        "id": "I9DXypyvXRoT"
      },
      "source": [
        "from itertools import product\r\n",
        "\r\n",
        "with open(\"./drive/MyDrive/AoC2020/1/input.txt\") as input:\r\n",
        "  numbers = tuple(map(int, input.read().splitlines()))"
      ],
      "execution_count": 1,
      "outputs": []
    },
    {
      "cell_type": "code",
      "metadata": {
        "colab": {
          "base_uri": "https://localhost:8080/"
        },
        "id": "20XinPhfzJPN",
        "outputId": "a5bef709-f246-4217-e169-17710f5f779d"
      },
      "source": [
        "%%time\n",
        "print(next(x * y for x, y in product(numbers, repeat = 2) if x + y == 2020))"
      ],
      "execution_count": 2,
      "outputs": [
        {
          "output_type": "stream",
          "text": [
            "197451\n",
            "CPU times: user 3.89 ms, sys: 0 ns, total: 3.89 ms\n",
            "Wall time: 4.04 ms\n"
          ],
          "name": "stdout"
        }
      ]
    },
    {
      "cell_type": "code",
      "metadata": {
        "colab": {
          "base_uri": "https://localhost:8080/"
        },
        "id": "7pbSksNc-Zqm",
        "outputId": "88dcd5e4-40d4-4a58-fba4-e7299ad63194"
      },
      "source": [
        "%%time\n",
        "print(next(x * y * z for x, y, z in product(numbers, repeat = 3) if x + y + z == 2020))"
      ],
      "execution_count": 3,
      "outputs": [
        {
          "output_type": "stream",
          "text": [
            "138233720\n",
            "CPU times: user 218 ms, sys: 4.04 ms, total: 222 ms\n",
            "Wall time: 242 ms\n"
          ],
          "name": "stdout"
        }
      ]
    },
    {
      "cell_type": "markdown",
      "metadata": {
        "id": "qd96OkfUz5YC"
      },
      "source": [
        "# Day 2: Password Philosophy"
      ]
    },
    {
      "cell_type": "code",
      "metadata": {
        "id": "9nC20_NoaiiB"
      },
      "source": [
        "with open(\"./drive/MyDrive/AoC2020/2/input.txt\") as input:\r\n",
        "  passwords = tuple(input.read().splitlines())"
      ],
      "execution_count": 4,
      "outputs": []
    },
    {
      "cell_type": "code",
      "metadata": {
        "id": "0XhJrGwH1eTi",
        "colab": {
          "base_uri": "https://localhost:8080/"
        },
        "outputId": "a31fa826-a71a-41de-b849-4cd521aa613d"
      },
      "source": [
        "%%time\n",
        "valid = 0\n",
        "for password in passwords:\n",
        "  count = 0\n",
        "  for character in password.split(\": \")[1]:\n",
        "    if character == password.split(\" \")[1][0]:\n",
        "      count += 1\n",
        "  if count >= int(password.split(\"-\")[0]) and count <= int(password.split(\"-\")[1].split(\" \")[0]):\n",
        "    valid += 1\n",
        "print(valid)"
      ],
      "execution_count": 5,
      "outputs": [
        {
          "output_type": "stream",
          "text": [
            "548\n",
            "CPU times: user 4.47 ms, sys: 1.11 ms, total: 5.57 ms\n",
            "Wall time: 5.56 ms\n"
          ],
          "name": "stdout"
        }
      ]
    },
    {
      "cell_type": "code",
      "metadata": {
        "id": "iZgVC4Lj6OyB",
        "colab": {
          "base_uri": "https://localhost:8080/"
        },
        "outputId": "061aa8c8-b5c8-457c-efcb-55956b809b46"
      },
      "source": [
        "%%time\n",
        "valid = 0\n",
        "for password in passwords:\n",
        "  check = password.split(\" \")[1][0]\n",
        "  first = password.split(\": \")[1][int(password.split(\"-\")[0]) - 1]\n",
        "  second = password.split(\": \")[1][int(password.split(\"-\")[1].split(\" \")[0]) - 1]\n",
        "  if (first == check and second != check) or (first != check and second == check):\n",
        "    valid += 1\n",
        "print(valid)"
      ],
      "execution_count": 6,
      "outputs": [
        {
          "output_type": "stream",
          "text": [
            "502\n",
            "CPU times: user 4.5 ms, sys: 113 µs, total: 4.61 ms\n",
            "Wall time: 12 ms\n"
          ],
          "name": "stdout"
        }
      ]
    },
    {
      "cell_type": "markdown",
      "metadata": {
        "id": "bK_E3WdAC0YS"
      },
      "source": [
        "# Day 3: Toboggan Trajectory"
      ]
    },
    {
      "cell_type": "code",
      "metadata": {
        "id": "9FBAatJibTlx"
      },
      "source": [
        "def slope(h, v, grid):\r\n",
        "  y = 0\r\n",
        "  x = 0\r\n",
        "  trees = 0\r\n",
        "  while y < len(grid):\r\n",
        "    if x >= len(grid[0]):\r\n",
        "      grid = [x + x for x in grid]\r\n",
        "    if grid[y][x] == '#':\r\n",
        "      trees += 1\r\n",
        "    x += h\r\n",
        "    y += v\r\n",
        "  return trees\r\n",
        "\r\n",
        "with open(\"./drive/MyDrive/AoC2020/3/input.txt\") as input:\r\n",
        "  grid = tuple(input.read().splitlines())"
      ],
      "execution_count": 7,
      "outputs": []
    },
    {
      "cell_type": "code",
      "metadata": {
        "id": "zGTRVjCJC2S8",
        "colab": {
          "base_uri": "https://localhost:8080/"
        },
        "outputId": "8f714f0f-2225-47a3-b9f7-8d8fbe98dd01"
      },
      "source": [
        "%%time\n",
        "print(slope(3, 1, grid))"
      ],
      "execution_count": 8,
      "outputs": [
        {
          "output_type": "stream",
          "text": [
            "176\n",
            "CPU times: user 381 µs, sys: 1.09 ms, total: 1.47 ms\n",
            "Wall time: 1.85 ms\n"
          ],
          "name": "stdout"
        }
      ]
    },
    {
      "cell_type": "code",
      "metadata": {
        "id": "U7WhebEKGYIf",
        "colab": {
          "base_uri": "https://localhost:8080/"
        },
        "outputId": "09102045-05be-4d86-b916-cc0946a80f98"
      },
      "source": [
        "%%time\n",
        "from functools import reduce\n",
        "from operator import mul\n",
        "\n",
        "print(reduce(mul, (slope(h, v, grid) for h, v in ((1, 1), (3, 1), (5, 1), (7, 1), (1, 2)))))"
      ],
      "execution_count": 9,
      "outputs": [
        {
          "output_type": "stream",
          "text": [
            "5872458240\n",
            "CPU times: user 4.61 ms, sys: 0 ns, total: 4.61 ms\n",
            "Wall time: 5.87 ms\n"
          ],
          "name": "stdout"
        }
      ]
    },
    {
      "cell_type": "markdown",
      "metadata": {
        "id": "C0KMjN2HH_rA"
      },
      "source": [
        "# Day 4: Passport Processing"
      ]
    },
    {
      "cell_type": "code",
      "metadata": {
        "id": "yjWMeDYycliv"
      },
      "source": [
        "def is_valid(passport):\r\n",
        "  return all(x in passport for x in [\"byr\", \"iyr\", \"eyr\", \"hgt\", \"hcl\", \"ecl\", \"pid\"])\r\n",
        "\r\n",
        "with open(\"./drive/MyDrive/AoC2020/4/input.txt\") as input:\r\n",
        "  batch = tuple(input.read().split(\"\\n\\n\"))"
      ],
      "execution_count": 10,
      "outputs": []
    },
    {
      "cell_type": "code",
      "metadata": {
        "id": "Kb1KmZ_FIFj_",
        "colab": {
          "base_uri": "https://localhost:8080/"
        },
        "outputId": "f5dada15-d6c2-4b8a-b886-04b76f9ca977"
      },
      "source": [
        "%%time\n",
        "print(sum(is_valid(passport) for passport in batch))"
      ],
      "execution_count": 11,
      "outputs": [
        {
          "output_type": "stream",
          "text": [
            "256\n",
            "CPU times: user 424 µs, sys: 0 ns, total: 424 µs\n",
            "Wall time: 416 µs\n"
          ],
          "name": "stdout"
        }
      ]
    },
    {
      "cell_type": "code",
      "metadata": {
        "id": "EhII3x0tKVk_",
        "colab": {
          "base_uri": "https://localhost:8080/"
        },
        "outputId": "c3e6e535-cff3-4c98-ec11-bf0f51132e68"
      },
      "source": [
        "%%time\n",
        "valid = 0\n",
        "for passport in batch:\n",
        "  if is_valid(passport):\n",
        "    fields = dict([x.split(\":\") for x in passport.split()])\n",
        "    validation = int(fields[\"byr\"]) >= 1920 and int(fields[\"byr\"]) <= 2002\n",
        "    validation = validation and int(fields[\"iyr\"]) >= 2010 and int(fields[\"iyr\"]) <= 2020\n",
        "    validation = validation and int(fields[\"eyr\"]) >= 2020 and int(fields[\"eyr\"]) <= 2030\n",
        "    if fields[\"hgt\"][-2:] == \"cm\":\n",
        "      validation = validation and int(fields[\"hgt\"][:-2]) >= 150 and int(fields[\"hgt\"][:-2]) <= 193\n",
        "    elif fields[\"hgt\"][-2:] == \"in\":\n",
        "      validation = validation and int(fields[\"hgt\"][:-2]) >= 59 and int(fields[\"hgt\"][:-2]) <= 76\n",
        "    else:\n",
        "      validation = False\n",
        "    validation = validation and fields[\"hcl\"][0] == \"#\" and len(fields[\"hcl\"]) == 7 and set(fields[\"hcl\"][1:]) <= set(\"1234567890abcdef\")\n",
        "    validation = validation and fields[\"ecl\"] in [\"amb\", \"blu\", \"brn\", \"gry\", \"grn\", \"hzl\", \"oth\"]\n",
        "    validation = validation and len(fields[\"pid\"]) == 9\n",
        "    if validation:\n",
        "      valid += 1\n",
        "print(valid)"
      ],
      "execution_count": 12,
      "outputs": [
        {
          "output_type": "stream",
          "text": [
            "198\n",
            "CPU times: user 1.63 ms, sys: 679 µs, total: 2.31 ms\n",
            "Wall time: 2.26 ms\n"
          ],
          "name": "stdout"
        }
      ]
    },
    {
      "cell_type": "markdown",
      "metadata": {
        "id": "hy_xUPehoEvV"
      },
      "source": [
        "# Day 5: Binary Boarding"
      ]
    },
    {
      "cell_type": "code",
      "metadata": {
        "id": "m3wAB0FQ4NBb"
      },
      "source": [
        "def decode(seat):\n",
        "  return int(seat.replace(\"F\", \"0\").replace(\"L\", \"0\").replace(\"B\", \"1\").replace(\"R\", \"1\"), 2)\n",
        "\n",
        "with open(\"./drive/MyDrive/AoC2020/5/input.txt\") as input:\n",
        "  seats = tuple(input.read().splitlines())"
      ],
      "execution_count": 13,
      "outputs": []
    },
    {
      "cell_type": "code",
      "metadata": {
        "id": "RfKurHABoF4q",
        "colab": {
          "base_uri": "https://localhost:8080/"
        },
        "outputId": "d4b5117f-550e-462f-df2b-c580bf298636"
      },
      "source": [
        "%%time\r\n",
        "print(max(decode(seat) for seat in seats))"
      ],
      "execution_count": 14,
      "outputs": [
        {
          "output_type": "stream",
          "text": [
            "848\n",
            "CPU times: user 925 µs, sys: 0 ns, total: 925 µs\n",
            "Wall time: 903 µs\n"
          ],
          "name": "stdout"
        }
      ]
    },
    {
      "cell_type": "code",
      "metadata": {
        "id": "qxTQG0jS19dM",
        "colab": {
          "base_uri": "https://localhost:8080/"
        },
        "outputId": "957e265b-0db4-48eb-c49a-17580d8fbb1c"
      },
      "source": [
        "%%time\n",
        "seats_set = set(decode(seat) for seat in seats)\n",
        "print((set(range(min(seats_set), max(seats_set))) - seats_set).pop())"
      ],
      "execution_count": 15,
      "outputs": [
        {
          "output_type": "stream",
          "text": [
            "682\n",
            "CPU times: user 1.04 ms, sys: 9 µs, total: 1.05 ms\n",
            "Wall time: 1.01 ms\n"
          ],
          "name": "stdout"
        }
      ]
    },
    {
      "cell_type": "markdown",
      "metadata": {
        "id": "1IRmu22Udtf9"
      },
      "source": [
        "# Day 6: Custom Customs"
      ]
    },
    {
      "cell_type": "code",
      "metadata": {
        "id": "I0EgDNE9dzlR"
      },
      "source": [
        "with open(\"./drive/MyDrive/AoC2020/6/input.txt\") as input:\n",
        "  groups = tuple(input.read().split(\"\\n\\n\"))"
      ],
      "execution_count": 16,
      "outputs": []
    },
    {
      "cell_type": "code",
      "metadata": {
        "id": "Q2g0TOhVeImE",
        "colab": {
          "base_uri": "https://localhost:8080/"
        },
        "outputId": "0c4719e0-78df-44fe-9be4-09e796526dbb"
      },
      "source": [
        "%%time\n",
        "print(sum(len(set(group.replace(\"\\n\", \"\"))) for group in groups))"
      ],
      "execution_count": 17,
      "outputs": [
        {
          "output_type": "stream",
          "text": [
            "6680\n",
            "CPU times: user 1.84 ms, sys: 184 µs, total: 2.03 ms\n",
            "Wall time: 2.61 ms\n"
          ],
          "name": "stdout"
        }
      ]
    },
    {
      "cell_type": "code",
      "metadata": {
        "id": "_z0ccYDMfbNo",
        "colab": {
          "base_uri": "https://localhost:8080/"
        },
        "outputId": "89510530-1b5a-4e29-c9a7-84d3c83eae9b"
      },
      "source": [
        "%%time\n",
        "print(sum(len(set.intersection(*[set(person) for person in group.split(\"\\n\")])) for group in groups))"
      ],
      "execution_count": 18,
      "outputs": [
        {
          "output_type": "stream",
          "text": [
            "3112\n",
            "CPU times: user 3.53 ms, sys: 0 ns, total: 3.53 ms\n",
            "Wall time: 4.15 ms\n"
          ],
          "name": "stdout"
        }
      ]
    },
    {
      "cell_type": "markdown",
      "metadata": {
        "id": "Wxg6x8qrmhCV"
      },
      "source": [
        "# Day 7: Handy Haversacks"
      ]
    },
    {
      "cell_type": "code",
      "metadata": {
        "id": "As_-vs81mkof"
      },
      "source": [
        "with open(\"./drive/MyDrive/AoC2020/7/input.txt\") as input:\n",
        "  rules = dict((rule[0], tuple((bag, int(count)) for count, bag in (bags.split(\" \", 1) for bags in rule[1].split(\", \")))) for rule in (rule_text.split(\" contain \") for rule_text in input.read().replace(\".\", \"\").replace(\"no\", \"0\").replace(\" bags\", \"\").replace(\" bag\", \"\").splitlines()))"
      ],
      "execution_count": 19,
      "outputs": []
    },
    {
      "cell_type": "code",
      "metadata": {
        "id": "FPrt2aC66GL_",
        "colab": {
          "base_uri": "https://localhost:8080/"
        },
        "outputId": "82da431d-a53b-4999-dd66-290e755283ef"
      },
      "source": [
        "%%time\n",
        "def contains_bag(bags, the_bag):\n",
        "  if bags == the_bag:\n",
        "    return True\n",
        "  for bag, amount in rules[bags]:\n",
        "    if amount and contains_bag(bag, the_bag):\n",
        "      return True\n",
        "  return False\n",
        "\n",
        "count = 0\n",
        "for bag in rules:\n",
        "  count += contains_bag(bag, \"shiny gold\")\n",
        "print(count - 1)"
      ],
      "execution_count": 20,
      "outputs": [
        {
          "output_type": "stream",
          "text": [
            "161\n",
            "CPU times: user 81.8 ms, sys: 939 µs, total: 82.7 ms\n",
            "Wall time: 84.1 ms\n"
          ],
          "name": "stdout"
        }
      ]
    },
    {
      "cell_type": "code",
      "metadata": {
        "id": "_WbrlJvV6K7l",
        "colab": {
          "base_uri": "https://localhost:8080/"
        },
        "outputId": "60581cc7-55f4-4211-98cc-5921e3547245"
      },
      "source": [
        "%%time\n",
        "def count_bags(bags):\n",
        "  count = 1\n",
        "  for bag, amount in rules[bags]:\n",
        "    for _ in range(amount):\n",
        "      count += count_bags(bag)\n",
        "  return count\n",
        "\n",
        "print(count_bags(\"shiny gold\") - 1)"
      ],
      "execution_count": 21,
      "outputs": [
        {
          "output_type": "stream",
          "text": [
            "30899\n",
            "CPU times: user 15.1 ms, sys: 20 µs, total: 15.1 ms\n",
            "Wall time: 15.9 ms\n"
          ],
          "name": "stdout"
        }
      ]
    },
    {
      "cell_type": "markdown",
      "metadata": {
        "id": "amnou2lBwqVT"
      },
      "source": [
        "# Day 8: Handheld Halting"
      ]
    },
    {
      "cell_type": "code",
      "metadata": {
        "id": "kXvvcuYcwuUr"
      },
      "source": [
        "with open(\"./drive/MyDrive/AoC2020/8/input.txt\") as input:\n",
        "  program = tuple((instruction[0], int(instruction[1])) for instruction in (line.split(\" \") for line in input.read().splitlines()))"
      ],
      "execution_count": 22,
      "outputs": []
    },
    {
      "cell_type": "code",
      "metadata": {
        "id": "qdQIffQPyuYM",
        "colab": {
          "base_uri": "https://localhost:8080/"
        },
        "outputId": "17a04ca4-9b2e-4a5c-836a-5d64d97ecac5"
      },
      "source": [
        "%%time\n",
        "acc = 0\n",
        "pc = 0\n",
        "history = set()\n",
        "while not pc in history:\n",
        "  history.add(pc)\n",
        "  (op, arg) = program[pc]\n",
        "  if op == \"acc\":\n",
        "    acc += arg\n",
        "    pc += 1\n",
        "  elif op == \"jmp\":\n",
        "    pc += arg\n",
        "  elif op == \"nop\":\n",
        "    pc += 1\n",
        "print(acc)"
      ],
      "execution_count": 23,
      "outputs": [
        {
          "output_type": "stream",
          "text": [
            "1548\n",
            "CPU times: user 247 µs, sys: 0 ns, total: 247 µs\n",
            "Wall time: 218 µs\n"
          ],
          "name": "stdout"
        }
      ]
    },
    {
      "cell_type": "code",
      "metadata": {
        "id": "Rje_qSa024te",
        "colab": {
          "base_uri": "https://localhost:8080/"
        },
        "outputId": "f4a3868c-9ba5-4b19-9d2d-39b9df324932"
      },
      "source": [
        "%%time\n",
        "def swap_jmp_nop(program, index):\n",
        "  if program[index][0] == \"jmp\":\n",
        "    program[index] = (\"nop\", program[index][1])\n",
        "  elif program[index][0] == \"nop\":\n",
        "    program[index] = (\"jmp\", program[index][1])\n",
        "  return program\n",
        "\n",
        "def fix_program(program):\n",
        "  last = None\n",
        "  for i, instruction in enumerate(program):\n",
        "    if instruction[0] != \"acc\":\n",
        "      if last != None:\n",
        "        program = swap_jmp_nop(program, last)\n",
        "      last = i\n",
        "      program = swap_jmp_nop(program, i)\n",
        "      yield program\n",
        "  if last != None:\n",
        "    program = swap_jmp_nop(program, last)\n",
        "\n",
        "def fixed_acc(program):\n",
        "  program = list(program)\n",
        "  for fixed in fix_program(program):\n",
        "    acc = 0\n",
        "    pc = 0\n",
        "    history = set()\n",
        "    while not pc in history:\n",
        "      if pc >= len(fixed):\n",
        "        return acc\n",
        "      history.add(pc)\n",
        "      (op, arg) = fixed[pc]\n",
        "      if op == \"acc\":\n",
        "        acc += arg\n",
        "        pc += 1\n",
        "      elif op == \"jmp\":\n",
        "        pc += arg\n",
        "      elif op == \"nop\":\n",
        "        pc += 1\n",
        "\n",
        "print(fixed_acc(program))"
      ],
      "execution_count": 24,
      "outputs": [
        {
          "output_type": "stream",
          "text": [
            "1375\n",
            "CPU times: user 5.44 ms, sys: 666 µs, total: 6.11 ms\n",
            "Wall time: 6.07 ms\n"
          ],
          "name": "stdout"
        }
      ]
    },
    {
      "cell_type": "markdown",
      "metadata": {
        "id": "9KmbSxmz5xJ0"
      },
      "source": [
        "# Day 9: Encoding Error"
      ]
    },
    {
      "cell_type": "code",
      "metadata": {
        "id": "_macUt9z_184"
      },
      "source": [
        "def is_valid(i, number):\r\n",
        "  for a in numbers[i - preamble:i]:\r\n",
        "    for b in numbers[i - preamble:i]:\r\n",
        "      if a + b == number and not a == b:\r\n",
        "        return True\r\n",
        "  return False\r\n",
        "\r\n",
        "def find_invalid():\r\n",
        "  for i, number in enumerate(numbers):\r\n",
        "    if i > preamble:\r\n",
        "      if not is_valid(i, number):\r\n",
        "        return number\r\n",
        "\r\n",
        "with open(\"./drive/MyDrive/AoC2020/9/input.txt\") as input:\r\n",
        "  numbers = tuple(map(int, input.read().splitlines()))\r\n",
        "preamble = 25"
      ],
      "execution_count": 25,
      "outputs": []
    },
    {
      "cell_type": "code",
      "metadata": {
        "id": "JROsOtae5yOx",
        "colab": {
          "base_uri": "https://localhost:8080/"
        },
        "outputId": "f3f5732b-bde6-4b9d-93ac-e1fed551ba90"
      },
      "source": [
        "%%time\r\n",
        "print(find_invalid())"
      ],
      "execution_count": 26,
      "outputs": [
        {
          "output_type": "stream",
          "text": [
            "22477624\n",
            "CPU times: user 2.3 ms, sys: 0 ns, total: 2.3 ms\n",
            "Wall time: 2.26 ms\n"
          ],
          "name": "stdout"
        }
      ]
    },
    {
      "cell_type": "code",
      "metadata": {
        "id": "C0nZ_U3L_0di",
        "colab": {
          "base_uri": "https://localhost:8080/"
        },
        "outputId": "0c3894c8-57a3-4c0e-a24f-91661eaa5987"
      },
      "source": [
        "%%time\r\n",
        "def sum_to_invalid(number):\r\n",
        "  for a in range(len(numbers)):\r\n",
        "    for b in range(a, len(numbers)):\r\n",
        "      if sum(numbers[a:b]) == number:\r\n",
        "        return min(numbers[a:b]) + max(numbers[a:b])\r\n",
        "\r\n",
        "print(sum_to_invalid(find_invalid()))"
      ],
      "execution_count": 27,
      "outputs": [
        {
          "output_type": "stream",
          "text": [
            "2980044\n",
            "CPU times: user 931 ms, sys: 2.6 ms, total: 934 ms\n",
            "Wall time: 936 ms\n"
          ],
          "name": "stdout"
        }
      ]
    },
    {
      "cell_type": "markdown",
      "metadata": {
        "id": "4GC9GhDJBcli"
      },
      "source": [
        "# Day 10: Adapter Array"
      ]
    },
    {
      "cell_type": "code",
      "metadata": {
        "id": "TsDVsJ6mBdhc"
      },
      "source": [
        "with open(\"./drive/MyDrive/AoC2020/10/input.txt\") as input:\r\n",
        "  adapters = tuple(map(int, input.read().split()))"
      ],
      "execution_count": 28,
      "outputs": []
    },
    {
      "cell_type": "code",
      "metadata": {
        "id": "QVp5yHaIFYxY",
        "colab": {
          "base_uri": "https://localhost:8080/"
        },
        "outputId": "15631812-3c02-4e43-b869-4d6dd544011e"
      },
      "source": [
        "%%time\r\n",
        "adapters_sorted = list(adapters)\r\n",
        "adapters_sorted.sort()\r\n",
        "diff1 = 0\r\n",
        "diff3 = 1\r\n",
        "last = 0\r\n",
        "for jolt in adapters_sorted:\r\n",
        "  if jolt - last == 1:\r\n",
        "    diff1 += 1\r\n",
        "  elif jolt - last == 3:\r\n",
        "    diff3 += 1\r\n",
        "  last = jolt\r\n",
        "print(diff1 * diff3)"
      ],
      "execution_count": 29,
      "outputs": [
        {
          "output_type": "stream",
          "text": [
            "1980\n",
            "CPU times: user 148 µs, sys: 19 µs, total: 167 µs\n",
            "Wall time: 121 µs\n"
          ],
          "name": "stdout"
        }
      ]
    },
    {
      "cell_type": "code",
      "metadata": {
        "id": "oemMYh3PQn2T",
        "colab": {
          "base_uri": "https://localhost:8080/"
        },
        "outputId": "75e13b18-d421-4627-b1ce-6f2a533ab81a"
      },
      "source": [
        "%%time\r\n",
        "connections = {0: 1}\r\n",
        "def combinations(jolts, last):\r\n",
        "  if not last in connections:\r\n",
        "    connections[last] = sum(combinations({next for next in jolts if next < jolt}, jolt) for jolt in jolts if last - jolt <= 3)\r\n",
        "  return connections[last]\r\n",
        "\r\n",
        "print(combinations(set(adapters + (0,)), max(adapters) + 3))"
      ],
      "execution_count": 30,
      "outputs": [
        {
          "output_type": "stream",
          "text": [
            "4628074479616\n",
            "CPU times: user 1.91 ms, sys: 0 ns, total: 1.91 ms\n",
            "Wall time: 2.32 ms\n"
          ],
          "name": "stdout"
        }
      ]
    },
    {
      "cell_type": "markdown",
      "metadata": {
        "id": "jO3NNr4ZM0wi"
      },
      "source": [
        "# Day 11: Seating System"
      ]
    },
    {
      "cell_type": "code",
      "metadata": {
        "id": "ALISdUZRZ6aE"
      },
      "source": [
        "def update(layout, tolerance):\r\n",
        "  updated = [list(row) for row in layout]\r\n",
        "  for row in range(len(layout)):\r\n",
        "    for column in range(len(layout[0])):\r\n",
        "      if layout[row][column] == \"L\" and adjacent(layout, row, column) == 0:\r\n",
        "        updated[row][column] = \"#\"\r\n",
        "      elif layout[row][column] == \"#\" and adjacent(layout, row, column) >= tolerance:\r\n",
        "        updated[row][column] = \"L\"\r\n",
        "  return updated\r\n",
        "\r\n",
        "def count_occupied(layout, tolerance):\r\n",
        "  last_layout = []\r\n",
        "  while last_layout != layout:\r\n",
        "    last_layout = layout\r\n",
        "    layout = update(layout, tolerance)\r\n",
        "  count = 0\r\n",
        "  for row in layout:\r\n",
        "    for seat in row:\r\n",
        "      if seat == \"#\":\r\n",
        "        count += 1\r\n",
        "  return count\r\n",
        "\r\n",
        "with open(\"./drive/MyDrive/AoC2020/11/input.txt\") as input:\r\n",
        "  layout = tuple(input.read().splitlines())"
      ],
      "execution_count": 31,
      "outputs": []
    },
    {
      "cell_type": "code",
      "metadata": {
        "id": "hbjvK8l2M2Yq",
        "colab": {
          "base_uri": "https://localhost:8080/"
        },
        "outputId": "68bbab31-b7b0-411a-8d6e-5e4f028fb72d"
      },
      "source": [
        "%%time\r\n",
        "def adjacent(layout, row, column):\r\n",
        "  count = 0\r\n",
        "  for i in range(-1 if row > 0 else 0, 2 if row < len(layout) - 1 else 1):\r\n",
        "    for j in range(-1 if column > 0 else 0, 2 if column < len(layout[0]) - 1 else 1):\r\n",
        "      if (i or j) and layout[row + i][column + j] == \"#\":\r\n",
        "        count += 1\r\n",
        "  return count\r\n",
        "\r\n",
        "print(count_occupied(layout, 4))"
      ],
      "execution_count": 32,
      "outputs": [
        {
          "output_type": "stream",
          "text": [
            "2108\n",
            "CPU times: user 1.14 s, sys: 1.62 ms, total: 1.14 s\n",
            "Wall time: 1.14 s\n"
          ],
          "name": "stdout"
        }
      ]
    },
    {
      "cell_type": "code",
      "metadata": {
        "id": "Z_pL5_wHZ3kF",
        "colab": {
          "base_uri": "https://localhost:8080/"
        },
        "outputId": "46db8df6-3acf-4765-8756-230d6fae4061"
      },
      "source": [
        "%%time\r\n",
        "def visible(layout, row, column, x, y):\r\n",
        "  while row + x > -1 and row + x < len(layout) and column + y > -1 and column + y < len(layout[0]) and layout[row + x][column + y] != \"L\":\r\n",
        "    if layout[row + x][column + y] == \"#\":\r\n",
        "      return True\r\n",
        "    row += x\r\n",
        "    column += y\r\n",
        "  return False\r\n",
        "\r\n",
        "def adjacent(layout, row, column):\r\n",
        "  count = 0\r\n",
        "  for i in range(-1, 2):\r\n",
        "    for j in range(-1, 2):\r\n",
        "      if i or j:\r\n",
        "        if visible(layout, row, column, i, j):\r\n",
        "          count += 1\r\n",
        "  return count\r\n",
        "\r\n",
        "print(count_occupied(layout, 5))"
      ],
      "execution_count": 33,
      "outputs": [
        {
          "output_type": "stream",
          "text": [
            "1897\n",
            "CPU times: user 3.06 s, sys: 876 µs, total: 3.07 s\n",
            "Wall time: 3.07 s\n"
          ],
          "name": "stdout"
        }
      ]
    },
    {
      "cell_type": "markdown",
      "metadata": {
        "id": "Wrv0brTItPlf"
      },
      "source": [
        "# Day 12: Rain Risk"
      ]
    },
    {
      "cell_type": "code",
      "metadata": {
        "id": "5PZYQctxtS9r"
      },
      "source": [
        "with open(\"./drive/MyDrive/AoC2020/12/input.txt\") as input:\r\n",
        "  instructions = tuple((instruction[0], int(instruction[1:])) for instruction in input.read().split())"
      ],
      "execution_count": 34,
      "outputs": []
    },
    {
      "cell_type": "code",
      "metadata": {
        "id": "eRhgc9c_weqE",
        "colab": {
          "base_uri": "https://localhost:8080/"
        },
        "outputId": "6d6b73ea-99b2-41b1-a598-4c1e4cfe4884"
      },
      "source": [
        "%%time\r\n",
        "directions = {\r\n",
        "    -3: \"N\",\r\n",
        "    -2: \"W\",\r\n",
        "    -1: \"S\",\r\n",
        "    0: \"E\",\r\n",
        "    1: \"N\",\r\n",
        "    2: \"W\",\r\n",
        "    3: \"S\"\r\n",
        "}\r\n",
        "\r\n",
        "move = {\r\n",
        "    \"N\": lambda value, ship: ship[:1] + (ship[1] + value,) + ship[2:],\r\n",
        "    \"S\": lambda value, ship: ship[:1] + (ship[1] - value,) + ship[2:],\r\n",
        "    \"E\": lambda value, ship: (ship[0] + value,) + ship[1:],\r\n",
        "    \"W\": lambda value, ship: (ship[0] - value,) + ship[1:],\r\n",
        "    \"L\": lambda value, ship: ship[:2] + (ship[2] + value // 90,),\r\n",
        "    \"R\": lambda value, ship: ship[:2] + (ship[2] - value // 90,),\r\n",
        "    \"F\": lambda value, ship: move[directions[ship[2] % 4]](value, ship)\r\n",
        "}\r\n",
        "\r\n",
        "ferry = (0, 0, 0)\r\n",
        "for action, value in instructions:\r\n",
        "  ferry = move[action](value, ferry)\r\n",
        "print(abs(ferry[0]) + abs(ferry[1]))"
      ],
      "execution_count": 35,
      "outputs": [
        {
          "output_type": "stream",
          "text": [
            "1710\n",
            "CPU times: user 411 µs, sys: 923 µs, total: 1.33 ms\n",
            "Wall time: 1.12 ms\n"
          ],
          "name": "stdout"
        }
      ]
    },
    {
      "cell_type": "code",
      "metadata": {
        "id": "3OVDUQJZCtUn",
        "colab": {
          "base_uri": "https://localhost:8080/"
        },
        "outputId": "5aaec262-0486-46dd-e19b-8048d3d8adc5"
      },
      "source": [
        "%%time\r\n",
        "rotations = {\r\n",
        "    0: lambda waypoint: waypoint,\r\n",
        "    1: lambda waypoint: (-waypoint[1], waypoint[0]),\r\n",
        "    2: lambda waypoint: (-waypoint[0], -waypoint[1]),\r\n",
        "    3: lambda waypoint: (waypoint[1], -waypoint[0])\r\n",
        "}\r\n",
        "\r\n",
        "move = {\r\n",
        "    \"N\": lambda value, waypoint: (waypoint[0], waypoint[1] + value),\r\n",
        "    \"S\": lambda value, waypoint: (waypoint[0], waypoint[1] - value),\r\n",
        "    \"E\": lambda value, waypoint: (waypoint[0] + value, waypoint[1]),\r\n",
        "    \"W\": lambda value, waypoint: (waypoint[0] - value, waypoint[1]),\r\n",
        "    \"L\": lambda value, waypoint: rotations[value // 90 % 4](waypoint),\r\n",
        "    \"R\": lambda value, waypoint: rotations[(4 - value // 90) % 4](waypoint)\r\n",
        "}\r\n",
        "\r\n",
        "ferry = (0, 0)\r\n",
        "waypoint = (10, 1)\r\n",
        "for action, value in instructions:\r\n",
        "  if action == \"F\":\r\n",
        "    ferry = (ferry[0] + waypoint[0] * value, ferry[1] + waypoint[1] * value)\r\n",
        "  else:\r\n",
        "    waypoint = move[action](value, waypoint)\r\n",
        "print(abs(ferry[0]) + abs(ferry[1]))"
      ],
      "execution_count": 36,
      "outputs": [
        {
          "output_type": "stream",
          "text": [
            "62045\n",
            "CPU times: user 525 µs, sys: 0 ns, total: 525 µs\n",
            "Wall time: 494 µs\n"
          ],
          "name": "stdout"
        }
      ]
    },
    {
      "cell_type": "markdown",
      "metadata": {
        "id": "Bk4fmgE4nD4G"
      },
      "source": [
        "# Day 13: Shuttle Search"
      ]
    },
    {
      "cell_type": "code",
      "metadata": {
        "id": "VHtskY1wqKcT"
      },
      "source": [
        "with open(\"./drive/MyDrive/AoC2020/13/input.txt\") as input:\r\n",
        "  input = tuple(input.read().replace(\"x,\", \"\").splitlines())\r\n",
        "  timestamp = int(input[0])\r\n",
        "  ids = tuple(map(int, input[1].split(\",\")))"
      ],
      "execution_count": 37,
      "outputs": []
    },
    {
      "cell_type": "code",
      "metadata": {
        "id": "U8SgXnpMnGI4",
        "colab": {
          "base_uri": "https://localhost:8080/"
        },
        "outputId": "30e11cc4-c8cb-4b0a-8986-c5c7e7e064af"
      },
      "source": [
        "%%time\r\n",
        "times = ids\r\n",
        "while all(time < timestamp for time in times):\r\n",
        "  times = [time + id for time, id in zip(times, ids)]\r\n",
        "print(min((time - timestamp) * id for time, id in zip(times, ids) if time > timestamp))"
      ],
      "execution_count": 38,
      "outputs": [
        {
          "output_type": "stream",
          "text": [
            "3865\n",
            "CPU times: user 2.51 ms, sys: 26 µs, total: 2.53 ms\n",
            "Wall time: 2.54 ms\n"
          ],
          "name": "stdout"
        }
      ]
    },
    {
      "cell_type": "code",
      "metadata": {
        "id": "P8XVeDRZzx71",
        "colab": {
          "base_uri": "https://localhost:8080/"
        },
        "outputId": "7396eb86-5d07-4197-b483-d5eebedae709"
      },
      "source": [
        "%%time\r\n",
        "ids = ((offset, int(id)) for offset, id in enumerate(input[1].split(\",\")))\r\n",
        "expression = list()\r\n",
        "for offset, id in ids:\r\n",
        "  expression.append(f\"(t+{offset})%{id}=0\")\r\n",
        "print(\",\".join(expression))"
      ],
      "execution_count": 39,
      "outputs": [
        {
          "output_type": "stream",
          "text": [
            "(t+0)%13=0,(t+1)%37=0,(t+2)%449=0,(t+3)%29=0,(t+4)%19=0,(t+5)%23=0,(t+6)%773=0,(t+7)%41=0,(t+8)%17=0\n",
            "CPU times: user 449 µs, sys: 22 µs, total: 471 µs\n",
            "Wall time: 1.01 ms\n"
          ],
          "name": "stdout"
        }
      ]
    },
    {
      "cell_type": "markdown",
      "metadata": {
        "id": "I5YpzdSunbwa"
      },
      "source": [
        "# Day 14: Docking Data"
      ]
    },
    {
      "cell_type": "code",
      "metadata": {
        "id": "OTyHvcqmSO83"
      },
      "source": [
        "with open(\"./drive/MyDrive/AoC2020/14/input.txt\") as input:\r\n",
        "  program = tuple(input.read().splitlines())"
      ],
      "execution_count": 40,
      "outputs": []
    },
    {
      "cell_type": "code",
      "metadata": {
        "id": "bWUfAuJ9qvG0",
        "colab": {
          "base_uri": "https://localhost:8080/"
        },
        "outputId": "04050f62-9bbb-4267-ffb7-1d6db0b94756"
      },
      "source": [
        "%%time\r\n",
        "mem = dict()\r\n",
        "for line in program:\r\n",
        "  if line[:4] == \"mask\":\r\n",
        "    mask = line[7:]\r\n",
        "    setmask = int(mask.replace('X', '0'), 2)\r\n",
        "    clearmask = int(mask.replace('X', '1'), 2)\r\n",
        "  elif line[:3] == \"mem\":\r\n",
        "    exec(line + \" & clearmask | setmask\")\r\n",
        "print(sum(mem.values()))"
      ],
      "execution_count": 41,
      "outputs": [
        {
          "output_type": "stream",
          "text": [
            "17028179706934\n",
            "CPU times: user 4.92 ms, sys: 0 ns, total: 4.92 ms\n",
            "Wall time: 4.9 ms\n"
          ],
          "name": "stdout"
        }
      ]
    },
    {
      "cell_type": "code",
      "metadata": {
        "id": "fjDHQ1juIS4B",
        "colab": {
          "base_uri": "https://localhost:8080/"
        },
        "outputId": "f6f8a24c-8e02-41b9-d283-152e4bf31a45"
      },
      "source": [
        "%%time\r\n",
        "def substitute(string, character, sequence):\r\n",
        "  index = 0\r\n",
        "  string = list(string)\r\n",
        "  for i, char in enumerate(string):\r\n",
        "    if char == character and index < len(sequence):\r\n",
        "      string[i] = sequence[index]\r\n",
        "      index += 1\r\n",
        "  return \"\".join(string)\r\n",
        "\r\n",
        "mem = dict()\r\n",
        "for line in program:\r\n",
        "  if line[:4] == \"mask\":\r\n",
        "    mask = line[7:]\r\n",
        "    count = mask.count('X')\r\n",
        "    masks = list()\r\n",
        "    for j in range(1 << count):\r\n",
        "      masks.append(f\"\"\" & 0b{substitute(mask.replace('0', '1'), 'X', f\"{j:0{count}b}\")} | 0b{substitute(mask, 'X', f\"{j:0{count}b}\")}\"\"\")\r\n",
        "  elif line[:3] == \"mem\":\r\n",
        "    address = line.partition(']')\r\n",
        "    for mask in masks:\r\n",
        "      exec(address[0] + mask + address[1] + address[2])\r\n",
        "print(sum(mem.values()))"
      ],
      "execution_count": 42,
      "outputs": [
        {
          "output_type": "stream",
          "text": [
            "3683236147222\n",
            "CPU times: user 990 ms, sys: 21 ms, total: 1.01 s\n",
            "Wall time: 1.01 s\n"
          ],
          "name": "stdout"
        }
      ]
    },
    {
      "cell_type": "markdown",
      "metadata": {
        "id": "EkU0XXHp6Pzr"
      },
      "source": [
        "# Day 15: Rambunctious Recitation"
      ]
    },
    {
      "cell_type": "code",
      "metadata": {
        "id": "g79ksUxa6Rhy"
      },
      "source": [
        "with open(\"./drive/MyDrive/AoC2020/15/input.txt\") as input:\r\n",
        "  starting = tuple(map(int, input.read().split(\",\")))\r\n",
        "\r\n",
        "def spoken_at(number_spoken):\r\n",
        "  numbers = dict()\r\n",
        "  for turn, spoken in enumerate(starting):\r\n",
        "    numbers[spoken] = (turn,)\r\n",
        "  for turn in range(turn + 1, number_spoken):\r\n",
        "    spoken = (turn - numbers[spoken][0] if len(numbers[spoken]) == 1 else numbers[spoken][0] - numbers[spoken][1]) if len(numbers[spoken]) > 1 else 0\r\n",
        "    numbers[spoken] = (turn,) + numbers[spoken][:2] if spoken in numbers else (turn,)\r\n",
        "  return spoken"
      ],
      "execution_count": 43,
      "outputs": []
    },
    {
      "cell_type": "code",
      "metadata": {
        "id": "9kvTDTs3Ugk_",
        "colab": {
          "base_uri": "https://localhost:8080/"
        },
        "outputId": "65a2bea3-25dc-45fa-ed5d-4926da587633"
      },
      "source": [
        "%%time\r\n",
        "print(spoken_at(2020))"
      ],
      "execution_count": 44,
      "outputs": [
        {
          "output_type": "stream",
          "text": [
            "260\n",
            "CPU times: user 1.53 ms, sys: 25 µs, total: 1.56 ms\n",
            "Wall time: 2.47 ms\n"
          ],
          "name": "stdout"
        }
      ]
    },
    {
      "cell_type": "code",
      "metadata": {
        "id": "7k3qgiu3VL3p",
        "colab": {
          "base_uri": "https://localhost:8080/"
        },
        "outputId": "a71f7163-6be9-407d-9f70-d6d673713dc4"
      },
      "source": [
        "%%time\r\n",
        "print(spoken_at(30000000))"
      ],
      "execution_count": 45,
      "outputs": [
        {
          "output_type": "stream",
          "text": [
            "950\n",
            "CPU times: user 27.7 s, sys: 520 ms, total: 28.2 s\n",
            "Wall time: 28.2 s\n"
          ],
          "name": "stdout"
        }
      ]
    },
    {
      "cell_type": "markdown",
      "metadata": {
        "id": "D9STclNq7A7c"
      },
      "source": [
        "# Day 16: Ticket Translation"
      ]
    },
    {
      "cell_type": "code",
      "metadata": {
        "id": "pD2GPEyb7B9M"
      },
      "source": [
        "with open(\"./drive/MyDrive/AoC2020/16/input.txt\") as input:\r\n",
        "  notes = input.read().split(\"\\n\\n\")\r\n",
        "  rules = {field[0]: tuple(tuple(int(number) for number in ranges.split(\"-\")) for ranges in field[1].split(\" or \")) for field in (note.split(\": \") for note in notes[0].splitlines())}\r\n",
        "  nearby = tuple(tuple(map(int, ticket.split(\",\"))) for ticket in notes[2].replace(\"nearby tickets:\\n\", \"\").splitlines())\r\n",
        "  my = tuple(map(int, notes[1].replace(\"your ticket:\\n\", \"\").split(\",\")))\r\n",
        "\r\n",
        "def field_valid(field):\r\n",
        "  return any(rule[0] <= field <= rule[1] for rule in (number for rule in rules.values() for number in rule))"
      ],
      "execution_count": 46,
      "outputs": []
    },
    {
      "cell_type": "code",
      "metadata": {
        "id": "X0ylsZ3KAQvV",
        "colab": {
          "base_uri": "https://localhost:8080/"
        },
        "outputId": "1b1d7123-e170-43a8-e3d9-f72d091c4e96"
      },
      "source": [
        "%%time\r\n",
        "print(sum(field for ticket in nearby for field in ticket if not field_valid(field)))"
      ],
      "execution_count": 47,
      "outputs": [
        {
          "output_type": "stream",
          "text": [
            "29851\n",
            "CPU times: user 5.64 ms, sys: 0 ns, total: 5.64 ms\n",
            "Wall time: 5.58 ms\n"
          ],
          "name": "stdout"
        }
      ]
    },
    {
      "cell_type": "code",
      "metadata": {
        "id": "Lu2VQomDLocQ",
        "colab": {
          "base_uri": "https://localhost:8080/"
        },
        "outputId": "a365d7e9-4d37-4bad-c193-264ab692cff6"
      },
      "source": [
        "%%time\r\n",
        "from functools import reduce\r\n",
        "from operator import mul\r\n",
        "from time import time\r\n",
        "\r\n",
        "valid = tuple(ticket for ticket in nearby if all(field_valid(field) for field in ticket))\r\n",
        "remaining_rules = set(rules)\r\n",
        "rules_index = dict()\r\n",
        "while remaining_rules:\r\n",
        "  for rule in remaining_rules:\r\n",
        "    count = 0\r\n",
        "    for i in range(len(my)):\r\n",
        "      if not i in rules_index.values() and all(rules[rule][0][0] <= field <= rules[rule][0][1] or rules[rule][1][0] <= field <= rules[rule][1][1] for field in (ticket[i] for ticket in valid)):\r\n",
        "        count += 1\r\n",
        "        position = i\r\n",
        "    if count == 1:\r\n",
        "      remaining_rules.remove(rule)\r\n",
        "      rules_index[rule] = position\r\n",
        "      break\r\n",
        "print(reduce(mul, (my[rules_index[rule]] for rule in rules_index if rule[:9] == \"departure\")))"
      ],
      "execution_count": 48,
      "outputs": [
        {
          "output_type": "stream",
          "text": [
            "3029180675981\n",
            "CPU times: user 57.2 ms, sys: 1.03 ms, total: 58.3 ms\n",
            "Wall time: 58.8 ms\n"
          ],
          "name": "stdout"
        }
      ]
    },
    {
      "cell_type": "markdown",
      "metadata": {
        "id": "taw3rWr5EHvQ"
      },
      "source": [
        "# Day 17: Conway Cubes"
      ]
    },
    {
      "cell_type": "code",
      "metadata": {
        "id": "O9tciHavFdKe"
      },
      "source": [
        "from itertools import product\r\n",
        "\r\n",
        "def add_points(x, y, z, w, a, b, c, d = 0):\r\n",
        "  return (x + a, y + b, z + c, w + d)\r\n",
        "\r\n",
        "def count_activated(state, cycles, dimension):\r\n",
        "  for _ in range(cycles):\r\n",
        "    updated = state.copy()\r\n",
        "    for position in {add_points(*position, *offset) for position in state for offset in product(range(-1, 2), repeat = dimension)}:\r\n",
        "      neighbors = sum(add_points(*position, *offset) in state for offset in product(range(-1, 2), repeat = dimension) if any(offset))\r\n",
        "      if position in state and not (neighbors == 2 or neighbors == 3):\r\n",
        "        updated.remove(position)\r\n",
        "      elif position not in state and neighbors == 3:\r\n",
        "        updated.add(position)\r\n",
        "    state = updated\r\n",
        "  return len(state)\r\n",
        "\r\n",
        "with open(\"./drive/MyDrive/AoC2020/17/input.txt\") as input:\r\n",
        "  state = {(x, y, 0, 0) for x, y, cube in (column for row in (((x, y, cube) for x, cube in enumerate(line)) for y, line in enumerate(input.read().splitlines())) for column in row) if cube == \"#\"}"
      ],
      "execution_count": 49,
      "outputs": []
    },
    {
      "cell_type": "code",
      "metadata": {
        "colab": {
          "base_uri": "https://localhost:8080/"
        },
        "id": "2aEfEKMEGyqt",
        "outputId": "51082fc2-8da4-4ac4-d4f1-28ba6673e882"
      },
      "source": [
        "%%time\r\n",
        "print(count_activated(state, 6, 3))"
      ],
      "execution_count": 50,
      "outputs": [
        {
          "output_type": "stream",
          "text": [
            "209\n",
            "CPU times: user 90.1 ms, sys: 26 µs, total: 90.2 ms\n",
            "Wall time: 91.4 ms\n"
          ],
          "name": "stdout"
        }
      ]
    },
    {
      "cell_type": "code",
      "metadata": {
        "colab": {
          "base_uri": "https://localhost:8080/"
        },
        "id": "BNWIt6JhYFCB",
        "outputId": "3278edf8-b3de-468e-db0d-e1ff25702fdc"
      },
      "source": [
        "%%time\r\n",
        "print(count_activated(state, 6, 4))"
      ],
      "execution_count": 51,
      "outputs": [
        {
          "output_type": "stream",
          "text": [
            "1492\n",
            "CPU times: user 2.44 s, sys: 0 ns, total: 2.44 s\n",
            "Wall time: 2.44 s\n"
          ],
          "name": "stdout"
        }
      ]
    }
  ]
}