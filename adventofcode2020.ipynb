{
  "nbformat": 4,
  "nbformat_minor": 0,
  "metadata": {
    "colab": {
      "name": "adventofcode2020.ipynb",
      "provenance": [],
      "collapsed_sections": [
        "-CYUzi-O5CJ-",
        "qd96OkfUz5YC",
        "bK_E3WdAC0YS"
      ],
      "authorship_tag": "ABX9TyN5O9IjFefAg+DtDIgJSg22",
      "include_colab_link": true
    },
    "kernelspec": {
      "name": "python3",
      "display_name": "Python 3"
    }
  },
  "cells": [
    {
      "cell_type": "markdown",
      "metadata": {
        "id": "view-in-github",
        "colab_type": "text"
      },
      "source": [
        "<a href=\"https://colab.research.google.com/github/Xel4/advent-of-code-2020/blob/main/adventofcode2020.ipynb\" target=\"_parent\"><img src=\"https://colab.research.google.com/assets/colab-badge.svg\" alt=\"Open In Colab\"/></a>"
      ]
    },
    {
      "cell_type": "markdown",
      "metadata": {
        "id": "-CYUzi-O5CJ-"
      },
      "source": [
        "# Day 1: Report Repair"
      ]
    },
    {
      "cell_type": "code",
      "metadata": {
        "colab": {
          "base_uri": "https://localhost:8080/"
        },
        "id": "20XinPhfzJPN",
        "outputId": "2d03b619-41d2-42d8-c727-f56a172af9ae"
      },
      "source": [
        "input = open(\"input.txt\").read()\n",
        "for x in input.split():\n",
        "  for y in input.split():\n",
        "    if int(x) + int(y) == 2020:\n",
        "      print(int(x) * int(y))\n"
      ],
      "execution_count": null,
      "outputs": [
        {
          "output_type": "stream",
          "text": [
            "197451\n",
            "197451\n"
          ],
          "name": "stdout"
        }
      ]
    },
    {
      "cell_type": "code",
      "metadata": {
        "colab": {
          "base_uri": "https://localhost:8080/"
        },
        "id": "7pbSksNc-Zqm",
        "outputId": "1a50c286-fe7b-4503-d70f-a52b6204c8f3"
      },
      "source": [
        "input = open(\"input.txt\").read()\n",
        "for x in input.split():\n",
        "  for y in input.split():\n",
        "    for z in input.split():\n",
        "      if int(x) + int(y) + int(z) == 2020:\n",
        "        print(int(x) * int(y) * int(z))"
      ],
      "execution_count": null,
      "outputs": [
        {
          "output_type": "stream",
          "text": [
            "138233720\n",
            "138233720\n",
            "138233720\n",
            "138233720\n",
            "138233720\n",
            "138233720\n"
          ],
          "name": "stdout"
        }
      ]
    },
    {
      "cell_type": "markdown",
      "metadata": {
        "id": "qd96OkfUz5YC"
      },
      "source": [
        "# Day 2: Password Philosophy"
      ]
    },
    {
      "cell_type": "code",
      "metadata": {
        "colab": {
          "base_uri": "https://localhost:8080/"
        },
        "id": "0XhJrGwH1eTi",
        "outputId": "2ccb106c-c46a-48e5-82c9-762d5916f177"
      },
      "source": [
        "input = open(\"input.txt\").read()\n",
        "valid = 0\n",
        "for password in input.split(\"\\n\"):\n",
        "  count = 0\n",
        "  for character in password.split(\": \")[1]:\n",
        "    if character == password.split(\" \")[1][0]:\n",
        "      count += 1\n",
        "  if count >= int(password.split(\"-\")[0]) and count <= int(password.split(\"-\")[1].split(\" \")[0]):\n",
        "    valid += 1\n",
        "print(valid)\n"
      ],
      "execution_count": null,
      "outputs": [
        {
          "output_type": "stream",
          "text": [
            "548\n"
          ],
          "name": "stdout"
        }
      ]
    },
    {
      "cell_type": "code",
      "metadata": {
        "colab": {
          "base_uri": "https://localhost:8080/"
        },
        "id": "iZgVC4Lj6OyB",
        "outputId": "a67d13d7-2fa2-4ff2-9a0b-033e59cfc99f"
      },
      "source": [
        "input = open(\"input.txt\").read()\n",
        "valid = 0\n",
        "for password in input.split(\"\\n\"):\n",
        "  check = password.split(\" \")[1][0]\n",
        "  first = password.split(\": \")[1][int(password.split(\"-\")[0]) - 1]\n",
        "  second = password.split(\": \")[1][int(password.split(\"-\")[1].split(\" \")[0]) - 1]\n",
        "  if (first == check and second != check) or (first != check and second == check):\n",
        "    valid += 1\n",
        "\n",
        "print(valid)\n"
      ],
      "execution_count": null,
      "outputs": [
        {
          "output_type": "stream",
          "text": [
            "502\n"
          ],
          "name": "stdout"
        }
      ]
    },
    {
      "cell_type": "markdown",
      "metadata": {
        "id": "bK_E3WdAC0YS"
      },
      "source": [
        "# Day 3: Toboggan Trajectory"
      ]
    },
    {
      "cell_type": "code",
      "metadata": {
        "colab": {
          "base_uri": "https://localhost:8080/"
        },
        "id": "zGTRVjCJC2S8",
        "outputId": "ae062392-0110-468a-8357-c9b0bea279b6"
      },
      "source": [
        "with open(\"input.txt\") as input:\n",
        "  map = input.read().split()\n",
        "y = 0\n",
        "x = 0\n",
        "trees = 0\n",
        "while y < len(map):\n",
        "  if x >= len(map[0]):\n",
        "    map = [x + x for x in map]\n",
        "  if map[y][x] == '#':\n",
        "    trees += 1\n",
        "  x += 3\n",
        "  y += 1\n",
        "print(trees)"
      ],
      "execution_count": null,
      "outputs": [
        {
          "output_type": "stream",
          "text": [
            "176\n"
          ],
          "name": "stdout"
        }
      ]
    },
    {
      "cell_type": "code",
      "metadata": {
        "colab": {
          "base_uri": "https://localhost:8080/"
        },
        "id": "U7WhebEKGYIf",
        "outputId": "d674f7c0-ab5c-4052-9a1b-4082850d6b75"
      },
      "source": [
        "def slope(h, v, map):\n",
        "  y = 0\n",
        "  x = 0\n",
        "  trees = 0\n",
        "  while y < len(map):\n",
        "    if x >= len(map[0]):\n",
        "      map = [x + x for x in map]\n",
        "    if map[y][x] == '#':\n",
        "      trees += 1\n",
        "    x += h\n",
        "    y += v\n",
        "  return trees\n",
        "\n",
        "with open(\"input.txt\") as input:\n",
        "  map = input.read().split()\n",
        "multiplied = 1\n",
        "for h, v in [(1, 1), (3, 1), (5, 1), (7, 1), (1, 2)]:\n",
        "  multiplied *= slope(h, v, map)\n",
        "print(multiplied)"
      ],
      "execution_count": null,
      "outputs": [
        {
          "output_type": "stream",
          "text": [
            "5872458240\n"
          ],
          "name": "stdout"
        }
      ]
    },
    {
      "cell_type": "markdown",
      "metadata": {
        "id": "C0KMjN2HH_rA"
      },
      "source": [
        "# Day 4: Passport Processing"
      ]
    },
    {
      "cell_type": "code",
      "metadata": {
        "colab": {
          "base_uri": "https://localhost:8080/"
        },
        "id": "Kb1KmZ_FIFj_",
        "outputId": "fcfa5166-4624-4183-ed0e-76acf9563434"
      },
      "source": [
        "with open(\"input.txt\") as input:\n",
        "  batch = input.read().split(\"\\n\\n\")\n",
        "valid = 0\n",
        "for passport in batch:\n",
        "  if all(x in passport for x in [\"byr\", \"iyr\", \"eyr\", \"hgt\", \"hcl\", \"ecl\", \"pid\"]):\n",
        "    valid += 1\n",
        "print(valid)"
      ],
      "execution_count": null,
      "outputs": [
        {
          "output_type": "stream",
          "text": [
            "256\n"
          ],
          "name": "stdout"
        }
      ]
    },
    {
      "cell_type": "code",
      "metadata": {
        "colab": {
          "base_uri": "https://localhost:8080/"
        },
        "id": "EhII3x0tKVk_",
        "outputId": "184ba42d-8712-4430-dfb6-8def7941a2f8"
      },
      "source": [
        "with open(\"input.txt\") as input:\n",
        "  batch = input.read().split(\"\\n\\n\")\n",
        "valid = 0\n",
        "for passport in batch:\n",
        "  if all(x in passport for x in [\"byr\", \"iyr\", \"eyr\", \"hgt\", \"hcl\", \"ecl\", \"pid\"]):\n",
        "    fields = dict([x.split(\":\") for x in passport.split()])\n",
        "    validation = int(fields[\"byr\"]) >= 1920 and int(fields[\"byr\"]) <= 2002\n",
        "    validation = validation and int(fields[\"iyr\"]) >= 2010 and int(fields[\"iyr\"]) <= 2020\n",
        "    validation = validation and int(fields[\"eyr\"]) >= 2020 and int(fields[\"eyr\"]) <= 2030\n",
        "    if fields[\"hgt\"][-2:] == \"cm\":\n",
        "      validation = validation and int(fields[\"hgt\"][:-2]) >= 150 and int(fields[\"hgt\"][:-2]) <= 193\n",
        "    elif fields[\"hgt\"][-2:] == \"in\":\n",
        "      validation = validation and int(fields[\"hgt\"][:-2]) >= 59 and int(fields[\"hgt\"][:-2]) <= 76\n",
        "    else:\n",
        "      validation = False\n",
        "    validation = validation and fields[\"hcl\"][0] == \"#\" and len(fields[\"hcl\"]) == 7 and set(fields[\"hcl\"][1:]) <= set(\"1234567890abcdef\")\n",
        "    validation = validation and fields[\"ecl\"] in [\"amb\", \"blu\", \"brn\", \"gry\", \"grn\", \"hzl\", \"oth\"]\n",
        "    validation = validation and len(fields[\"pid\"]) == 9\n",
        "    if validation:\n",
        "      valid += 1\n",
        "print(valid)"
      ],
      "execution_count": null,
      "outputs": [
        {
          "output_type": "stream",
          "text": [
            "198\n"
          ],
          "name": "stdout"
        }
      ]
    }
  ]
}