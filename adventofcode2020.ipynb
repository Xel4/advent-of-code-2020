{
  "nbformat": 4,
  "nbformat_minor": 0,
  "metadata": {
    "colab": {
      "name": "adventofcode2020.ipynb",
      "provenance": [],
      "collapsed_sections": [
        "-CYUzi-O5CJ-",
        "qd96OkfUz5YC",
        "bK_E3WdAC0YS",
        "C0KMjN2HH_rA",
        "hy_xUPehoEvV",
        "1IRmu22Udtf9"
      ],
      "authorship_tag": "ABX9TyNtK7aPAQKkXmrA3BpXS4ns",
      "include_colab_link": true
    },
    "kernelspec": {
      "name": "python3",
      "display_name": "Python 3"
    }
  },
  "cells": [
    {
      "cell_type": "markdown",
      "metadata": {
        "id": "view-in-github",
        "colab_type": "text"
      },
      "source": [
        "<a href=\"https://colab.research.google.com/github/Xel4/advent-of-code-2020/blob/main/adventofcode2020.ipynb\" target=\"_parent\"><img src=\"https://colab.research.google.com/assets/colab-badge.svg\" alt=\"Open In Colab\"/></a>"
      ]
    },
    {
      "cell_type": "markdown",
      "metadata": {
        "id": "-CYUzi-O5CJ-"
      },
      "source": [
        "# Day 1: Report Repair"
      ]
    },
    {
      "cell_type": "code",
      "metadata": {
        "colab": {
          "base_uri": "https://localhost:8080/"
        },
        "id": "20XinPhfzJPN",
        "outputId": "3bf0259c-b9bd-4cc2-b84c-662345d23529"
      },
      "source": [
        "input = open(\"input.txt\").read()\n",
        "for x in input.split():\n",
        "  for y in input.split():\n",
        "    if int(x) + int(y) == 2020:\n",
        "      print(int(x) * int(y))\n",
        "      break\n",
        "  else:\n",
        "    continue\n",
        "  break\n"
      ],
      "execution_count": null,
      "outputs": [
        {
          "output_type": "stream",
          "text": [
            "197451\n"
          ],
          "name": "stdout"
        }
      ]
    },
    {
      "cell_type": "code",
      "metadata": {
        "colab": {
          "base_uri": "https://localhost:8080/"
        },
        "id": "7pbSksNc-Zqm",
        "outputId": "90055b97-c4e5-4f0b-f452-58926b073503"
      },
      "source": [
        "input = open(\"input.txt\").read()\n",
        "for x in input.split():\n",
        "  for y in input.split():\n",
        "    for z in input.split():\n",
        "      if int(x) + int(y) + int(z) == 2020:\n",
        "        print(int(x) * int(y) * int(z))\n",
        "        break\n",
        "    else:\n",
        "      continue\n",
        "    break\n",
        "  else:\n",
        "    continue\n",
        "  break"
      ],
      "execution_count": null,
      "outputs": [
        {
          "output_type": "stream",
          "text": [
            "138233720\n"
          ],
          "name": "stdout"
        }
      ]
    },
    {
      "cell_type": "markdown",
      "metadata": {
        "id": "qd96OkfUz5YC"
      },
      "source": [
        "# Day 2: Password Philosophy"
      ]
    },
    {
      "cell_type": "code",
      "metadata": {
        "colab": {
          "base_uri": "https://localhost:8080/"
        },
        "id": "0XhJrGwH1eTi",
        "outputId": "2ccb106c-c46a-48e5-82c9-762d5916f177"
      },
      "source": [
        "input = open(\"input.txt\").read()\n",
        "valid = 0\n",
        "for password in input.split(\"\\n\"):\n",
        "  count = 0\n",
        "  for character in password.split(\": \")[1]:\n",
        "    if character == password.split(\" \")[1][0]:\n",
        "      count += 1\n",
        "  if count >= int(password.split(\"-\")[0]) and count <= int(password.split(\"-\")[1].split(\" \")[0]):\n",
        "    valid += 1\n",
        "print(valid)\n"
      ],
      "execution_count": null,
      "outputs": [
        {
          "output_type": "stream",
          "text": [
            "548\n"
          ],
          "name": "stdout"
        }
      ]
    },
    {
      "cell_type": "code",
      "metadata": {
        "colab": {
          "base_uri": "https://localhost:8080/"
        },
        "id": "iZgVC4Lj6OyB",
        "outputId": "a67d13d7-2fa2-4ff2-9a0b-033e59cfc99f"
      },
      "source": [
        "input = open(\"input.txt\").read()\n",
        "valid = 0\n",
        "for password in input.split(\"\\n\"):\n",
        "  check = password.split(\" \")[1][0]\n",
        "  first = password.split(\": \")[1][int(password.split(\"-\")[0]) - 1]\n",
        "  second = password.split(\": \")[1][int(password.split(\"-\")[1].split(\" \")[0]) - 1]\n",
        "  if (first == check and second != check) or (first != check and second == check):\n",
        "    valid += 1\n",
        "\n",
        "print(valid)\n"
      ],
      "execution_count": null,
      "outputs": [
        {
          "output_type": "stream",
          "text": [
            "502\n"
          ],
          "name": "stdout"
        }
      ]
    },
    {
      "cell_type": "markdown",
      "metadata": {
        "id": "bK_E3WdAC0YS"
      },
      "source": [
        "# Day 3: Toboggan Trajectory"
      ]
    },
    {
      "cell_type": "code",
      "metadata": {
        "colab": {
          "base_uri": "https://localhost:8080/"
        },
        "id": "zGTRVjCJC2S8",
        "outputId": "ae062392-0110-468a-8357-c9b0bea279b6"
      },
      "source": [
        "with open(\"input.txt\") as input:\n",
        "  map = input.read().split()\n",
        "y = 0\n",
        "x = 0\n",
        "trees = 0\n",
        "while y < len(map):\n",
        "  if x >= len(map[0]):\n",
        "    map = [x + x for x in map]\n",
        "  if map[y][x] == '#':\n",
        "    trees += 1\n",
        "  x += 3\n",
        "  y += 1\n",
        "print(trees)"
      ],
      "execution_count": null,
      "outputs": [
        {
          "output_type": "stream",
          "text": [
            "176\n"
          ],
          "name": "stdout"
        }
      ]
    },
    {
      "cell_type": "code",
      "metadata": {
        "colab": {
          "base_uri": "https://localhost:8080/"
        },
        "id": "U7WhebEKGYIf",
        "outputId": "d674f7c0-ab5c-4052-9a1b-4082850d6b75"
      },
      "source": [
        "def slope(h, v, map):\n",
        "  y = 0\n",
        "  x = 0\n",
        "  trees = 0\n",
        "  while y < len(map):\n",
        "    if x >= len(map[0]):\n",
        "      map = [x + x for x in map]\n",
        "    if map[y][x] == '#':\n",
        "      trees += 1\n",
        "    x += h\n",
        "    y += v\n",
        "  return trees\n",
        "\n",
        "with open(\"input.txt\") as input:\n",
        "  map = input.read().split()\n",
        "multiplied = 1\n",
        "for h, v in [(1, 1), (3, 1), (5, 1), (7, 1), (1, 2)]:\n",
        "  multiplied *= slope(h, v, map)\n",
        "print(multiplied)"
      ],
      "execution_count": null,
      "outputs": [
        {
          "output_type": "stream",
          "text": [
            "5872458240\n"
          ],
          "name": "stdout"
        }
      ]
    },
    {
      "cell_type": "markdown",
      "metadata": {
        "id": "C0KMjN2HH_rA"
      },
      "source": [
        "# Day 4: Passport Processing"
      ]
    },
    {
      "cell_type": "code",
      "metadata": {
        "colab": {
          "base_uri": "https://localhost:8080/"
        },
        "id": "Kb1KmZ_FIFj_",
        "outputId": "fcfa5166-4624-4183-ed0e-76acf9563434"
      },
      "source": [
        "with open(\"input.txt\") as input:\n",
        "  batch = input.read().split(\"\\n\\n\")\n",
        "valid = 0\n",
        "for passport in batch:\n",
        "  if all(x in passport for x in [\"byr\", \"iyr\", \"eyr\", \"hgt\", \"hcl\", \"ecl\", \"pid\"]):\n",
        "    valid += 1\n",
        "print(valid)"
      ],
      "execution_count": null,
      "outputs": [
        {
          "output_type": "stream",
          "text": [
            "256\n"
          ],
          "name": "stdout"
        }
      ]
    },
    {
      "cell_type": "code",
      "metadata": {
        "colab": {
          "base_uri": "https://localhost:8080/"
        },
        "id": "EhII3x0tKVk_",
        "outputId": "184ba42d-8712-4430-dfb6-8def7941a2f8"
      },
      "source": [
        "with open(\"input.txt\") as input:\n",
        "  batch = input.read().split(\"\\n\\n\")\n",
        "valid = 0\n",
        "for passport in batch:\n",
        "  if all(x in passport for x in [\"byr\", \"iyr\", \"eyr\", \"hgt\", \"hcl\", \"ecl\", \"pid\"]):\n",
        "    fields = dict([x.split(\":\") for x in passport.split()])\n",
        "    validation = int(fields[\"byr\"]) >= 1920 and int(fields[\"byr\"]) <= 2002\n",
        "    validation = validation and int(fields[\"iyr\"]) >= 2010 and int(fields[\"iyr\"]) <= 2020\n",
        "    validation = validation and int(fields[\"eyr\"]) >= 2020 and int(fields[\"eyr\"]) <= 2030\n",
        "    if fields[\"hgt\"][-2:] == \"cm\":\n",
        "      validation = validation and int(fields[\"hgt\"][:-2]) >= 150 and int(fields[\"hgt\"][:-2]) <= 193\n",
        "    elif fields[\"hgt\"][-2:] == \"in\":\n",
        "      validation = validation and int(fields[\"hgt\"][:-2]) >= 59 and int(fields[\"hgt\"][:-2]) <= 76\n",
        "    else:\n",
        "      validation = False\n",
        "    validation = validation and fields[\"hcl\"][0] == \"#\" and len(fields[\"hcl\"]) == 7 and set(fields[\"hcl\"][1:]) <= set(\"1234567890abcdef\")\n",
        "    validation = validation and fields[\"ecl\"] in [\"amb\", \"blu\", \"brn\", \"gry\", \"grn\", \"hzl\", \"oth\"]\n",
        "    validation = validation and len(fields[\"pid\"]) == 9\n",
        "    if validation:\n",
        "      valid += 1\n",
        "print(valid)"
      ],
      "execution_count": null,
      "outputs": [
        {
          "output_type": "stream",
          "text": [
            "198\n"
          ],
          "name": "stdout"
        }
      ]
    },
    {
      "cell_type": "markdown",
      "metadata": {
        "id": "hy_xUPehoEvV"
      },
      "source": [
        "# Day 5: Binary Boarding"
      ]
    },
    {
      "cell_type": "code",
      "metadata": {
        "id": "m3wAB0FQ4NBb"
      },
      "source": [
        "def decode(seat):\n",
        "  row = range(0, 128)\n",
        "  column = range(0, 8)\n",
        "  for region in seat:\n",
        "    if region == \"F\":\n",
        "      row = row[:len(row) // 2]\n",
        "    elif region == \"B\":\n",
        "      row = row[len(row) // 2:]\n",
        "    elif region == \"L\":\n",
        "      column = column[:len(column) // 2]\n",
        "    elif region == \"R\":\n",
        "      column = column[len(column) // 2:]\n",
        "  return row[0] * 8 + column[0]\n",
        "\n",
        "with open(\"input.txt\") as input:\n",
        "  seats = input.read().split()"
      ],
      "execution_count": null,
      "outputs": []
    },
    {
      "cell_type": "code",
      "metadata": {
        "colab": {
          "base_uri": "https://localhost:8080/"
        },
        "id": "RfKurHABoF4q",
        "outputId": "48060a34-4516-4a12-9ee0-1f807ffeb787"
      },
      "source": [
        "print(max(decode(seat) for seat in seats))"
      ],
      "execution_count": null,
      "outputs": [
        {
          "output_type": "stream",
          "text": [
            "848\n"
          ],
          "name": "stdout"
        }
      ]
    },
    {
      "cell_type": "code",
      "metadata": {
        "colab": {
          "base_uri": "https://localhost:8080/"
        },
        "id": "qxTQG0jS19dM",
        "outputId": "b7b129ca-c7ef-49ff-9b7c-a8e71728dba8"
      },
      "source": [
        "seats_set = set(decode(seat) for seat in seats)\n",
        "print((set(range(min(seats_set), max(seats_set))) - seats_set).pop())"
      ],
      "execution_count": null,
      "outputs": [
        {
          "output_type": "stream",
          "text": [
            "682\n"
          ],
          "name": "stdout"
        }
      ]
    },
    {
      "cell_type": "markdown",
      "metadata": {
        "id": "1IRmu22Udtf9"
      },
      "source": [
        "# Day 6: Custom Customs"
      ]
    },
    {
      "cell_type": "code",
      "metadata": {
        "id": "I0EgDNE9dzlR"
      },
      "source": [
        "with open(\"input.txt\") as input:\n",
        "  groups = input.read().split(\"\\n\\n\")"
      ],
      "execution_count": null,
      "outputs": []
    },
    {
      "cell_type": "code",
      "metadata": {
        "colab": {
          "base_uri": "https://localhost:8080/"
        },
        "id": "Q2g0TOhVeImE",
        "outputId": "6024b151-269d-4335-b28a-ec82200c62a7"
      },
      "source": [
        "sum = 0\n",
        "for group in groups:\n",
        "  sum += len(set(group.replace(\"\\n\", \"\")))\n",
        "print(sum)"
      ],
      "execution_count": null,
      "outputs": [
        {
          "output_type": "stream",
          "text": [
            "6680\n"
          ],
          "name": "stdout"
        }
      ]
    },
    {
      "cell_type": "code",
      "metadata": {
        "colab": {
          "base_uri": "https://localhost:8080/"
        },
        "id": "_z0ccYDMfbNo",
        "outputId": "554e5d60-b973-4808-c8c7-46d7e058f04c"
      },
      "source": [
        "sum = 0\n",
        "for group in groups:\n",
        "  sum += len(set.intersection(*[set(person) for person in group.split(\"\\n\")]))\n",
        "print(sum)"
      ],
      "execution_count": null,
      "outputs": [
        {
          "output_type": "stream",
          "text": [
            "3117\n"
          ],
          "name": "stdout"
        }
      ]
    },
    {
      "cell_type": "markdown",
      "metadata": {
        "id": "Wxg6x8qrmhCV"
      },
      "source": [
        "# Day 7: Handy Haversacks"
      ]
    },
    {
      "cell_type": "code",
      "metadata": {
        "id": "As_-vs81mkof"
      },
      "source": [
        "with open(\"input.txt\") as input:\n",
        "  rules = dict((rule[0], [(bag, int(count)) for count, bag in (bags.split(\" \", 1) for bags in rule[1].split(\", \"))]) for rule in (rule_text.split(\" contain \") for rule_text in input.read().replace(\".\", \"\").replace(\"no\", \"0\").replace(\" bags\", \"\").replace(\" bag\", \"\").split(\"\\n\")))"
      ],
      "execution_count": null,
      "outputs": []
    },
    {
      "cell_type": "code",
      "metadata": {
        "colab": {
          "base_uri": "https://localhost:8080/"
        },
        "id": "FPrt2aC66GL_",
        "outputId": "28168fb2-88b1-4fa4-d171-096d9062dba8"
      },
      "source": [
        "def contains_bag(bags, the_bag):\n",
        "  if bags == the_bag:\n",
        "    return True\n",
        "  for bag, amount in rules[bags]:\n",
        "    if amount and contains_bag(bag, the_bag):\n",
        "      return True\n",
        "  return False\n",
        "\n",
        "count = 0\n",
        "for bag in rules:\n",
        "  count += contains_bag(bag, \"shiny gold\")\n",
        "print(count - 1)"
      ],
      "execution_count": null,
      "outputs": [
        {
          "output_type": "stream",
          "text": [
            "161\n"
          ],
          "name": "stdout"
        }
      ]
    },
    {
      "cell_type": "code",
      "metadata": {
        "colab": {
          "base_uri": "https://localhost:8080/"
        },
        "id": "_WbrlJvV6K7l",
        "outputId": "cadc1d89-1e12-4aba-e75b-53866ba19b37"
      },
      "source": [
        "def count_bags(bags):\n",
        "  count = 1\n",
        "  for bag, amount in rules[bags]:\n",
        "    for _ in range(amount):\n",
        "      count += count_bags(bag)\n",
        "  return count\n",
        "\n",
        "print(count_bags(\"shiny gold\") - 1)"
      ],
      "execution_count": null,
      "outputs": [
        {
          "output_type": "stream",
          "text": [
            "30899\n"
          ],
          "name": "stdout"
        }
      ]
    },
    {
      "cell_type": "markdown",
      "metadata": {
        "id": "amnou2lBwqVT"
      },
      "source": [
        "# Day 8: Handheld Halting"
      ]
    },
    {
      "cell_type": "code",
      "metadata": {
        "id": "kXvvcuYcwuUr"
      },
      "source": [
        "with open(\"input.txt\") as input:\n",
        "  program = [(instruction[0], int(instruction[1])) for instruction in (line.split(\" \") for line in input.read().split(\"\\n\"))]"
      ],
      "execution_count": 54,
      "outputs": []
    },
    {
      "cell_type": "code",
      "metadata": {
        "colab": {
          "base_uri": "https://localhost:8080/"
        },
        "id": "qdQIffQPyuYM",
        "outputId": "5d114aac-cfda-45da-8c75-69b262f65e83"
      },
      "source": [
        "acc = 0\n",
        "pc = 0\n",
        "history = set()\n",
        "while not pc in history:\n",
        "  history.add(pc)\n",
        "  (op, arg) = program[pc]\n",
        "  if op == \"acc\":\n",
        "    acc += arg\n",
        "    pc += 1\n",
        "  elif op == \"jmp\":\n",
        "    pc += arg\n",
        "  elif op == \"nop\":\n",
        "    pc += 1\n",
        "print(acc)"
      ],
      "execution_count": 55,
      "outputs": [
        {
          "output_type": "stream",
          "text": [
            "1548\n"
          ],
          "name": "stdout"
        }
      ]
    },
    {
      "cell_type": "code",
      "metadata": {
        "colab": {
          "base_uri": "https://localhost:8080/"
        },
        "id": "Rje_qSa024te",
        "outputId": "833be4e9-a0b4-499c-e0cd-41918e4370c3"
      },
      "source": [
        "def swap_jmp_nop(program, index):\n",
        "  if program[index][0] == \"jmp\":\n",
        "    program[index] = (\"nop\", program[index][1])\n",
        "  elif program[index][0] == \"nop\":\n",
        "    program[index] = (\"jmp\", program[index][1])\n",
        "\n",
        "def fix_program(program):\n",
        "  last = None\n",
        "  for i, instruction in enumerate(program):\n",
        "    if instruction[0] != \"acc\":\n",
        "      if last != None:\n",
        "        swap_jmp_nop(program, last)\n",
        "      last = i\n",
        "      swap_jmp_nop(program, i)\n",
        "      yield program\n",
        "  if last != None:\n",
        "    swap_jmp_nop(program, last)\n",
        "\n",
        "def fixed_acc(program):\n",
        "  for fixed in fix_program(program):\n",
        "    acc = 0\n",
        "    pc = 0\n",
        "    history = set()\n",
        "    while not pc in history:\n",
        "      if pc >= len(fixed):\n",
        "        return acc\n",
        "      history.add(pc)\n",
        "      (op, arg) = fixed[pc]\n",
        "      if op == \"acc\":\n",
        "        acc += arg\n",
        "        pc += 1\n",
        "      elif op == \"jmp\":\n",
        "        pc += arg\n",
        "      elif op == \"nop\":\n",
        "        pc += 1\n",
        "\n",
        "print(fixed_acc(program))"
      ],
      "execution_count": 56,
      "outputs": [
        {
          "output_type": "stream",
          "text": [
            "1375\n"
          ],
          "name": "stdout"
        }
      ]
    }
  ]
}