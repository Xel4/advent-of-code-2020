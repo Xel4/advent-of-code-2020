{
  "nbformat": 4,
  "nbformat_minor": 0,
  "metadata": {
    "colab": {
      "name": "adventofcode2020.ipynb",
      "provenance": [],
      "collapsed_sections": [
        "-CYUzi-O5CJ-",
        "qd96OkfUz5YC",
        "bK_E3WdAC0YS",
        "C0KMjN2HH_rA",
        "hy_xUPehoEvV",
        "1IRmu22Udtf9",
        "Wxg6x8qrmhCV",
        "amnou2lBwqVT",
        "9KmbSxmz5xJ0",
        "4GC9GhDJBcli",
        "jO3NNr4ZM0wi",
        "Wrv0brTItPlf",
        "Bk4fmgE4nD4G",
        "I5YpzdSunbwa",
        "EkU0XXHp6Pzr",
        "D9STclNq7A7c",
        "taw3rWr5EHvQ",
        "4i18sz1nUn9E"
      ],
      "mount_file_id": "1vh1iW-QX0-Oa81ZcGA7A5anHm1xTj-wK",
      "authorship_tag": "ABX9TyMQAvm/pqETxiQIEFm1J3r1",
      "include_colab_link": true
    },
    "kernelspec": {
      "name": "python3",
      "display_name": "Python 3"
    }
  },
  "cells": [
    {
      "cell_type": "markdown",
      "metadata": {
        "id": "view-in-github",
        "colab_type": "text"
      },
      "source": [
        "<a href=\"https://colab.research.google.com/github/Xel4/advent-of-code-2020/blob/main/adventofcode2020.ipynb\" target=\"_parent\"><img src=\"https://colab.research.google.com/assets/colab-badge.svg\" alt=\"Open In Colab\"/></a>"
      ]
    },
    {
      "cell_type": "markdown",
      "metadata": {
        "id": "-CYUzi-O5CJ-"
      },
      "source": [
        "# Day 1: Report Repair"
      ]
    },
    {
      "cell_type": "code",
      "metadata": {
        "id": "I9DXypyvXRoT"
      },
      "source": [
        "from itertools import product\r\n",
        "\r\n",
        "with open(\"./drive/MyDrive/AoC2020/1/input.txt\") as input:\r\n",
        "  numbers = tuple(map(int, input.read().splitlines()))"
      ],
      "execution_count": null,
      "outputs": []
    },
    {
      "cell_type": "markdown",
      "metadata": {
        "id": "p_yo5OmI2EcB"
      },
      "source": [
        "Part One"
      ]
    },
    {
      "cell_type": "code",
      "metadata": {
        "colab": {
          "base_uri": "https://localhost:8080/"
        },
        "id": "20XinPhfzJPN",
        "outputId": "3cc66e67-ee79-48d0-bd3b-902201dab026"
      },
      "source": [
        "%%time\n",
        "print(next(x * y for x, y in product(numbers, repeat = 2) if x + y == 2020))"
      ],
      "execution_count": null,
      "outputs": [
        {
          "output_type": "stream",
          "text": [
            "197451\n",
            "CPU times: user 3.58 ms, sys: 0 ns, total: 3.58 ms\n",
            "Wall time: 5.49 ms\n"
          ],
          "name": "stdout"
        }
      ]
    },
    {
      "cell_type": "markdown",
      "metadata": {
        "id": "QaYw8seu2I4w"
      },
      "source": [
        "Part Two"
      ]
    },
    {
      "cell_type": "code",
      "metadata": {
        "colab": {
          "base_uri": "https://localhost:8080/"
        },
        "id": "7pbSksNc-Zqm",
        "outputId": "785ce07d-eb6a-4ea4-8f61-c195263ee28f"
      },
      "source": [
        "%%time\n",
        "print(next(x * y * z for x, y, z in product(numbers, repeat = 3) if x + y + z == 2020))"
      ],
      "execution_count": null,
      "outputs": [
        {
          "output_type": "stream",
          "text": [
            "138233720\n",
            "CPU times: user 244 ms, sys: 2.71 ms, total: 247 ms\n",
            "Wall time: 256 ms\n"
          ],
          "name": "stdout"
        }
      ]
    },
    {
      "cell_type": "markdown",
      "metadata": {
        "id": "qd96OkfUz5YC"
      },
      "source": [
        "# Day 2: Password Philosophy"
      ]
    },
    {
      "cell_type": "code",
      "metadata": {
        "id": "9nC20_NoaiiB"
      },
      "source": [
        "with open(\"./drive/MyDrive/AoC2020/2/input.txt\") as input:\r\n",
        "  passwords = tuple(input.read().splitlines())"
      ],
      "execution_count": null,
      "outputs": []
    },
    {
      "cell_type": "markdown",
      "metadata": {
        "id": "abivk6kK2XLS"
      },
      "source": [
        "Part One"
      ]
    },
    {
      "cell_type": "code",
      "metadata": {
        "id": "0XhJrGwH1eTi",
        "colab": {
          "base_uri": "https://localhost:8080/"
        },
        "outputId": "ae427819-c2c5-47f7-da39-849e0962c657"
      },
      "source": [
        "%%time\n",
        "valid = 0\n",
        "for password in passwords:\n",
        "  count = 0\n",
        "  for character in password.split(\": \")[1]:\n",
        "    if character == password.split(\" \")[1][0]:\n",
        "      count += 1\n",
        "  if count >= int(password.split(\"-\")[0]) and count <= int(password.split(\"-\")[1].split(\" \")[0]):\n",
        "    valid += 1\n",
        "print(valid)"
      ],
      "execution_count": null,
      "outputs": [
        {
          "output_type": "stream",
          "text": [
            "548\n",
            "CPU times: user 7.95 ms, sys: 79 µs, total: 8.03 ms\n",
            "Wall time: 9.6 ms\n"
          ],
          "name": "stdout"
        }
      ]
    },
    {
      "cell_type": "markdown",
      "metadata": {
        "id": "nbIBYgXc2oFG"
      },
      "source": [
        "Part Two"
      ]
    },
    {
      "cell_type": "code",
      "metadata": {
        "id": "iZgVC4Lj6OyB",
        "colab": {
          "base_uri": "https://localhost:8080/"
        },
        "outputId": "a183ca6b-89b2-43e3-a671-f9fb1f16479e"
      },
      "source": [
        "%%time\n",
        "valid = 0\n",
        "for password in passwords:\n",
        "  check = password.split(\" \")[1][0]\n",
        "  first = password.split(\": \")[1][int(password.split(\"-\")[0]) - 1]\n",
        "  second = password.split(\": \")[1][int(password.split(\"-\")[1].split(\" \")[0]) - 1]\n",
        "  if (first == check and second != check) or (first != check and second == check):\n",
        "    valid += 1\n",
        "print(valid)"
      ],
      "execution_count": null,
      "outputs": [
        {
          "output_type": "stream",
          "text": [
            "502\n",
            "CPU times: user 4.8 ms, sys: 137 µs, total: 4.94 ms\n",
            "Wall time: 6.37 ms\n"
          ],
          "name": "stdout"
        }
      ]
    },
    {
      "cell_type": "markdown",
      "metadata": {
        "id": "bK_E3WdAC0YS"
      },
      "source": [
        "# Day 3: Toboggan Trajectory"
      ]
    },
    {
      "cell_type": "code",
      "metadata": {
        "id": "9FBAatJibTlx"
      },
      "source": [
        "def slope(h, v, grid):\r\n",
        "  y = 0\r\n",
        "  x = 0\r\n",
        "  trees = 0\r\n",
        "  while y < len(grid):\r\n",
        "    if x >= len(grid[0]):\r\n",
        "      grid = [x + x for x in grid]\r\n",
        "    if grid[y][x] == '#':\r\n",
        "      trees += 1\r\n",
        "    x += h\r\n",
        "    y += v\r\n",
        "  return trees\r\n",
        "\r\n",
        "with open(\"./drive/MyDrive/AoC2020/3/input.txt\") as input:\r\n",
        "  grid = tuple(input.read().splitlines())"
      ],
      "execution_count": null,
      "outputs": []
    },
    {
      "cell_type": "markdown",
      "metadata": {
        "id": "PSzos4Hr2Ydk"
      },
      "source": [
        "Part One"
      ]
    },
    {
      "cell_type": "code",
      "metadata": {
        "id": "zGTRVjCJC2S8",
        "colab": {
          "base_uri": "https://localhost:8080/"
        },
        "outputId": "f9dab4b3-1c57-4c13-b8c2-88bfe2357602"
      },
      "source": [
        "%%time\n",
        "print(slope(3, 1, grid))"
      ],
      "execution_count": null,
      "outputs": [
        {
          "output_type": "stream",
          "text": [
            "176\n",
            "CPU times: user 693 µs, sys: 949 µs, total: 1.64 ms\n",
            "Wall time: 2.01 ms\n"
          ],
          "name": "stdout"
        }
      ]
    },
    {
      "cell_type": "markdown",
      "metadata": {
        "id": "ysV58tsr2ofT"
      },
      "source": [
        "Part Two"
      ]
    },
    {
      "cell_type": "code",
      "metadata": {
        "id": "U7WhebEKGYIf",
        "colab": {
          "base_uri": "https://localhost:8080/"
        },
        "outputId": "320a4ada-dcd6-4c23-b400-561fd32d28ab"
      },
      "source": [
        "%%time\n",
        "from functools import reduce\n",
        "from operator import mul\n",
        "\n",
        "print(reduce(mul, (slope(h, v, grid) for h, v in ((1, 1), (3, 1), (5, 1), (7, 1), (1, 2)))))"
      ],
      "execution_count": null,
      "outputs": [
        {
          "output_type": "stream",
          "text": [
            "5872458240\n",
            "CPU times: user 2.62 ms, sys: 1.11 ms, total: 3.73 ms\n",
            "Wall time: 5.42 ms\n"
          ],
          "name": "stdout"
        }
      ]
    },
    {
      "cell_type": "markdown",
      "metadata": {
        "id": "C0KMjN2HH_rA"
      },
      "source": [
        "# Day 4: Passport Processing"
      ]
    },
    {
      "cell_type": "code",
      "metadata": {
        "id": "yjWMeDYycliv"
      },
      "source": [
        "def is_valid(passport):\r\n",
        "  return all(x in passport for x in [\"byr\", \"iyr\", \"eyr\", \"hgt\", \"hcl\", \"ecl\", \"pid\"])\r\n",
        "\r\n",
        "with open(\"./drive/MyDrive/AoC2020/4/input.txt\") as input:\r\n",
        "  batch = tuple(input.read().split(\"\\n\\n\"))"
      ],
      "execution_count": null,
      "outputs": []
    },
    {
      "cell_type": "markdown",
      "metadata": {
        "id": "a-F_DQf22ZbY"
      },
      "source": [
        "Part One"
      ]
    },
    {
      "cell_type": "code",
      "metadata": {
        "id": "Kb1KmZ_FIFj_",
        "colab": {
          "base_uri": "https://localhost:8080/"
        },
        "outputId": "0d8473b4-4af5-4ae9-f09b-7a2651a5eb55"
      },
      "source": [
        "%%time\n",
        "print(sum(is_valid(passport) for passport in batch))"
      ],
      "execution_count": null,
      "outputs": [
        {
          "output_type": "stream",
          "text": [
            "256\n",
            "CPU times: user 1.19 ms, sys: 32 µs, total: 1.22 ms\n",
            "Wall time: 1.11 ms\n"
          ],
          "name": "stdout"
        }
      ]
    },
    {
      "cell_type": "markdown",
      "metadata": {
        "id": "Z3CFlnGK2o9U"
      },
      "source": [
        "Part Two"
      ]
    },
    {
      "cell_type": "code",
      "metadata": {
        "id": "EhII3x0tKVk_",
        "colab": {
          "base_uri": "https://localhost:8080/"
        },
        "outputId": "de859e1c-8347-4660-90ef-15fb995707e5"
      },
      "source": [
        "%%time\n",
        "valid = 0\n",
        "for passport in batch:\n",
        "  if is_valid(passport):\n",
        "    fields = dict([x.split(\":\") for x in passport.split()])\n",
        "    validation = int(fields[\"byr\"]) >= 1920 and int(fields[\"byr\"]) <= 2002\n",
        "    validation = validation and int(fields[\"iyr\"]) >= 2010 and int(fields[\"iyr\"]) <= 2020\n",
        "    validation = validation and int(fields[\"eyr\"]) >= 2020 and int(fields[\"eyr\"]) <= 2030\n",
        "    if fields[\"hgt\"][-2:] == \"cm\":\n",
        "      validation = validation and int(fields[\"hgt\"][:-2]) >= 150 and int(fields[\"hgt\"][:-2]) <= 193\n",
        "    elif fields[\"hgt\"][-2:] == \"in\":\n",
        "      validation = validation and int(fields[\"hgt\"][:-2]) >= 59 and int(fields[\"hgt\"][:-2]) <= 76\n",
        "    else:\n",
        "      validation = False\n",
        "    validation = validation and fields[\"hcl\"][0] == \"#\" and len(fields[\"hcl\"]) == 7 and set(fields[\"hcl\"][1:]) <= set(\"1234567890abcdef\")\n",
        "    validation = validation and fields[\"ecl\"] in [\"amb\", \"blu\", \"brn\", \"gry\", \"grn\", \"hzl\", \"oth\"]\n",
        "    validation = validation and len(fields[\"pid\"]) == 9\n",
        "    if validation:\n",
        "      valid += 1\n",
        "print(valid)"
      ],
      "execution_count": null,
      "outputs": [
        {
          "output_type": "stream",
          "text": [
            "198\n",
            "CPU times: user 4.39 ms, sys: 236 µs, total: 4.63 ms\n",
            "Wall time: 6.13 ms\n"
          ],
          "name": "stdout"
        }
      ]
    },
    {
      "cell_type": "markdown",
      "metadata": {
        "id": "hy_xUPehoEvV"
      },
      "source": [
        "# Day 5: Binary Boarding"
      ]
    },
    {
      "cell_type": "code",
      "metadata": {
        "id": "m3wAB0FQ4NBb"
      },
      "source": [
        "def decode(seat):\n",
        "  return int(seat.replace(\"F\", \"0\").replace(\"L\", \"0\").replace(\"B\", \"1\").replace(\"R\", \"1\"), 2)\n",
        "\n",
        "with open(\"./drive/MyDrive/AoC2020/5/input.txt\") as input:\n",
        "  seats = tuple(input.read().splitlines())"
      ],
      "execution_count": null,
      "outputs": []
    },
    {
      "cell_type": "markdown",
      "metadata": {
        "id": "y_4UUAUC2eoD"
      },
      "source": [
        "Part One"
      ]
    },
    {
      "cell_type": "code",
      "metadata": {
        "id": "RfKurHABoF4q",
        "colab": {
          "base_uri": "https://localhost:8080/"
        },
        "outputId": "ea97e328-be75-4fd7-98c7-6cf00401f8b2"
      },
      "source": [
        "%%time\r\n",
        "print(max(decode(seat) for seat in seats))"
      ],
      "execution_count": null,
      "outputs": [
        {
          "output_type": "stream",
          "text": [
            "848\n",
            "CPU times: user 1.12 ms, sys: 1.02 ms, total: 2.15 ms\n",
            "Wall time: 3.09 ms\n"
          ],
          "name": "stdout"
        }
      ]
    },
    {
      "cell_type": "markdown",
      "metadata": {
        "id": "Aa7huYpd2pWr"
      },
      "source": [
        "Part Two"
      ]
    },
    {
      "cell_type": "code",
      "metadata": {
        "id": "qxTQG0jS19dM",
        "colab": {
          "base_uri": "https://localhost:8080/"
        },
        "outputId": "52ef7f27-1f11-4c27-a0c6-259c5bf95832"
      },
      "source": [
        "%%time\n",
        "seats_set = set(decode(seat) for seat in seats)\n",
        "print((set(range(min(seats_set), max(seats_set))) - seats_set).pop())"
      ],
      "execution_count": null,
      "outputs": [
        {
          "output_type": "stream",
          "text": [
            "682\n",
            "CPU times: user 2.38 ms, sys: 0 ns, total: 2.38 ms\n",
            "Wall time: 3.02 ms\n"
          ],
          "name": "stdout"
        }
      ]
    },
    {
      "cell_type": "markdown",
      "metadata": {
        "id": "1IRmu22Udtf9"
      },
      "source": [
        "# Day 6: Custom Customs"
      ]
    },
    {
      "cell_type": "code",
      "metadata": {
        "id": "I0EgDNE9dzlR"
      },
      "source": [
        "with open(\"./drive/MyDrive/AoC2020/6/input.txt\") as input:\n",
        "  groups = tuple(input.read().split(\"\\n\\n\"))"
      ],
      "execution_count": null,
      "outputs": []
    },
    {
      "cell_type": "markdown",
      "metadata": {
        "id": "O9yrtGzV2fQG"
      },
      "source": [
        "Part One"
      ]
    },
    {
      "cell_type": "code",
      "metadata": {
        "id": "Q2g0TOhVeImE",
        "colab": {
          "base_uri": "https://localhost:8080/"
        },
        "outputId": "00524e16-1bd2-481b-8bfc-1be18952cfe0"
      },
      "source": [
        "%%time\n",
        "print(sum(len(set(group.replace(\"\\n\", \"\"))) for group in groups))"
      ],
      "execution_count": null,
      "outputs": [
        {
          "output_type": "stream",
          "text": [
            "6680\n",
            "CPU times: user 1.9 ms, sys: 0 ns, total: 1.9 ms\n",
            "Wall time: 4.72 ms\n"
          ],
          "name": "stdout"
        }
      ]
    },
    {
      "cell_type": "markdown",
      "metadata": {
        "id": "9cD3Ea_42p1x"
      },
      "source": [
        "Part Two"
      ]
    },
    {
      "cell_type": "code",
      "metadata": {
        "id": "_z0ccYDMfbNo",
        "colab": {
          "base_uri": "https://localhost:8080/"
        },
        "outputId": "2759e296-9abf-4c6c-afc1-6fc3384e1267"
      },
      "source": [
        "%%time\n",
        "print(sum(len(set.intersection(*(set(person) for person in group.split(\"\\n\")))) for group in groups))"
      ],
      "execution_count": null,
      "outputs": [
        {
          "output_type": "stream",
          "text": [
            "3112\n",
            "CPU times: user 4.11 ms, sys: 55 µs, total: 4.17 ms\n",
            "Wall time: 5.49 ms\n"
          ],
          "name": "stdout"
        }
      ]
    },
    {
      "cell_type": "markdown",
      "metadata": {
        "id": "Wxg6x8qrmhCV"
      },
      "source": [
        "# Day 7: Handy Haversacks"
      ]
    },
    {
      "cell_type": "code",
      "metadata": {
        "id": "As_-vs81mkof"
      },
      "source": [
        "with open(\"./drive/MyDrive/AoC2020/7/input.txt\") as input:\n",
        "  rules = dict((rule[0], tuple((bag, int(count)) for count, bag in (bags.split(\" \", 1) for bags in rule[1].split(\", \")))) for rule in (rule_text.split(\" contain \") for rule_text in input.read().replace(\".\", \"\").replace(\"no\", \"0\").replace(\" bags\", \"\").replace(\" bag\", \"\").splitlines()))"
      ],
      "execution_count": null,
      "outputs": []
    },
    {
      "cell_type": "markdown",
      "metadata": {
        "id": "pIkq031f2f3e"
      },
      "source": [
        "Part One"
      ]
    },
    {
      "cell_type": "code",
      "metadata": {
        "id": "FPrt2aC66GL_",
        "colab": {
          "base_uri": "https://localhost:8080/"
        },
        "outputId": "0332f0f0-99f1-4603-dbc9-69cf7f40798b"
      },
      "source": [
        "%%time\n",
        "def contains_bag(bags, the_bag):\n",
        "  if bags == the_bag:\n",
        "    return True\n",
        "  for bag, amount in rules[bags]:\n",
        "    if amount and contains_bag(bag, the_bag):\n",
        "      return True\n",
        "  return False\n",
        "\n",
        "count = 0\n",
        "for bag in rules:\n",
        "  count += contains_bag(bag, \"shiny gold\")\n",
        "print(count - 1)"
      ],
      "execution_count": null,
      "outputs": [
        {
          "output_type": "stream",
          "text": [
            "161\n",
            "CPU times: user 90.9 ms, sys: 0 ns, total: 90.9 ms\n",
            "Wall time: 92 ms\n"
          ],
          "name": "stdout"
        }
      ]
    },
    {
      "cell_type": "markdown",
      "metadata": {
        "id": "fU_R_sLV2qro"
      },
      "source": [
        "Part Two"
      ]
    },
    {
      "cell_type": "code",
      "metadata": {
        "id": "_WbrlJvV6K7l",
        "colab": {
          "base_uri": "https://localhost:8080/"
        },
        "outputId": "04b7eff4-5955-4e7e-92dd-808b4dc07692"
      },
      "source": [
        "%%time\n",
        "def count_bags(bags):\n",
        "  count = 1\n",
        "  for bag, amount in rules[bags]:\n",
        "    for _ in range(amount):\n",
        "      count += count_bags(bag)\n",
        "  return count\n",
        "\n",
        "print(count_bags(\"shiny gold\") - 1)"
      ],
      "execution_count": null,
      "outputs": [
        {
          "output_type": "stream",
          "text": [
            "30899\n",
            "CPU times: user 15.5 ms, sys: 924 µs, total: 16.5 ms\n",
            "Wall time: 18 ms\n"
          ],
          "name": "stdout"
        }
      ]
    },
    {
      "cell_type": "markdown",
      "metadata": {
        "id": "amnou2lBwqVT"
      },
      "source": [
        "# Day 8: Handheld Halting"
      ]
    },
    {
      "cell_type": "code",
      "metadata": {
        "id": "kXvvcuYcwuUr"
      },
      "source": [
        "with open(\"./drive/MyDrive/AoC2020/8/input.txt\") as input:\n",
        "  program = tuple((instruction[0], int(instruction[1])) for instruction in (line.split(\" \") for line in input.read().splitlines()))"
      ],
      "execution_count": null,
      "outputs": []
    },
    {
      "cell_type": "markdown",
      "metadata": {
        "id": "GQMOCvDx2gn_"
      },
      "source": [
        "Part One"
      ]
    },
    {
      "cell_type": "code",
      "metadata": {
        "id": "qdQIffQPyuYM",
        "colab": {
          "base_uri": "https://localhost:8080/"
        },
        "outputId": "611df9b7-8404-4036-8c44-74de03ea9258"
      },
      "source": [
        "%%time\n",
        "acc = 0\n",
        "pc = 0\n",
        "history = set()\n",
        "while not pc in history:\n",
        "  history.add(pc)\n",
        "  (op, arg) = program[pc]\n",
        "  if op == \"acc\":\n",
        "    acc += arg\n",
        "    pc += 1\n",
        "  elif op == \"jmp\":\n",
        "    pc += arg\n",
        "  elif op == \"nop\":\n",
        "    pc += 1\n",
        "print(acc)"
      ],
      "execution_count": null,
      "outputs": [
        {
          "output_type": "stream",
          "text": [
            "1548\n",
            "CPU times: user 566 µs, sys: 0 ns, total: 566 µs\n",
            "Wall time: 572 µs\n"
          ],
          "name": "stdout"
        }
      ]
    },
    {
      "cell_type": "markdown",
      "metadata": {
        "id": "oE7_1s7Y2rG9"
      },
      "source": [
        "Part Two"
      ]
    },
    {
      "cell_type": "code",
      "metadata": {
        "id": "Rje_qSa024te",
        "colab": {
          "base_uri": "https://localhost:8080/"
        },
        "outputId": "4f02801d-bc78-4c2b-8209-e4d8604fde50"
      },
      "source": [
        "%%time\n",
        "def swap_jmp_nop(program, index):\n",
        "  if program[index][0] == \"jmp\":\n",
        "    program[index] = (\"nop\", program[index][1])\n",
        "  elif program[index][0] == \"nop\":\n",
        "    program[index] = (\"jmp\", program[index][1])\n",
        "  return program\n",
        "\n",
        "def fix_program(program):\n",
        "  last = None\n",
        "  for i, instruction in enumerate(program):\n",
        "    if instruction[0] != \"acc\":\n",
        "      if last != None:\n",
        "        program = swap_jmp_nop(program, last)\n",
        "      last = i\n",
        "      program = swap_jmp_nop(program, i)\n",
        "      yield program\n",
        "  if last != None:\n",
        "    program = swap_jmp_nop(program, last)\n",
        "\n",
        "def fixed_acc(program):\n",
        "  program = list(program)\n",
        "  for fixed in fix_program(program):\n",
        "    acc = 0\n",
        "    pc = 0\n",
        "    history = set()\n",
        "    while not pc in history:\n",
        "      if pc >= len(fixed):\n",
        "        return acc\n",
        "      history.add(pc)\n",
        "      (op, arg) = fixed[pc]\n",
        "      if op == \"acc\":\n",
        "        acc += arg\n",
        "        pc += 1\n",
        "      elif op == \"jmp\":\n",
        "        pc += arg\n",
        "      elif op == \"nop\":\n",
        "        pc += 1\n",
        "\n",
        "print(fixed_acc(program))"
      ],
      "execution_count": null,
      "outputs": [
        {
          "output_type": "stream",
          "text": [
            "1375\n",
            "CPU times: user 7.14 ms, sys: 0 ns, total: 7.14 ms\n",
            "Wall time: 7.15 ms\n"
          ],
          "name": "stdout"
        }
      ]
    },
    {
      "cell_type": "markdown",
      "metadata": {
        "id": "9KmbSxmz5xJ0"
      },
      "source": [
        "# Day 9: Encoding Error"
      ]
    },
    {
      "cell_type": "code",
      "metadata": {
        "id": "_macUt9z_184"
      },
      "source": [
        "def is_valid(i, number):\r\n",
        "  for a in numbers[i - preamble:i]:\r\n",
        "    for b in numbers[i - preamble:i]:\r\n",
        "      if a + b == number and not a == b:\r\n",
        "        return True\r\n",
        "  return False\r\n",
        "\r\n",
        "def find_invalid():\r\n",
        "  for i, number in enumerate(numbers):\r\n",
        "    if i > preamble:\r\n",
        "      if not is_valid(i, number):\r\n",
        "        return number\r\n",
        "\r\n",
        "with open(\"./drive/MyDrive/AoC2020/9/input.txt\") as input:\r\n",
        "  numbers = tuple(map(int, input.read().splitlines()))\r\n",
        "preamble = 25"
      ],
      "execution_count": null,
      "outputs": []
    },
    {
      "cell_type": "markdown",
      "metadata": {
        "id": "jczFz58k2hi5"
      },
      "source": [
        "Part One"
      ]
    },
    {
      "cell_type": "code",
      "metadata": {
        "id": "JROsOtae5yOx",
        "colab": {
          "base_uri": "https://localhost:8080/"
        },
        "outputId": "30c1929e-7f7f-4842-f509-5157e2c010ef"
      },
      "source": [
        "%%time\r\n",
        "print(find_invalid())"
      ],
      "execution_count": null,
      "outputs": [
        {
          "output_type": "stream",
          "text": [
            "22477624\n",
            "CPU times: user 4.21 ms, sys: 0 ns, total: 4.21 ms\n",
            "Wall time: 4.72 ms\n"
          ],
          "name": "stdout"
        }
      ]
    },
    {
      "cell_type": "markdown",
      "metadata": {
        "id": "3GWaWqpK2rsm"
      },
      "source": [
        "Part Two"
      ]
    },
    {
      "cell_type": "code",
      "metadata": {
        "id": "C0nZ_U3L_0di",
        "colab": {
          "base_uri": "https://localhost:8080/"
        },
        "outputId": "853c6ddf-b97b-48d9-f9ca-df7a0086b55e"
      },
      "source": [
        "%%time\r\n",
        "def sum_to_invalid(number):\r\n",
        "  for a in range(len(numbers)):\r\n",
        "    for b in range(a, len(numbers)):\r\n",
        "      if sum(numbers[a:b]) == number:\r\n",
        "        return min(numbers[a:b]) + max(numbers[a:b])\r\n",
        "\r\n",
        "print(sum_to_invalid(find_invalid()))"
      ],
      "execution_count": null,
      "outputs": [
        {
          "output_type": "stream",
          "text": [
            "2980044\n",
            "CPU times: user 1.01 s, sys: 891 µs, total: 1.01 s\n",
            "Wall time: 1.02 s\n"
          ],
          "name": "stdout"
        }
      ]
    },
    {
      "cell_type": "markdown",
      "metadata": {
        "id": "4GC9GhDJBcli"
      },
      "source": [
        "# Day 10: Adapter Array"
      ]
    },
    {
      "cell_type": "code",
      "metadata": {
        "id": "TsDVsJ6mBdhc"
      },
      "source": [
        "with open(\"./drive/MyDrive/AoC2020/10/input.txt\") as input:\r\n",
        "  adapters = tuple(map(int, input.read().split()))"
      ],
      "execution_count": null,
      "outputs": []
    },
    {
      "cell_type": "markdown",
      "metadata": {
        "id": "7VtxZA5r2h9j"
      },
      "source": [
        "Part One"
      ]
    },
    {
      "cell_type": "code",
      "metadata": {
        "id": "QVp5yHaIFYxY",
        "colab": {
          "base_uri": "https://localhost:8080/"
        },
        "outputId": "94a23485-99d9-4711-91ec-917d5a2b78ad"
      },
      "source": [
        "%%time\r\n",
        "adapters_sorted = list(adapters)\r\n",
        "adapters_sorted.sort()\r\n",
        "diff1 = 0\r\n",
        "diff3 = 1\r\n",
        "last = 0\r\n",
        "for jolt in adapters_sorted:\r\n",
        "  if jolt - last == 1:\r\n",
        "    diff1 += 1\r\n",
        "  elif jolt - last == 3:\r\n",
        "    diff3 += 1\r\n",
        "  last = jolt\r\n",
        "print(diff1 * diff3)"
      ],
      "execution_count": null,
      "outputs": [
        {
          "output_type": "stream",
          "text": [
            "1980\n",
            "CPU times: user 114 µs, sys: 12 µs, total: 126 µs\n",
            "Wall time: 130 µs\n"
          ],
          "name": "stdout"
        }
      ]
    },
    {
      "cell_type": "markdown",
      "metadata": {
        "id": "MtdTSgIR2sTh"
      },
      "source": [
        "Part Two"
      ]
    },
    {
      "cell_type": "code",
      "metadata": {
        "id": "oemMYh3PQn2T",
        "colab": {
          "base_uri": "https://localhost:8080/"
        },
        "outputId": "2387586a-767c-4ef1-a832-8da43a08f480"
      },
      "source": [
        "%%time\r\n",
        "connections = {0: 1}\r\n",
        "def combinations(jolts, last):\r\n",
        "  if not last in connections:\r\n",
        "    connections[last] = sum(combinations({next for next in jolts if next < jolt}, jolt) for jolt in jolts if last - jolt <= 3)\r\n",
        "  return connections[last]\r\n",
        "\r\n",
        "print(combinations(set(adapters + (0,)), max(adapters) + 3))"
      ],
      "execution_count": null,
      "outputs": [
        {
          "output_type": "stream",
          "text": [
            "4628074479616\n",
            "CPU times: user 2.41 ms, sys: 0 ns, total: 2.41 ms\n",
            "Wall time: 2.65 ms\n"
          ],
          "name": "stdout"
        }
      ]
    },
    {
      "cell_type": "markdown",
      "metadata": {
        "id": "jO3NNr4ZM0wi"
      },
      "source": [
        "# Day 11: Seating System"
      ]
    },
    {
      "cell_type": "code",
      "metadata": {
        "id": "ALISdUZRZ6aE"
      },
      "source": [
        "def update(layout, tolerance):\r\n",
        "  updated = [list(row) for row in layout]\r\n",
        "  for row in range(len(layout)):\r\n",
        "    for column in range(len(layout[0])):\r\n",
        "      if layout[row][column] == \"L\" and adjacent(layout, row, column) == 0:\r\n",
        "        updated[row][column] = \"#\"\r\n",
        "      elif layout[row][column] == \"#\" and adjacent(layout, row, column) >= tolerance:\r\n",
        "        updated[row][column] = \"L\"\r\n",
        "  return updated\r\n",
        "\r\n",
        "def count_occupied(layout, tolerance):\r\n",
        "  last_layout = []\r\n",
        "  while last_layout != layout:\r\n",
        "    last_layout = layout\r\n",
        "    layout = update(layout, tolerance)\r\n",
        "  count = 0\r\n",
        "  for row in layout:\r\n",
        "    for seat in row:\r\n",
        "      if seat == \"#\":\r\n",
        "        count += 1\r\n",
        "  return count\r\n",
        "\r\n",
        "with open(\"./drive/MyDrive/AoC2020/11/input.txt\") as input:\r\n",
        "  layout = tuple(input.read().splitlines())"
      ],
      "execution_count": null,
      "outputs": []
    },
    {
      "cell_type": "markdown",
      "metadata": {
        "id": "6CbeyBgO2i54"
      },
      "source": [
        "Part One"
      ]
    },
    {
      "cell_type": "code",
      "metadata": {
        "id": "hbjvK8l2M2Yq",
        "colab": {
          "base_uri": "https://localhost:8080/"
        },
        "outputId": "eba7f830-dcad-4636-c53c-c970c6956618"
      },
      "source": [
        "%%time\r\n",
        "def adjacent(layout, row, column):\r\n",
        "  count = 0\r\n",
        "  for i in range(-1 if row > 0 else 0, 2 if row < len(layout) - 1 else 1):\r\n",
        "    for j in range(-1 if column > 0 else 0, 2 if column < len(layout[0]) - 1 else 1):\r\n",
        "      if (i or j) and layout[row + i][column + j] == \"#\":\r\n",
        "        count += 1\r\n",
        "  return count\r\n",
        "\r\n",
        "print(count_occupied(layout, 4))"
      ],
      "execution_count": null,
      "outputs": [
        {
          "output_type": "stream",
          "text": [
            "2108\n",
            "CPU times: user 1.25 s, sys: 1.58 ms, total: 1.26 s\n",
            "Wall time: 1.27 s\n"
          ],
          "name": "stdout"
        }
      ]
    },
    {
      "cell_type": "markdown",
      "metadata": {
        "id": "UiiSDQ5K2s2g"
      },
      "source": [
        "Part Two"
      ]
    },
    {
      "cell_type": "code",
      "metadata": {
        "id": "Z_pL5_wHZ3kF",
        "colab": {
          "base_uri": "https://localhost:8080/"
        },
        "outputId": "1b8d54ae-0fc8-41a1-a378-c137bb4f6f3e"
      },
      "source": [
        "%%time\r\n",
        "def visible(layout, row, column, x, y):\r\n",
        "  while row + x > -1 and row + x < len(layout) and column + y > -1 and column + y < len(layout[0]) and layout[row + x][column + y] != \"L\":\r\n",
        "    if layout[row + x][column + y] == \"#\":\r\n",
        "      return True\r\n",
        "    row += x\r\n",
        "    column += y\r\n",
        "  return False\r\n",
        "\r\n",
        "def adjacent(layout, row, column):\r\n",
        "  count = 0\r\n",
        "  for i in range(-1, 2):\r\n",
        "    for j in range(-1, 2):\r\n",
        "      if i or j:\r\n",
        "        if visible(layout, row, column, i, j):\r\n",
        "          count += 1\r\n",
        "  return count\r\n",
        "\r\n",
        "print(count_occupied(layout, 5))"
      ],
      "execution_count": null,
      "outputs": [
        {
          "output_type": "stream",
          "text": [
            "1897\n",
            "CPU times: user 3.36 s, sys: 4.74 ms, total: 3.36 s\n",
            "Wall time: 3.38 s\n"
          ],
          "name": "stdout"
        }
      ]
    },
    {
      "cell_type": "markdown",
      "metadata": {
        "id": "Wrv0brTItPlf"
      },
      "source": [
        "# Day 12: Rain Risk"
      ]
    },
    {
      "cell_type": "code",
      "metadata": {
        "id": "5PZYQctxtS9r"
      },
      "source": [
        "with open(\"./drive/MyDrive/AoC2020/12/input.txt\") as input:\r\n",
        "  instructions = tuple((instruction[0], int(instruction[1:])) for instruction in input.read().split())"
      ],
      "execution_count": null,
      "outputs": []
    },
    {
      "cell_type": "markdown",
      "metadata": {
        "id": "lgQak3_72jgr"
      },
      "source": [
        "Part One"
      ]
    },
    {
      "cell_type": "code",
      "metadata": {
        "id": "eRhgc9c_weqE",
        "colab": {
          "base_uri": "https://localhost:8080/"
        },
        "outputId": "236f3d3b-5a6c-4067-947c-b0168bc18535"
      },
      "source": [
        "%%time\r\n",
        "directions = {\r\n",
        "    -3: \"N\",\r\n",
        "    -2: \"W\",\r\n",
        "    -1: \"S\",\r\n",
        "    0: \"E\",\r\n",
        "    1: \"N\",\r\n",
        "    2: \"W\",\r\n",
        "    3: \"S\"\r\n",
        "}\r\n",
        "\r\n",
        "move = {\r\n",
        "    \"N\": lambda value, ship: ship[:1] + (ship[1] + value,) + ship[2:],\r\n",
        "    \"S\": lambda value, ship: ship[:1] + (ship[1] - value,) + ship[2:],\r\n",
        "    \"E\": lambda value, ship: (ship[0] + value,) + ship[1:],\r\n",
        "    \"W\": lambda value, ship: (ship[0] - value,) + ship[1:],\r\n",
        "    \"L\": lambda value, ship: ship[:2] + (ship[2] + value // 90,),\r\n",
        "    \"R\": lambda value, ship: ship[:2] + (ship[2] - value // 90,),\r\n",
        "    \"F\": lambda value, ship: move[directions[ship[2] % 4]](value, ship)\r\n",
        "}\r\n",
        "\r\n",
        "ferry = (0, 0, 0)\r\n",
        "for action, value in instructions:\r\n",
        "  ferry = move[action](value, ferry)\r\n",
        "print(abs(ferry[0]) + abs(ferry[1]))"
      ],
      "execution_count": null,
      "outputs": [
        {
          "output_type": "stream",
          "text": [
            "1710\n",
            "CPU times: user 541 µs, sys: 0 ns, total: 541 µs\n",
            "Wall time: 547 µs\n"
          ],
          "name": "stdout"
        }
      ]
    },
    {
      "cell_type": "markdown",
      "metadata": {
        "id": "j2YBf6rX2tc0"
      },
      "source": [
        "Part Two"
      ]
    },
    {
      "cell_type": "code",
      "metadata": {
        "id": "3OVDUQJZCtUn",
        "colab": {
          "base_uri": "https://localhost:8080/"
        },
        "outputId": "e31e453e-6dd9-4d34-b3d6-40d91ac3be92"
      },
      "source": [
        "%%time\r\n",
        "rotations = {\r\n",
        "    0: lambda waypoint: waypoint,\r\n",
        "    1: lambda waypoint: (-waypoint[1], waypoint[0]),\r\n",
        "    2: lambda waypoint: (-waypoint[0], -waypoint[1]),\r\n",
        "    3: lambda waypoint: (waypoint[1], -waypoint[0])\r\n",
        "}\r\n",
        "\r\n",
        "move = {\r\n",
        "    \"N\": lambda value, waypoint: (waypoint[0], waypoint[1] + value),\r\n",
        "    \"S\": lambda value, waypoint: (waypoint[0], waypoint[1] - value),\r\n",
        "    \"E\": lambda value, waypoint: (waypoint[0] + value, waypoint[1]),\r\n",
        "    \"W\": lambda value, waypoint: (waypoint[0] - value, waypoint[1]),\r\n",
        "    \"L\": lambda value, waypoint: rotations[value // 90 % 4](waypoint),\r\n",
        "    \"R\": lambda value, waypoint: rotations[(4 - value // 90) % 4](waypoint)\r\n",
        "}\r\n",
        "\r\n",
        "ferry = (0, 0)\r\n",
        "waypoint = (10, 1)\r\n",
        "for action, value in instructions:\r\n",
        "  if action == \"F\":\r\n",
        "    ferry = (ferry[0] + waypoint[0] * value, ferry[1] + waypoint[1] * value)\r\n",
        "  else:\r\n",
        "    waypoint = move[action](value, waypoint)\r\n",
        "print(abs(ferry[0]) + abs(ferry[1]))"
      ],
      "execution_count": null,
      "outputs": [
        {
          "output_type": "stream",
          "text": [
            "62045\n",
            "CPU times: user 728 µs, sys: 0 ns, total: 728 µs\n",
            "Wall time: 735 µs\n"
          ],
          "name": "stdout"
        }
      ]
    },
    {
      "cell_type": "markdown",
      "metadata": {
        "id": "Bk4fmgE4nD4G"
      },
      "source": [
        "# Day 13: Shuttle Search"
      ]
    },
    {
      "cell_type": "code",
      "metadata": {
        "id": "VHtskY1wqKcT"
      },
      "source": [
        "with open(\"./drive/MyDrive/AoC2020/13/input.txt\") as input:\r\n",
        "  input = tuple(input.read().replace(\"x,\", \"\").splitlines())\r\n",
        "  timestamp = int(input[0])\r\n",
        "  ids = tuple(map(int, input[1].split(\",\")))"
      ],
      "execution_count": null,
      "outputs": []
    },
    {
      "cell_type": "markdown",
      "metadata": {
        "id": "XozGehLj2kGu"
      },
      "source": [
        "Part One"
      ]
    },
    {
      "cell_type": "code",
      "metadata": {
        "id": "U8SgXnpMnGI4",
        "colab": {
          "base_uri": "https://localhost:8080/"
        },
        "outputId": "1a61ec90-7a56-4e00-d5ec-c0e1c55f2436"
      },
      "source": [
        "%%time\r\n",
        "times = ids\r\n",
        "while all(time < timestamp for time in times):\r\n",
        "  times = [time + id for time, id in zip(times, ids)]\r\n",
        "print(min((time - timestamp) * id for time, id in zip(times, ids) if time > timestamp))"
      ],
      "execution_count": null,
      "outputs": [
        {
          "output_type": "stream",
          "text": [
            "3865\n",
            "CPU times: user 3.1 ms, sys: 0 ns, total: 3.1 ms\n",
            "Wall time: 3.03 ms\n"
          ],
          "name": "stdout"
        }
      ]
    },
    {
      "cell_type": "markdown",
      "metadata": {
        "id": "T14swaFR2t_Z"
      },
      "source": [
        "Part Two"
      ]
    },
    {
      "cell_type": "code",
      "metadata": {
        "id": "P8XVeDRZzx71",
        "colab": {
          "base_uri": "https://localhost:8080/"
        },
        "outputId": "9300f2c9-eefe-42de-db12-b495b2452895"
      },
      "source": [
        "%%time\r\n",
        "ids = ((offset, int(id)) for offset, id in enumerate(input[1].split(\",\")))\r\n",
        "expression = list()\r\n",
        "for offset, id in ids:\r\n",
        "  expression.append(f\"(t+{offset})%{id}=0\")\r\n",
        "print(\",\".join(expression))"
      ],
      "execution_count": null,
      "outputs": [
        {
          "output_type": "stream",
          "text": [
            "(t+0)%13=0,(t+1)%37=0,(t+2)%449=0,(t+3)%29=0,(t+4)%19=0,(t+5)%23=0,(t+6)%773=0,(t+7)%41=0,(t+8)%17=0\n",
            "CPU times: user 189 µs, sys: 0 ns, total: 189 µs\n",
            "Wall time: 195 µs\n"
          ],
          "name": "stdout"
        }
      ]
    },
    {
      "cell_type": "markdown",
      "metadata": {
        "id": "I5YpzdSunbwa"
      },
      "source": [
        "# Day 14: Docking Data"
      ]
    },
    {
      "cell_type": "code",
      "metadata": {
        "id": "OTyHvcqmSO83"
      },
      "source": [
        "with open(\"./drive/MyDrive/AoC2020/14/input.txt\") as input:\r\n",
        "  program = tuple(input.read().splitlines())"
      ],
      "execution_count": null,
      "outputs": []
    },
    {
      "cell_type": "markdown",
      "metadata": {
        "id": "aSIXxRX_2khW"
      },
      "source": [
        "Part One"
      ]
    },
    {
      "cell_type": "code",
      "metadata": {
        "id": "bWUfAuJ9qvG0",
        "colab": {
          "base_uri": "https://localhost:8080/"
        },
        "outputId": "64a263d0-42b8-407a-db6d-76699f46e0d1"
      },
      "source": [
        "%%time\r\n",
        "mem = dict()\r\n",
        "for line in program:\r\n",
        "  if line[:4] == \"mask\":\r\n",
        "    mask = line[7:]\r\n",
        "    setmask = int(mask.replace('X', '0'), 2)\r\n",
        "    clearmask = int(mask.replace('X', '1'), 2)\r\n",
        "  elif line[:3] == \"mem\":\r\n",
        "    exec(line + \" & clearmask | setmask\")\r\n",
        "print(sum(mem.values()))"
      ],
      "execution_count": null,
      "outputs": [
        {
          "output_type": "stream",
          "text": [
            "17028179706934\n",
            "CPU times: user 8.72 ms, sys: 0 ns, total: 8.72 ms\n",
            "Wall time: 9.38 ms\n"
          ],
          "name": "stdout"
        }
      ]
    },
    {
      "cell_type": "markdown",
      "metadata": {
        "id": "auZeJYph2ui5"
      },
      "source": [
        "Part Two"
      ]
    },
    {
      "cell_type": "code",
      "metadata": {
        "id": "fjDHQ1juIS4B",
        "colab": {
          "base_uri": "https://localhost:8080/"
        },
        "outputId": "1cba09ab-97f1-4d9b-a52e-0b880d997c22"
      },
      "source": [
        "%%time\r\n",
        "def substitute(string, character, sequence):\r\n",
        "  index = 0\r\n",
        "  string = list(string)\r\n",
        "  for i, char in enumerate(string):\r\n",
        "    if char == character and index < len(sequence):\r\n",
        "      string[i] = sequence[index]\r\n",
        "      index += 1\r\n",
        "  return \"\".join(string)\r\n",
        "\r\n",
        "mem = dict()\r\n",
        "for line in program:\r\n",
        "  if line[:4] == \"mask\":\r\n",
        "    mask = line[7:]\r\n",
        "    count = mask.count('X')\r\n",
        "    masks = list()\r\n",
        "    for j in range(1 << count):\r\n",
        "      masks.append(f\"\"\" & 0b{substitute(mask.replace('0', '1'), 'X', f\"{j:0{count}b}\")} | 0b{substitute(mask, 'X', f\"{j:0{count}b}\")}\"\"\")\r\n",
        "  elif line[:3] == \"mem\":\r\n",
        "    address = line.partition(']')\r\n",
        "    for mask in masks:\r\n",
        "      exec(address[0] + mask + address[1] + address[2])\r\n",
        "print(sum(mem.values()))"
      ],
      "execution_count": null,
      "outputs": [
        {
          "output_type": "stream",
          "text": [
            "3683236147222\n",
            "CPU times: user 1.08 s, sys: 13 ms, total: 1.09 s\n",
            "Wall time: 1.1 s\n"
          ],
          "name": "stdout"
        }
      ]
    },
    {
      "cell_type": "markdown",
      "metadata": {
        "id": "EkU0XXHp6Pzr"
      },
      "source": [
        "# Day 15: Rambunctious Recitation"
      ]
    },
    {
      "cell_type": "code",
      "metadata": {
        "id": "g79ksUxa6Rhy"
      },
      "source": [
        "with open(\"./drive/MyDrive/AoC2020/15/input.txt\") as input:\r\n",
        "  starting = tuple(map(int, input.read().split(\",\")))\r\n",
        "\r\n",
        "def spoken_at(number_spoken):\r\n",
        "  numbers = dict()\r\n",
        "  for turn, spoken in enumerate(starting):\r\n",
        "    numbers[spoken] = (turn,)\r\n",
        "  for turn in range(turn + 1, number_spoken):\r\n",
        "    spoken = (turn - numbers[spoken][0] if len(numbers[spoken]) == 1 else numbers[spoken][0] - numbers[spoken][1]) if len(numbers[spoken]) > 1 else 0\r\n",
        "    numbers[spoken] = (turn,) + numbers[spoken][:2] if spoken in numbers else (turn,)\r\n",
        "  return spoken"
      ],
      "execution_count": null,
      "outputs": []
    },
    {
      "cell_type": "markdown",
      "metadata": {
        "id": "lv8NHaW32lDA"
      },
      "source": [
        "Part One"
      ]
    },
    {
      "cell_type": "code",
      "metadata": {
        "id": "9kvTDTs3Ugk_",
        "colab": {
          "base_uri": "https://localhost:8080/"
        },
        "outputId": "79940a34-9c2a-4ff9-8053-a13ae7f3fbb9"
      },
      "source": [
        "%%time\r\n",
        "print(spoken_at(2020))"
      ],
      "execution_count": null,
      "outputs": [
        {
          "output_type": "stream",
          "text": [
            "260\n",
            "CPU times: user 1.67 ms, sys: 1.03 ms, total: 2.69 ms\n",
            "Wall time: 4.02 ms\n"
          ],
          "name": "stdout"
        }
      ]
    },
    {
      "cell_type": "markdown",
      "metadata": {
        "id": "lropRsGZ2vE0"
      },
      "source": [
        "Part Two"
      ]
    },
    {
      "cell_type": "code",
      "metadata": {
        "id": "7k3qgiu3VL3p",
        "colab": {
          "base_uri": "https://localhost:8080/"
        },
        "outputId": "cdfa1195-f39d-44ec-f346-f295acde6c95"
      },
      "source": [
        "%%time\r\n",
        "print(spoken_at(30000000))"
      ],
      "execution_count": null,
      "outputs": [
        {
          "output_type": "stream",
          "text": [
            "950\n",
            "CPU times: user 32.9 s, sys: 727 ms, total: 33.7 s\n",
            "Wall time: 33.8 s\n"
          ],
          "name": "stdout"
        }
      ]
    },
    {
      "cell_type": "markdown",
      "metadata": {
        "id": "D9STclNq7A7c"
      },
      "source": [
        "# Day 16: Ticket Translation"
      ]
    },
    {
      "cell_type": "code",
      "metadata": {
        "id": "pD2GPEyb7B9M"
      },
      "source": [
        "with open(\"./drive/MyDrive/AoC2020/16/input.txt\") as input:\r\n",
        "  notes = input.read().split(\"\\n\\n\")\r\n",
        "  rules = {field[0]: tuple(tuple(int(number) for number in ranges.split(\"-\")) for ranges in field[1].split(\" or \")) for field in (note.split(\": \") for note in notes[0].splitlines())}\r\n",
        "  nearby = tuple(tuple(map(int, ticket.split(\",\"))) for ticket in notes[2].replace(\"nearby tickets:\\n\", \"\").splitlines())\r\n",
        "  my = tuple(map(int, notes[1].replace(\"your ticket:\\n\", \"\").split(\",\")))\r\n",
        "\r\n",
        "def field_valid(field):\r\n",
        "  return any(rule[0] <= field <= rule[1] for rule in (number for rule in rules.values() for number in rule))"
      ],
      "execution_count": null,
      "outputs": []
    },
    {
      "cell_type": "markdown",
      "metadata": {
        "id": "dvKexRkR2lhI"
      },
      "source": [
        "Part One"
      ]
    },
    {
      "cell_type": "code",
      "metadata": {
        "id": "X0ylsZ3KAQvV",
        "colab": {
          "base_uri": "https://localhost:8080/"
        },
        "outputId": "024b67f9-4abd-4112-97b8-50f5084cb95a"
      },
      "source": [
        "%%time\r\n",
        "print(sum(field for ticket in nearby for field in ticket if not field_valid(field)))"
      ],
      "execution_count": null,
      "outputs": [
        {
          "output_type": "stream",
          "text": [
            "29851\n",
            "CPU times: user 10.5 ms, sys: 13 µs, total: 10.5 ms\n",
            "Wall time: 14.4 ms\n"
          ],
          "name": "stdout"
        }
      ]
    },
    {
      "cell_type": "markdown",
      "metadata": {
        "id": "R-mwOXWa2v0A"
      },
      "source": [
        "Part Two"
      ]
    },
    {
      "cell_type": "code",
      "metadata": {
        "id": "Lu2VQomDLocQ",
        "colab": {
          "base_uri": "https://localhost:8080/"
        },
        "outputId": "e4ac2874-ab21-4c21-f051-441bd61f34a2"
      },
      "source": [
        "%%time\r\n",
        "from functools import reduce\r\n",
        "from operator import mul\r\n",
        "from time import time\r\n",
        "\r\n",
        "valid = tuple(ticket for ticket in nearby if all(field_valid(field) for field in ticket))\r\n",
        "remaining_rules = set(rules)\r\n",
        "rules_index = dict()\r\n",
        "while remaining_rules:\r\n",
        "  for rule in remaining_rules:\r\n",
        "    count = 0\r\n",
        "    for i in range(len(my)):\r\n",
        "      if not i in rules_index.values() and all(rules[rule][0][0] <= field <= rules[rule][0][1] or rules[rule][1][0] <= field <= rules[rule][1][1] for field in (ticket[i] for ticket in valid)):\r\n",
        "        count += 1\r\n",
        "        position = i\r\n",
        "    if count == 1:\r\n",
        "      remaining_rules.remove(rule)\r\n",
        "      rules_index[rule] = position\r\n",
        "      break\r\n",
        "print(reduce(mul, (my[rules_index[rule]] for rule in rules_index if rule[:9] == \"departure\")))"
      ],
      "execution_count": null,
      "outputs": [
        {
          "output_type": "stream",
          "text": [
            "3029180675981\n",
            "CPU times: user 117 ms, sys: 0 ns, total: 117 ms\n",
            "Wall time: 117 ms\n"
          ],
          "name": "stdout"
        }
      ]
    },
    {
      "cell_type": "markdown",
      "metadata": {
        "id": "taw3rWr5EHvQ"
      },
      "source": [
        "# Day 17: Conway Cubes"
      ]
    },
    {
      "cell_type": "code",
      "metadata": {
        "id": "O9tciHavFdKe"
      },
      "source": [
        "from itertools import product\r\n",
        "\r\n",
        "def add_points(x, y, z, w, a, b, c, d = 0):\r\n",
        "  return (x + a, y + b, z + c, w + d)\r\n",
        "\r\n",
        "def count_activated(state, cycles, dimension):\r\n",
        "  for _ in range(cycles):\r\n",
        "    updated = state.copy()\r\n",
        "    for position in {add_points(*position, *offset) for position in state for offset in product(range(-1, 2), repeat = dimension)}:\r\n",
        "      neighbors = sum(add_points(*position, *offset) in state for offset in product(range(-1, 2), repeat = dimension) if any(offset))\r\n",
        "      if position in state and not (neighbors == 2 or neighbors == 3):\r\n",
        "        updated.remove(position)\r\n",
        "      elif position not in state and neighbors == 3:\r\n",
        "        updated.add(position)\r\n",
        "    state = updated\r\n",
        "  return len(state)\r\n",
        "\r\n",
        "with open(\"./drive/MyDrive/AoC2020/17/input.txt\") as input:\r\n",
        "  state = {(x, y, 0, 0) for x, y, cube in (column for row in (((x, y, cube) for x, cube in enumerate(line)) for y, line in enumerate(input.read().splitlines())) for column in row) if cube == \"#\"}"
      ],
      "execution_count": null,
      "outputs": []
    },
    {
      "cell_type": "markdown",
      "metadata": {
        "id": "01En3QQW2mCZ"
      },
      "source": [
        "Part One"
      ]
    },
    {
      "cell_type": "code",
      "metadata": {
        "colab": {
          "base_uri": "https://localhost:8080/"
        },
        "id": "2aEfEKMEGyqt",
        "outputId": "13ba3c7a-02a4-4a91-c9de-cc26375082b5"
      },
      "source": [
        "%%time\r\n",
        "print(count_activated(state, 6, 3))"
      ],
      "execution_count": null,
      "outputs": [
        {
          "output_type": "stream",
          "text": [
            "209\n",
            "CPU times: user 102 ms, sys: 0 ns, total: 102 ms\n",
            "Wall time: 107 ms\n"
          ],
          "name": "stdout"
        }
      ]
    },
    {
      "cell_type": "markdown",
      "metadata": {
        "id": "T-v5FriO2waS"
      },
      "source": [
        "Part Two"
      ]
    },
    {
      "cell_type": "code",
      "metadata": {
        "colab": {
          "base_uri": "https://localhost:8080/"
        },
        "id": "BNWIt6JhYFCB",
        "outputId": "45c6cc93-5fa2-409f-a2c8-ed672d80d00c"
      },
      "source": [
        "%%time\r\n",
        "print(count_activated(state, 6, 4))"
      ],
      "execution_count": null,
      "outputs": [
        {
          "output_type": "stream",
          "text": [
            "1492\n",
            "CPU times: user 2.62 s, sys: 1.01 ms, total: 2.62 s\n",
            "Wall time: 2.63 s\n"
          ],
          "name": "stdout"
        }
      ]
    },
    {
      "cell_type": "markdown",
      "metadata": {
        "id": "4i18sz1nUn9E"
      },
      "source": [
        "# Day 18: Operation Order"
      ]
    },
    {
      "cell_type": "code",
      "metadata": {
        "id": "kjzhzRvuUpZS"
      },
      "source": [
        "from operator import add, mul\r\n",
        "\r\n",
        "def unparenthesize(expression):\r\n",
        "  while \"(\" in expression:\r\n",
        "    left = expression.partition(\"(\")\r\n",
        "    count = 1\r\n",
        "    index = 0\r\n",
        "    while count:\r\n",
        "      count += (left[2][index] == \"(\") - (left[2][index] == \")\")\r\n",
        "      index += 1\r\n",
        "    expression = left[0] + str(evaluate(left[2][:index - 1])) + left[2][index:]\r\n",
        "  return expression.split()\r\n",
        "\r\n",
        "def combine(expression):\r\n",
        "  while len(expression) > 1:\r\n",
        "    operand1 = int(expression.pop(0))\r\n",
        "    operator = operators[expression.pop(0)]\r\n",
        "    operand2 = int(expression.pop(0))\r\n",
        "    expression.insert(0, operator(operand1, operand2))\r\n",
        "  return expression[0]\r\n",
        "\r\n",
        "operators = {\r\n",
        "    \"+\": add,\r\n",
        "    \"*\": mul\r\n",
        "}\r\n",
        "\r\n",
        "with open(\"./drive/MyDrive/AoC2020/18/input.txt\") as input:\r\n",
        "  homework = tuple(input.read().splitlines())"
      ],
      "execution_count": null,
      "outputs": []
    },
    {
      "cell_type": "markdown",
      "metadata": {
        "id": "uaFe5hIgUpmv"
      },
      "source": [
        "Part One"
      ]
    },
    {
      "cell_type": "code",
      "metadata": {
        "colab": {
          "base_uri": "https://localhost:8080/"
        },
        "id": "xUAPQxzSUpuG",
        "outputId": "5070c3f5-0a25-4f8a-c783-851a0c963887"
      },
      "source": [
        "%%time\r\n",
        "def evaluate(expression):\r\n",
        "  return combine(unparenthesize(expression))\r\n",
        "\r\n",
        "print(sum(evaluate(expression) for expression in homework))"
      ],
      "execution_count": null,
      "outputs": [
        {
          "output_type": "stream",
          "text": [
            "464478013511\n",
            "CPU times: user 13 ms, sys: 0 ns, total: 13 ms\n",
            "Wall time: 13.5 ms\n"
          ],
          "name": "stdout"
        }
      ]
    },
    {
      "cell_type": "markdown",
      "metadata": {
        "id": "2QRXk668Upz7"
      },
      "source": [
        "Part Two"
      ]
    },
    {
      "cell_type": "code",
      "metadata": {
        "colab": {
          "base_uri": "https://localhost:8080/"
        },
        "id": "a2PxG1qyUqMz",
        "outputId": "8dd3fa12-a564-4888-b97d-a4f1898ce19d"
      },
      "source": [
        "%%time\r\n",
        "def evaluate(expression):\r\n",
        "  expression = unparenthesize(expression)\r\n",
        "  index = 0\r\n",
        "  while \"+\" in expression:\r\n",
        "    if expression[index + 1] == \"+\":\r\n",
        "      operand1 = int(expression.pop(index))\r\n",
        "      del expression[index]\r\n",
        "      operand2 = int(expression.pop(index))\r\n",
        "      expression.insert(index, operand1 + operand2)\r\n",
        "    else:\r\n",
        "      index += 2\r\n",
        "  return combine(expression)\r\n",
        "\r\n",
        "print(sum(evaluate(expression) for expression in homework))"
      ],
      "execution_count": null,
      "outputs": [
        {
          "output_type": "stream",
          "text": [
            "85660197232452\n",
            "CPU times: user 12.6 ms, sys: 0 ns, total: 12.6 ms\n",
            "Wall time: 12.8 ms\n"
          ],
          "name": "stdout"
        }
      ]
    }
  ]
}