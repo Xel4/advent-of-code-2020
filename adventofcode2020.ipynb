{
  "nbformat": 4,
  "nbformat_minor": 0,
  "metadata": {
    "colab": {
      "name": "adventofcode2020.ipynb",
      "provenance": [],
      "collapsed_sections": [
        "-CYUzi-O5CJ-",
        "qd96OkfUz5YC",
        "bK_E3WdAC0YS",
        "C0KMjN2HH_rA",
        "hy_xUPehoEvV",
        "1IRmu22Udtf9",
        "Wxg6x8qrmhCV",
        "amnou2lBwqVT",
        "9KmbSxmz5xJ0",
        "4GC9GhDJBcli",
        "jO3NNr4ZM0wi"
      ],
      "authorship_tag": "ABX9TyN42HwNOI0C5oP4ELOfFkef",
      "include_colab_link": true
    },
    "kernelspec": {
      "name": "python3",
      "display_name": "Python 3"
    }
  },
  "cells": [
    {
      "cell_type": "markdown",
      "metadata": {
        "id": "view-in-github",
        "colab_type": "text"
      },
      "source": [
        "<a href=\"https://colab.research.google.com/github/Xel4/advent-of-code-2020/blob/main/adventofcode2020.ipynb\" target=\"_parent\"><img src=\"https://colab.research.google.com/assets/colab-badge.svg\" alt=\"Open In Colab\"/></a>"
      ]
    },
    {
      "cell_type": "markdown",
      "metadata": {
        "id": "-CYUzi-O5CJ-"
      },
      "source": [
        "# Day 1: Report Repair"
      ]
    },
    {
      "cell_type": "code",
      "metadata": {
        "colab": {
          "base_uri": "https://localhost:8080/"
        },
        "id": "20XinPhfzJPN",
        "outputId": "f1f2c996-37b5-4bca-e2f8-cb90b1f248a3"
      },
      "source": [
        "input = open(\"input.txt\").read()\n",
        "for x in input.split():\n",
        "  for y in input.split():\n",
        "    if int(x) + int(y) == 2020:\n",
        "      print(int(x) * int(y))\n",
        "      break\n",
        "  else:\n",
        "    continue\n",
        "  break"
      ],
      "execution_count": null,
      "outputs": [
        {
          "output_type": "stream",
          "text": [
            "197451\n"
          ],
          "name": "stdout"
        }
      ]
    },
    {
      "cell_type": "code",
      "metadata": {
        "colab": {
          "base_uri": "https://localhost:8080/"
        },
        "id": "7pbSksNc-Zqm",
        "outputId": "30783c87-92a1-42d7-9d90-7125f172a596"
      },
      "source": [
        "for x in input.split():\n",
        "  for y in input.split():\n",
        "    for z in input.split():\n",
        "      if int(x) + int(y) + int(z) == 2020:\n",
        "        print(int(x) * int(y) * int(z))\n",
        "        break\n",
        "    else:\n",
        "      continue\n",
        "    break\n",
        "  else:\n",
        "    continue\n",
        "  break"
      ],
      "execution_count": null,
      "outputs": [
        {
          "output_type": "stream",
          "text": [
            "138233720\n"
          ],
          "name": "stdout"
        }
      ]
    },
    {
      "cell_type": "markdown",
      "metadata": {
        "id": "qd96OkfUz5YC"
      },
      "source": [
        "# Day 2: Password Philosophy"
      ]
    },
    {
      "cell_type": "code",
      "metadata": {
        "colab": {
          "base_uri": "https://localhost:8080/"
        },
        "id": "0XhJrGwH1eTi",
        "outputId": "2ccb106c-c46a-48e5-82c9-762d5916f177"
      },
      "source": [
        "input = open(\"input.txt\").read()\n",
        "valid = 0\n",
        "for password in input.split(\"\\n\"):\n",
        "  count = 0\n",
        "  for character in password.split(\": \")[1]:\n",
        "    if character == password.split(\" \")[1][0]:\n",
        "      count += 1\n",
        "  if count >= int(password.split(\"-\")[0]) and count <= int(password.split(\"-\")[1].split(\" \")[0]):\n",
        "    valid += 1\n",
        "print(valid)\n"
      ],
      "execution_count": null,
      "outputs": [
        {
          "output_type": "stream",
          "text": [
            "548\n"
          ],
          "name": "stdout"
        }
      ]
    },
    {
      "cell_type": "code",
      "metadata": {
        "colab": {
          "base_uri": "https://localhost:8080/"
        },
        "id": "iZgVC4Lj6OyB",
        "outputId": "a67d13d7-2fa2-4ff2-9a0b-033e59cfc99f"
      },
      "source": [
        "input = open(\"input.txt\").read()\n",
        "valid = 0\n",
        "for password in input.split(\"\\n\"):\n",
        "  check = password.split(\" \")[1][0]\n",
        "  first = password.split(\": \")[1][int(password.split(\"-\")[0]) - 1]\n",
        "  second = password.split(\": \")[1][int(password.split(\"-\")[1].split(\" \")[0]) - 1]\n",
        "  if (first == check and second != check) or (first != check and second == check):\n",
        "    valid += 1\n",
        "\n",
        "print(valid)\n"
      ],
      "execution_count": null,
      "outputs": [
        {
          "output_type": "stream",
          "text": [
            "502\n"
          ],
          "name": "stdout"
        }
      ]
    },
    {
      "cell_type": "markdown",
      "metadata": {
        "id": "bK_E3WdAC0YS"
      },
      "source": [
        "# Day 3: Toboggan Trajectory"
      ]
    },
    {
      "cell_type": "code",
      "metadata": {
        "colab": {
          "base_uri": "https://localhost:8080/"
        },
        "id": "zGTRVjCJC2S8",
        "outputId": "ae062392-0110-468a-8357-c9b0bea279b6"
      },
      "source": [
        "with open(\"input.txt\") as input:\n",
        "  map = input.read().split()\n",
        "y = 0\n",
        "x = 0\n",
        "trees = 0\n",
        "while y < len(map):\n",
        "  if x >= len(map[0]):\n",
        "    map = [x + x for x in map]\n",
        "  if map[y][x] == '#':\n",
        "    trees += 1\n",
        "  x += 3\n",
        "  y += 1\n",
        "print(trees)"
      ],
      "execution_count": null,
      "outputs": [
        {
          "output_type": "stream",
          "text": [
            "176\n"
          ],
          "name": "stdout"
        }
      ]
    },
    {
      "cell_type": "code",
      "metadata": {
        "colab": {
          "base_uri": "https://localhost:8080/"
        },
        "id": "U7WhebEKGYIf",
        "outputId": "d674f7c0-ab5c-4052-9a1b-4082850d6b75"
      },
      "source": [
        "def slope(h, v, map):\n",
        "  y = 0\n",
        "  x = 0\n",
        "  trees = 0\n",
        "  while y < len(map):\n",
        "    if x >= len(map[0]):\n",
        "      map = [x + x for x in map]\n",
        "    if map[y][x] == '#':\n",
        "      trees += 1\n",
        "    x += h\n",
        "    y += v\n",
        "  return trees\n",
        "\n",
        "with open(\"input.txt\") as input:\n",
        "  map = input.read().split()\n",
        "multiplied = 1\n",
        "for h, v in [(1, 1), (3, 1), (5, 1), (7, 1), (1, 2)]:\n",
        "  multiplied *= slope(h, v, map)\n",
        "print(multiplied)"
      ],
      "execution_count": null,
      "outputs": [
        {
          "output_type": "stream",
          "text": [
            "5872458240\n"
          ],
          "name": "stdout"
        }
      ]
    },
    {
      "cell_type": "markdown",
      "metadata": {
        "id": "C0KMjN2HH_rA"
      },
      "source": [
        "# Day 4: Passport Processing"
      ]
    },
    {
      "cell_type": "code",
      "metadata": {
        "colab": {
          "base_uri": "https://localhost:8080/"
        },
        "id": "Kb1KmZ_FIFj_",
        "outputId": "fcfa5166-4624-4183-ed0e-76acf9563434"
      },
      "source": [
        "with open(\"input.txt\") as input:\n",
        "  batch = input.read().split(\"\\n\\n\")\n",
        "valid = 0\n",
        "for passport in batch:\n",
        "  if all(x in passport for x in [\"byr\", \"iyr\", \"eyr\", \"hgt\", \"hcl\", \"ecl\", \"pid\"]):\n",
        "    valid += 1\n",
        "print(valid)"
      ],
      "execution_count": null,
      "outputs": [
        {
          "output_type": "stream",
          "text": [
            "256\n"
          ],
          "name": "stdout"
        }
      ]
    },
    {
      "cell_type": "code",
      "metadata": {
        "colab": {
          "base_uri": "https://localhost:8080/"
        },
        "id": "EhII3x0tKVk_",
        "outputId": "184ba42d-8712-4430-dfb6-8def7941a2f8"
      },
      "source": [
        "with open(\"input.txt\") as input:\n",
        "  batch = input.read().split(\"\\n\\n\")\n",
        "valid = 0\n",
        "for passport in batch:\n",
        "  if all(x in passport for x in [\"byr\", \"iyr\", \"eyr\", \"hgt\", \"hcl\", \"ecl\", \"pid\"]):\n",
        "    fields = dict([x.split(\":\") for x in passport.split()])\n",
        "    validation = int(fields[\"byr\"]) >= 1920 and int(fields[\"byr\"]) <= 2002\n",
        "    validation = validation and int(fields[\"iyr\"]) >= 2010 and int(fields[\"iyr\"]) <= 2020\n",
        "    validation = validation and int(fields[\"eyr\"]) >= 2020 and int(fields[\"eyr\"]) <= 2030\n",
        "    if fields[\"hgt\"][-2:] == \"cm\":\n",
        "      validation = validation and int(fields[\"hgt\"][:-2]) >= 150 and int(fields[\"hgt\"][:-2]) <= 193\n",
        "    elif fields[\"hgt\"][-2:] == \"in\":\n",
        "      validation = validation and int(fields[\"hgt\"][:-2]) >= 59 and int(fields[\"hgt\"][:-2]) <= 76\n",
        "    else:\n",
        "      validation = False\n",
        "    validation = validation and fields[\"hcl\"][0] == \"#\" and len(fields[\"hcl\"]) == 7 and set(fields[\"hcl\"][1:]) <= set(\"1234567890abcdef\")\n",
        "    validation = validation and fields[\"ecl\"] in [\"amb\", \"blu\", \"brn\", \"gry\", \"grn\", \"hzl\", \"oth\"]\n",
        "    validation = validation and len(fields[\"pid\"]) == 9\n",
        "    if validation:\n",
        "      valid += 1\n",
        "print(valid)"
      ],
      "execution_count": null,
      "outputs": [
        {
          "output_type": "stream",
          "text": [
            "198\n"
          ],
          "name": "stdout"
        }
      ]
    },
    {
      "cell_type": "markdown",
      "metadata": {
        "id": "hy_xUPehoEvV"
      },
      "source": [
        "# Day 5: Binary Boarding"
      ]
    },
    {
      "cell_type": "code",
      "metadata": {
        "id": "m3wAB0FQ4NBb"
      },
      "source": [
        "def decode(seat):\n",
        "  row = range(0, 128)\n",
        "  column = range(0, 8)\n",
        "  for region in seat:\n",
        "    if region == \"F\":\n",
        "      row = row[:len(row) // 2]\n",
        "    elif region == \"B\":\n",
        "      row = row[len(row) // 2:]\n",
        "    elif region == \"L\":\n",
        "      column = column[:len(column) // 2]\n",
        "    elif region == \"R\":\n",
        "      column = column[len(column) // 2:]\n",
        "  return row[0] * 8 + column[0]\n",
        "\n",
        "with open(\"input.txt\") as input:\n",
        "  seats = input.read().split()"
      ],
      "execution_count": null,
      "outputs": []
    },
    {
      "cell_type": "code",
      "metadata": {
        "colab": {
          "base_uri": "https://localhost:8080/"
        },
        "id": "RfKurHABoF4q",
        "outputId": "48060a34-4516-4a12-9ee0-1f807ffeb787"
      },
      "source": [
        "print(max(decode(seat) for seat in seats))"
      ],
      "execution_count": null,
      "outputs": [
        {
          "output_type": "stream",
          "text": [
            "848\n"
          ],
          "name": "stdout"
        }
      ]
    },
    {
      "cell_type": "code",
      "metadata": {
        "colab": {
          "base_uri": "https://localhost:8080/"
        },
        "id": "qxTQG0jS19dM",
        "outputId": "b7b129ca-c7ef-49ff-9b7c-a8e71728dba8"
      },
      "source": [
        "seats_set = set(decode(seat) for seat in seats)\n",
        "print((set(range(min(seats_set), max(seats_set))) - seats_set).pop())"
      ],
      "execution_count": null,
      "outputs": [
        {
          "output_type": "stream",
          "text": [
            "682\n"
          ],
          "name": "stdout"
        }
      ]
    },
    {
      "cell_type": "markdown",
      "metadata": {
        "id": "1IRmu22Udtf9"
      },
      "source": [
        "# Day 6: Custom Customs"
      ]
    },
    {
      "cell_type": "code",
      "metadata": {
        "id": "I0EgDNE9dzlR"
      },
      "source": [
        "with open(\"input.txt\") as input:\n",
        "  groups = input.read().split(\"\\n\\n\")"
      ],
      "execution_count": null,
      "outputs": []
    },
    {
      "cell_type": "code",
      "metadata": {
        "colab": {
          "base_uri": "https://localhost:8080/"
        },
        "id": "Q2g0TOhVeImE",
        "outputId": "6024b151-269d-4335-b28a-ec82200c62a7"
      },
      "source": [
        "sum = 0\n",
        "for group in groups:\n",
        "  sum += len(set(group.replace(\"\\n\", \"\")))\n",
        "print(sum)"
      ],
      "execution_count": null,
      "outputs": [
        {
          "output_type": "stream",
          "text": [
            "6680\n"
          ],
          "name": "stdout"
        }
      ]
    },
    {
      "cell_type": "code",
      "metadata": {
        "colab": {
          "base_uri": "https://localhost:8080/"
        },
        "id": "_z0ccYDMfbNo",
        "outputId": "554e5d60-b973-4808-c8c7-46d7e058f04c"
      },
      "source": [
        "sum = 0\n",
        "for group in groups:\n",
        "  sum += len(set.intersection(*[set(person) for person in group.split(\"\\n\")]))\n",
        "print(sum)"
      ],
      "execution_count": null,
      "outputs": [
        {
          "output_type": "stream",
          "text": [
            "3117\n"
          ],
          "name": "stdout"
        }
      ]
    },
    {
      "cell_type": "markdown",
      "metadata": {
        "id": "Wxg6x8qrmhCV"
      },
      "source": [
        "# Day 7: Handy Haversacks"
      ]
    },
    {
      "cell_type": "code",
      "metadata": {
        "id": "As_-vs81mkof"
      },
      "source": [
        "with open(\"input.txt\") as input:\n",
        "  rules = dict((rule[0], [(bag, int(count)) for count, bag in (bags.split(\" \", 1) for bags in rule[1].split(\", \"))]) for rule in (rule_text.split(\" contain \") for rule_text in input.read().replace(\".\", \"\").replace(\"no\", \"0\").replace(\" bags\", \"\").replace(\" bag\", \"\").split(\"\\n\")))"
      ],
      "execution_count": null,
      "outputs": []
    },
    {
      "cell_type": "code",
      "metadata": {
        "colab": {
          "base_uri": "https://localhost:8080/"
        },
        "id": "FPrt2aC66GL_",
        "outputId": "28168fb2-88b1-4fa4-d171-096d9062dba8"
      },
      "source": [
        "def contains_bag(bags, the_bag):\n",
        "  if bags == the_bag:\n",
        "    return True\n",
        "  for bag, amount in rules[bags]:\n",
        "    if amount and contains_bag(bag, the_bag):\n",
        "      return True\n",
        "  return False\n",
        "\n",
        "count = 0\n",
        "for bag in rules:\n",
        "  count += contains_bag(bag, \"shiny gold\")\n",
        "print(count - 1)"
      ],
      "execution_count": null,
      "outputs": [
        {
          "output_type": "stream",
          "text": [
            "161\n"
          ],
          "name": "stdout"
        }
      ]
    },
    {
      "cell_type": "code",
      "metadata": {
        "colab": {
          "base_uri": "https://localhost:8080/"
        },
        "id": "_WbrlJvV6K7l",
        "outputId": "cadc1d89-1e12-4aba-e75b-53866ba19b37"
      },
      "source": [
        "def count_bags(bags):\n",
        "  count = 1\n",
        "  for bag, amount in rules[bags]:\n",
        "    for _ in range(amount):\n",
        "      count += count_bags(bag)\n",
        "  return count\n",
        "\n",
        "print(count_bags(\"shiny gold\") - 1)"
      ],
      "execution_count": null,
      "outputs": [
        {
          "output_type": "stream",
          "text": [
            "30899\n"
          ],
          "name": "stdout"
        }
      ]
    },
    {
      "cell_type": "markdown",
      "metadata": {
        "id": "amnou2lBwqVT"
      },
      "source": [
        "# Day 8: Handheld Halting"
      ]
    },
    {
      "cell_type": "code",
      "metadata": {
        "id": "kXvvcuYcwuUr"
      },
      "source": [
        "with open(\"input.txt\") as input:\n",
        "  program = [(instruction[0], int(instruction[1])) for instruction in (line.split(\" \") for line in input.read().split(\"\\n\"))]"
      ],
      "execution_count": null,
      "outputs": []
    },
    {
      "cell_type": "code",
      "metadata": {
        "colab": {
          "base_uri": "https://localhost:8080/"
        },
        "id": "qdQIffQPyuYM",
        "outputId": "5d114aac-cfda-45da-8c75-69b262f65e83"
      },
      "source": [
        "acc = 0\n",
        "pc = 0\n",
        "history = set()\n",
        "while not pc in history:\n",
        "  history.add(pc)\n",
        "  (op, arg) = program[pc]\n",
        "  if op == \"acc\":\n",
        "    acc += arg\n",
        "    pc += 1\n",
        "  elif op == \"jmp\":\n",
        "    pc += arg\n",
        "  elif op == \"nop\":\n",
        "    pc += 1\n",
        "print(acc)"
      ],
      "execution_count": null,
      "outputs": [
        {
          "output_type": "stream",
          "text": [
            "1548\n"
          ],
          "name": "stdout"
        }
      ]
    },
    {
      "cell_type": "code",
      "metadata": {
        "colab": {
          "base_uri": "https://localhost:8080/"
        },
        "id": "Rje_qSa024te",
        "outputId": "833be4e9-a0b4-499c-e0cd-41918e4370c3"
      },
      "source": [
        "def swap_jmp_nop(program, index):\n",
        "  if program[index][0] == \"jmp\":\n",
        "    program[index] = (\"nop\", program[index][1])\n",
        "  elif program[index][0] == \"nop\":\n",
        "    program[index] = (\"jmp\", program[index][1])\n",
        "\n",
        "def fix_program(program):\n",
        "  last = None\n",
        "  for i, instruction in enumerate(program):\n",
        "    if instruction[0] != \"acc\":\n",
        "      if last != None:\n",
        "        swap_jmp_nop(program, last)\n",
        "      last = i\n",
        "      swap_jmp_nop(program, i)\n",
        "      yield program\n",
        "  if last != None:\n",
        "    swap_jmp_nop(program, last)\n",
        "\n",
        "def fixed_acc(program):\n",
        "  for fixed in fix_program(program):\n",
        "    acc = 0\n",
        "    pc = 0\n",
        "    history = set()\n",
        "    while not pc in history:\n",
        "      if pc >= len(fixed):\n",
        "        return acc\n",
        "      history.add(pc)\n",
        "      (op, arg) = fixed[pc]\n",
        "      if op == \"acc\":\n",
        "        acc += arg\n",
        "        pc += 1\n",
        "      elif op == \"jmp\":\n",
        "        pc += arg\n",
        "      elif op == \"nop\":\n",
        "        pc += 1\n",
        "\n",
        "print(fixed_acc(program))"
      ],
      "execution_count": null,
      "outputs": [
        {
          "output_type": "stream",
          "text": [
            "1375\n"
          ],
          "name": "stdout"
        }
      ]
    },
    {
      "cell_type": "markdown",
      "metadata": {
        "id": "9KmbSxmz5xJ0"
      },
      "source": [
        "# Day 9: Encoding Error"
      ]
    },
    {
      "cell_type": "code",
      "metadata": {
        "id": "_macUt9z_184"
      },
      "source": [
        "with open(\"input.txt\") as input:\r\n",
        "  numbers = [*map(int, input.read().split())]\r\n",
        "preamble = 25\r\n",
        "\r\n",
        "def is_valid(i, number):\r\n",
        "  for a in numbers[i - preamble:i]:\r\n",
        "    for b in numbers[i - preamble:i]:\r\n",
        "      if a + b == number and not a == b:\r\n",
        "        return True\r\n",
        "  return False\r\n",
        "\r\n",
        "def find_invalid():\r\n",
        "  for i, number in enumerate(numbers):\r\n",
        "    if i > preamble:\r\n",
        "      if not is_valid(i, number):\r\n",
        "        return number"
      ],
      "execution_count": null,
      "outputs": []
    },
    {
      "cell_type": "code",
      "metadata": {
        "colab": {
          "base_uri": "https://localhost:8080/"
        },
        "id": "JROsOtae5yOx",
        "outputId": "74f794a5-0fc9-4f62-8398-eaa38dce9796"
      },
      "source": [
        "print(find_invalid())"
      ],
      "execution_count": null,
      "outputs": [
        {
          "output_type": "stream",
          "text": [
            "22477624\n"
          ],
          "name": "stdout"
        }
      ]
    },
    {
      "cell_type": "code",
      "metadata": {
        "colab": {
          "base_uri": "https://localhost:8080/"
        },
        "id": "C0nZ_U3L_0di",
        "outputId": "302d380c-2435-4385-d968-8c71cf80cca5"
      },
      "source": [
        "def sum_to_invalid(number):\r\n",
        "  for a in range(len(numbers)):\r\n",
        "    for b in range(a, len(numbers)):\r\n",
        "      if sum(numbers[a:b]) == number:\r\n",
        "        return min(numbers[a:b]) + max(numbers[a:b])\r\n",
        "\r\n",
        "print(sum_to_invalid(find_invalid()))"
      ],
      "execution_count": null,
      "outputs": [
        {
          "output_type": "stream",
          "text": [
            "2980044\n"
          ],
          "name": "stdout"
        }
      ]
    },
    {
      "cell_type": "markdown",
      "metadata": {
        "id": "4GC9GhDJBcli"
      },
      "source": [
        "# Day 10: Adapter Array"
      ]
    },
    {
      "cell_type": "code",
      "metadata": {
        "id": "TsDVsJ6mBdhc"
      },
      "source": [
        "with open(\"input.txt\") as input:\r\n",
        "  adapters = [*map(int, input.read().split())]"
      ],
      "execution_count": null,
      "outputs": []
    },
    {
      "cell_type": "code",
      "metadata": {
        "colab": {
          "base_uri": "https://localhost:8080/"
        },
        "id": "QVp5yHaIFYxY",
        "outputId": "c4a3a908-dedc-4128-ffbe-ae27e555d10d"
      },
      "source": [
        "adapters_sorted = adapters.copy()\r\n",
        "adapters_sorted.sort()\r\n",
        "diff1 = 0\r\n",
        "diff3 = 1\r\n",
        "last = 0\r\n",
        "for jolt in adapters_sorted:\r\n",
        "  if jolt - last == 1:\r\n",
        "    diff1 += 1\r\n",
        "  elif jolt - last == 3:\r\n",
        "    diff3 += 1\r\n",
        "  last = jolt\r\n",
        "print(diff1 * diff3)"
      ],
      "execution_count": null,
      "outputs": [
        {
          "output_type": "stream",
          "text": [
            "1980\n"
          ],
          "name": "stdout"
        }
      ]
    },
    {
      "cell_type": "code",
      "metadata": {
        "id": "oemMYh3PQn2T",
        "colab": {
          "base_uri": "https://localhost:8080/"
        },
        "outputId": "c226c3a2-3f03-4029-fdd5-b7740f42a41c"
      },
      "source": [
        "connections = {0: 1}\r\n",
        "def combinations(jolts, last):\r\n",
        "  if not last in connections:\r\n",
        "    connections[last] = sum(combinations({next for next in jolts if next < jolt}, jolt) for jolt in jolts if last - jolt <= 3)\r\n",
        "  return connections[last]\r\n",
        "\r\n",
        "print(combinations(set(adapters + [0]), max(adapters) + 3))"
      ],
      "execution_count": null,
      "outputs": [
        {
          "output_type": "stream",
          "text": [
            "4628074479616\n"
          ],
          "name": "stdout"
        }
      ]
    },
    {
      "cell_type": "markdown",
      "metadata": {
        "id": "jO3NNr4ZM0wi"
      },
      "source": [
        "# Day 11: Seating System"
      ]
    },
    {
      "cell_type": "code",
      "metadata": {
        "id": "ALISdUZRZ6aE"
      },
      "source": [
        "with open(\"input.txt\") as input:\r\n",
        "  layout = [*map(list, input.read().split())]\r\n",
        "\r\n",
        "def update(layout, tolerance):\r\n",
        "  updated = [row.copy() for row in layout]\r\n",
        "  for row in range(len(layout)):\r\n",
        "    for column in range(len(layout[0])):\r\n",
        "      if layout[row][column] == \"L\" and adjacent(layout, row, column) == 0:\r\n",
        "        updated[row][column] = \"#\"\r\n",
        "      elif layout[row][column] == \"#\" and adjacent(layout, row, column) >= tolerance:\r\n",
        "        updated[row][column] = \"L\"\r\n",
        "  return updated\r\n",
        "\r\n",
        "def count_occupied(layout, tolerance):\r\n",
        "  last_layout = [[]]\r\n",
        "  while last_layout != layout:\r\n",
        "    last_layout = layout\r\n",
        "    layout = update(layout, tolerance)\r\n",
        "  count = 0\r\n",
        "  for row in layout:\r\n",
        "    for seat in row:\r\n",
        "      if seat == \"#\":\r\n",
        "        count += 1\r\n",
        "  return count"
      ],
      "execution_count": null,
      "outputs": []
    },
    {
      "cell_type": "code",
      "metadata": {
        "colab": {
          "base_uri": "https://localhost:8080/"
        },
        "id": "hbjvK8l2M2Yq",
        "outputId": "190055a3-561b-42b0-a8d4-fed03938f2d7"
      },
      "source": [
        "def adjacent(layout, row, column):\r\n",
        "  count = 0\r\n",
        "  for i in range(-1 if row > 0 else 0, 2 if row < len(layout) - 1 else 1):\r\n",
        "    for j in range(-1 if column > 0 else 0, 2 if column < len(layout[0]) - 1 else 1):\r\n",
        "      if (i or j) and layout[row + i][column + j] == \"#\":\r\n",
        "        count += 1\r\n",
        "  return count\r\n",
        "\r\n",
        "print(count_occupied(layout, 4))"
      ],
      "execution_count": null,
      "outputs": [
        {
          "output_type": "stream",
          "text": [
            "2108\n"
          ],
          "name": "stdout"
        }
      ]
    },
    {
      "cell_type": "code",
      "metadata": {
        "colab": {
          "base_uri": "https://localhost:8080/"
        },
        "id": "Z_pL5_wHZ3kF",
        "outputId": "5b4fa95a-0b23-4b2b-a125-e114b6933ae2"
      },
      "source": [
        "def visible(layout, row, column, x, y):\r\n",
        "  while row + x > -1 and row + x < len(layout) and column + y > -1 and column + y < len(layout[0]) and layout[row + x][column + y] != \"L\":\r\n",
        "    if layout[row + x][column + y] == \"#\":\r\n",
        "      return True\r\n",
        "    row += x\r\n",
        "    column += y\r\n",
        "  return False\r\n",
        "\r\n",
        "def adjacent(layout, row, column):\r\n",
        "  count = 0\r\n",
        "  for i in range(-1, 2):\r\n",
        "    for j in range(-1, 2):\r\n",
        "      if i or j:\r\n",
        "        if visible(layout, row, column, i, j):\r\n",
        "          count += 1\r\n",
        "  return count\r\n",
        "\r\n",
        "print(count_occupied(layout, 5))"
      ],
      "execution_count": null,
      "outputs": [
        {
          "output_type": "stream",
          "text": [
            "1897\n"
          ],
          "name": "stdout"
        }
      ]
    },
    {
      "cell_type": "markdown",
      "metadata": {
        "id": "Wrv0brTItPlf"
      },
      "source": [
        "# Day 12: Rain Risk"
      ]
    },
    {
      "cell_type": "code",
      "metadata": {
        "id": "5PZYQctxtS9r"
      },
      "source": [
        "with open(\"input.txt\") as input:\r\n",
        "  instructions = [(instruction[0], int(instruction[1:])) for instruction in input.read().split()]"
      ],
      "execution_count": null,
      "outputs": []
    },
    {
      "cell_type": "code",
      "metadata": {
        "colab": {
          "base_uri": "https://localhost:8080/"
        },
        "id": "eRhgc9c_weqE",
        "outputId": "9314efad-dc72-4f46-a09b-db9df9826eb5"
      },
      "source": [
        "directions = {\r\n",
        "    -3: \"N\",\r\n",
        "    -2: \"W\",\r\n",
        "    -1: \"S\",\r\n",
        "    0: \"E\",\r\n",
        "    1: \"N\",\r\n",
        "    2: \"W\",\r\n",
        "    3: \"S\"\r\n",
        "}\r\n",
        "\r\n",
        "move = {\r\n",
        "    \"N\": lambda value, ship: ship[:1] + (ship[1] + value,) + ship[2:],\r\n",
        "    \"S\": lambda value, ship: ship[:1] + (ship[1] - value,) + ship[2:],\r\n",
        "    \"E\": lambda value, ship: (ship[0] + value,) + ship[1:],\r\n",
        "    \"W\": lambda value, ship: (ship[0] - value,) + ship[1:],\r\n",
        "    \"L\": lambda value, ship: ship[:2] + (ship[2] + value // 90,),\r\n",
        "    \"R\": lambda value, ship: ship[:2] + (ship[2] - value // 90,),\r\n",
        "    \"F\": lambda value, ship: move[directions[ship[2] % 4]](value, ship)\r\n",
        "}\r\n",
        "\r\n",
        "ferry = (0, 0, 0)\r\n",
        "for action, value in instructions:\r\n",
        "  ferry = move[action](value, ferry)\r\n",
        "\r\n",
        "print(abs(ferry[0]) + abs(ferry[1]))"
      ],
      "execution_count": null,
      "outputs": [
        {
          "output_type": "stream",
          "text": [
            "1710\n"
          ],
          "name": "stdout"
        }
      ]
    },
    {
      "cell_type": "code",
      "metadata": {
        "colab": {
          "base_uri": "https://localhost:8080/"
        },
        "id": "3OVDUQJZCtUn",
        "outputId": "dff66cde-209f-4a5b-a5be-64e0170130be"
      },
      "source": [
        "rotations = {\r\n",
        "    0: lambda waypoint: waypoint,\r\n",
        "    1: lambda waypoint: (-waypoint[1], waypoint[0]),\r\n",
        "    2: lambda waypoint: (-waypoint[0], -waypoint[1]),\r\n",
        "    3: lambda waypoint: (waypoint[1], -waypoint[0])\r\n",
        "}\r\n",
        "\r\n",
        "move = {\r\n",
        "    \"N\": lambda value, waypoint: (waypoint[0], waypoint[1] + value),\r\n",
        "    \"S\": lambda value, waypoint: (waypoint[0], waypoint[1] - value),\r\n",
        "    \"E\": lambda value, waypoint: (waypoint[0] + value, waypoint[1]),\r\n",
        "    \"W\": lambda value, waypoint: (waypoint[0] - value, waypoint[1]),\r\n",
        "    \"L\": lambda value, waypoint: rotations[value // 90 % 4](waypoint),\r\n",
        "    \"R\": lambda value, waypoint: rotations[(4 - value // 90) % 4](waypoint)\r\n",
        "}\r\n",
        "\r\n",
        "ferry = (0, 0)\r\n",
        "waypoint = (10, 1)\r\n",
        "for action, value in instructions:\r\n",
        "  if action == \"F\":\r\n",
        "    ferry = (ferry[0] + waypoint[0] * value, ferry[1] + waypoint[1] * value)\r\n",
        "  else:\r\n",
        "    waypoint = move[action](value, waypoint)\r\n",
        "\r\n",
        "print(abs(ferry[0]) + abs(ferry[1]))"
      ],
      "execution_count": null,
      "outputs": [
        {
          "output_type": "stream",
          "text": [
            "62045\n"
          ],
          "name": "stdout"
        }
      ]
    },
    {
      "cell_type": "markdown",
      "metadata": {
        "id": "Bk4fmgE4nD4G"
      },
      "source": [
        "# Day 13: Shuttle Search"
      ]
    },
    {
      "cell_type": "code",
      "metadata": {
        "colab": {
          "base_uri": "https://localhost:8080/"
        },
        "id": "U8SgXnpMnGI4",
        "outputId": "d3863b34-1281-4dd1-dfc5-e27d74e92117"
      },
      "source": [
        "with open(\"input.txt\") as input:\r\n",
        "  input = input.read().replace(\"x,\", \"\").split()\r\n",
        "  timestamp = int(input[0])\r\n",
        "  ids = [*map(int, input[1].split(\",\"))]\r\n",
        "\r\n",
        "times = ids.copy()\r\n",
        "while all(time < timestamp for time in times):\r\n",
        "  times = [time + id for time, id in zip(times, ids)]\r\n",
        "\r\n",
        "print(min((time - timestamp) * id for time, id in zip(times, ids) if time > timestamp))"
      ],
      "execution_count": null,
      "outputs": [
        {
          "output_type": "stream",
          "text": [
            "3865\n"
          ],
          "name": "stdout"
        }
      ]
    },
    {
      "cell_type": "code",
      "metadata": {
        "colab": {
          "base_uri": "https://localhost:8080/"
        },
        "id": "P8XVeDRZzx71",
        "outputId": "d00db246-cc23-4889-c252-ae1bca7b1b6a"
      },
      "source": [
        "with open(\"input.txt\") as input:\r\n",
        "  ids = ((offset, int(id)) for offset, id in enumerate(input.read().partition(\"\\n\")[2].split(\",\")) if id != 'x')\r\n",
        "\r\n",
        "expression = list()\r\n",
        "for offset, id in ids:\r\n",
        "  expression.append(f\"(t+{offset})%{id}=0\")\r\n",
        "\r\n",
        "print(\",\".join(expression))"
      ],
      "execution_count": null,
      "outputs": [
        {
          "output_type": "stream",
          "text": [
            "(t+0)%13=0,(t+7)%37=0,(t+13)%449=0,(t+15)%29=0,(t+32)%19=0,(t+36)%23=0,(t+44)%773=0,(t+54)%41=0,(t+61)%17=0\n"
          ],
          "name": "stdout"
        }
      ]
    },
    {
      "cell_type": "markdown",
      "metadata": {
        "id": "I5YpzdSunbwa"
      },
      "source": [
        "# Day 14: Docking Data"
      ]
    },
    {
      "cell_type": "code",
      "metadata": {
        "id": "OTyHvcqmSO83"
      },
      "source": [
        "with open(\"input.txt\") as input:\r\n",
        "  program = input.read().splitlines()"
      ],
      "execution_count": null,
      "outputs": []
    },
    {
      "cell_type": "code",
      "metadata": {
        "colab": {
          "base_uri": "https://localhost:8080/"
        },
        "id": "bWUfAuJ9qvG0",
        "outputId": "268c9a2f-4ebb-4759-9009-7417ab9213fd"
      },
      "source": [
        "mem = dict()\r\n",
        "for line in program:\r\n",
        "  if line[:4] == \"mask\":\r\n",
        "    mask = line[7:]\r\n",
        "    setmask = int(mask.replace('X', '0'), 2)\r\n",
        "    clearmask = int(mask.replace('X', '1'), 2)\r\n",
        "  elif line[:3] == \"mem\":\r\n",
        "    exec(line + \" & clearmask | setmask\")\r\n",
        "print(sum(mem.values()))"
      ],
      "execution_count": null,
      "outputs": [
        {
          "output_type": "stream",
          "text": [
            "17028179706934\n"
          ],
          "name": "stdout"
        }
      ]
    },
    {
      "cell_type": "code",
      "metadata": {
        "colab": {
          "base_uri": "https://localhost:8080/"
        },
        "id": "fjDHQ1juIS4B",
        "outputId": "1edcb2c8-65af-4bbb-d69d-6c80330d98c4"
      },
      "source": [
        "def substitute(string, character, sequence):\r\n",
        "  index = 0\r\n",
        "  string = list(string)\r\n",
        "  for i, char in enumerate(string):\r\n",
        "    if char == character and index < len(sequence):\r\n",
        "      string[i] = sequence[index]\r\n",
        "      index += 1\r\n",
        "  return \"\".join(string)\r\n",
        "\r\n",
        "mem = dict()\r\n",
        "for line in program:\r\n",
        "  if line[:4] == \"mask\":\r\n",
        "    mask = line[7:]\r\n",
        "    count = mask.count('X')\r\n",
        "    masks = list()\r\n",
        "    for j in range(1 << count):\r\n",
        "      masks.append(f\"\"\" & 0b{substitute(mask.replace('0', '1'), 'X', f\"{j:0{count}b}\")} | 0b{substitute(mask, 'X', f\"{j:0{count}b}\")}\"\"\")\r\n",
        "  elif line[:3] == \"mem\":\r\n",
        "    address = line.partition(']')\r\n",
        "    for mask in masks:\r\n",
        "      exec(address[0] + mask + address[1] + address[2])\r\n",
        "print(sum(mem.values()))"
      ],
      "execution_count": null,
      "outputs": [
        {
          "output_type": "stream",
          "text": [
            "3683236147222\n"
          ],
          "name": "stdout"
        }
      ]
    },
    {
      "cell_type": "markdown",
      "metadata": {
        "id": "EkU0XXHp6Pzr"
      },
      "source": [
        "# Day 15: Rambunctious Recitation"
      ]
    },
    {
      "cell_type": "code",
      "metadata": {
        "id": "g79ksUxa6Rhy"
      },
      "source": [
        "with open(\"input.txt\") as input:\r\n",
        "  starting = [*map(int, input.read().split(\",\"))]\r\n",
        "\r\n",
        "def spoken_at(number_spoken):\r\n",
        "  numbers = dict()\r\n",
        "  for turn, spoken in enumerate(starting):\r\n",
        "    numbers[spoken] = (turn,)\r\n",
        "  for turn in range(turn + 1, number_spoken):\r\n",
        "    spoken = (turn - numbers[spoken][0] if len(numbers[spoken]) == 1 else numbers[spoken][0] - numbers[spoken][1]) if len(numbers[spoken]) > 1 else 0\r\n",
        "    numbers[spoken] = (turn,) + numbers[spoken][:2] if spoken in numbers else (turn,)\r\n",
        "  return spoken"
      ],
      "execution_count": 134,
      "outputs": []
    },
    {
      "cell_type": "code",
      "metadata": {
        "colab": {
          "base_uri": "https://localhost:8080/"
        },
        "id": "9kvTDTs3Ugk_",
        "outputId": "0ef070c1-1533-4ade-e6b8-c466a5bbace7"
      },
      "source": [
        "print(spoken_at(2020))"
      ],
      "execution_count": 136,
      "outputs": [
        {
          "output_type": "stream",
          "text": [
            "260\n"
          ],
          "name": "stdout"
        }
      ]
    },
    {
      "cell_type": "code",
      "metadata": {
        "colab": {
          "base_uri": "https://localhost:8080/"
        },
        "id": "7k3qgiu3VL3p",
        "outputId": "91288faf-4c92-4c82-de7d-488ed3de6de8"
      },
      "source": [
        "print(spoken_at(30000000))"
      ],
      "execution_count": 137,
      "outputs": [
        {
          "output_type": "stream",
          "text": [
            "950\n"
          ],
          "name": "stdout"
        }
      ]
    },
    {
      "cell_type": "markdown",
      "metadata": {
        "id": "D9STclNq7A7c"
      },
      "source": [
        "# Day 16: Ticket Translation"
      ]
    },
    {
      "cell_type": "code",
      "metadata": {
        "id": "pD2GPEyb7B9M"
      },
      "source": [
        "with open(\"input.txt\") as input:\r\n",
        "  notes = input.read().split(\"\\n\\n\")\r\n",
        "  rules = {field[0]: tuple(tuple(int(number) for number in ranges.split(\"-\")) for ranges in field[1].split(\" or \")) for field in (note.split(\": \") for note in notes[0].splitlines())}\r\n",
        "  nearby = tuple(tuple(map(int, ticket.split(\",\"))) for ticket in notes[2].replace(\"nearby tickets:\\n\", \"\").splitlines())\r\n",
        "  my = tuple(map(int, notes[1].replace(\"your ticket:\\n\", \"\").split(\",\")))\r\n",
        "\r\n",
        "def field_valid(field):\r\n",
        "  return any(rule[0] <= field <= rule[1] for rule in (number for rule in rules.values() for number in rule))"
      ],
      "execution_count": 50,
      "outputs": []
    },
    {
      "cell_type": "code",
      "metadata": {
        "colab": {
          "base_uri": "https://localhost:8080/"
        },
        "id": "X0ylsZ3KAQvV",
        "outputId": "aa713b24-5d4f-46ef-9139-81765bf91097"
      },
      "source": [
        "%%time\r\n",
        "print(sum(field for ticket in nearby for field in ticket if not field_valid(field)))"
      ],
      "execution_count": 43,
      "outputs": [
        {
          "output_type": "stream",
          "text": [
            "29851\n",
            "CPU times: user 6.43 ms, sys: 0 ns, total: 6.43 ms\n",
            "Wall time: 6.77 ms\n"
          ],
          "name": "stdout"
        }
      ]
    },
    {
      "cell_type": "code",
      "metadata": {
        "colab": {
          "base_uri": "https://localhost:8080/"
        },
        "id": "Lu2VQomDLocQ",
        "outputId": "97d50d4d-ec2d-40a0-df20-211beec849e6"
      },
      "source": [
        "%%time\r\n",
        "from functools import reduce\r\n",
        "from operator import mul\r\n",
        "from time import time\r\n",
        "\r\n",
        "valid = tuple(ticket for ticket in nearby if all(field_valid(field) for field in ticket))\r\n",
        "remaining_rules = set(rules)\r\n",
        "rules_index = dict()\r\n",
        "while remaining_rules:\r\n",
        "  for rule in remaining_rules:\r\n",
        "    count = 0\r\n",
        "    for i in range(len(my)):\r\n",
        "      if not i in rules_index.values() and all(rules[rule][0][0] <= field <= rules[rule][0][1] or rules[rule][1][0] <= field <= rules[rule][1][1] for field in (ticket[i] for ticket in valid)):\r\n",
        "        count += 1\r\n",
        "        position = i\r\n",
        "    if count == 1:\r\n",
        "      remaining_rules.remove(rule)\r\n",
        "      rules_index[rule] = position\r\n",
        "      break\r\n",
        "print(reduce(mul, (my[rules_index[rule]] for rule in rules_index if rule[:9] == \"departure\")))"
      ],
      "execution_count": 57,
      "outputs": [
        {
          "output_type": "stream",
          "text": [
            "3029180675981\n",
            "CPU times: user 96 ms, sys: 975 µs, total: 97 ms\n",
            "Wall time: 97.8 ms\n"
          ],
          "name": "stdout"
        }
      ]
    }
  ]
}